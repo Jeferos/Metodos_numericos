{
 "cells": [
  {
   "cell_type": "markdown",
   "metadata": {},
   "source": [
    "## Método de Runge-Kutta 5to orden - Butcher\n",
    "#### Ejercicio:"
   ]
  },
  {
   "cell_type": "markdown",
   "metadata": {},
   "source": [
    "Resuelva el siguiente problemas de valor inicial:"
   ]
  },
  {
   "cell_type": "markdown",
   "metadata": {},
   "source": [
    "$$\\frac{dy}{dx} = -2x^3 + 12x^2 - 20x+8.5$$"
   ]
  },
  {
   "cell_type": "markdown",
   "metadata": {},
   "source": [
    "mediante el método de Runge-Kutta de 5to orden con: $y(0) = 1,\\; y(4) = ? $"
   ]
  },
  {
   "cell_type": "markdown",
   "metadata": {},
   "source": [
    "#### Solución:\n"
   ]
  },
  {
   "cell_type": "code",
   "execution_count": 1,
   "metadata": {},
   "outputs": [],
   "source": [
    "# Librerías necesarias\n",
    "import pandas as pd\n",
    "from IPython.display import Math, display"
   ]
  },
  {
   "cell_type": "code",
   "execution_count": 6,
   "metadata": {},
   "outputs": [],
   "source": [
    "# Iniciamos variables\n",
    "x0 = 0.0\t\t# Condición inicial\n",
    "y0 = 1.0\t\t# Condición inicial\n",
    "x1 = 4.0\t\t\n",
    "\n",
    "k = 0.5      # Tamaño de paso\n",
    "n = int(abs(x1 - x0)/k)\t# Número de intervalos\n",
    "f = lambda x, y: -2 * x ** 3 + 12 * x ** 2 - 20 * x + 8.5       # Ecuación"
   ]
  },
  {
   "cell_type": "markdown",
   "metadata": {},
   "source": [
    "Uilizaremos las siguientes ecuaciones:"
   ]
  },
  {
   "cell_type": "markdown",
   "metadata": {},
   "source": [
    "$$y_{i+1}=y_i + \\frac{1}{90}(7k_1+32k_3+12k_4+32k_5+7k_6)k$$\n",
    "donde:\n",
    "$$k_1 = f(x_i,y_i)$$\n",
    "$$k_2 = f(x_i + \\frac{1}{4}k,y_i + \\frac{1}{4}k_1k)$$\n",
    "$$k_3 = f(x_i + \\frac{1}{4}k,y_i + \\frac{1}{8}k_1k + \\frac{1}{8}k_2k)$$\n",
    "$$k_4 = f(x_i + \\frac{1}{2}k,y_i - \\frac{1}{2}k_2k + k_3k)$$\n",
    "$$k_5 = f(x_i + \\frac{3}{4}k,y_i + \\frac{3}{16}k_1k + \\frac{9}{16}k_4k)$$\n",
    "\n",
    "$$k_6 = f(x_i + k, y_i - \\frac{3}{7}k_1k + \\frac{2}{7}k_2k + \\frac{12}{7}k_3k - \\frac{12}{7}k_4k + \\frac{8}{7}k_5k)$$\n"
   ]
  },
  {
   "cell_type": "markdown",
   "metadata": {},
   "source": [
    "Iteramos:"
   ]
  },
  {
   "cell_type": "code",
   "execution_count": 7,
   "metadata": {},
   "outputs": [],
   "source": [
    "tbl = dict()\n",
    "paso = [0]\n",
    "y_ = [y0]\n",
    "for i in range(n):\n",
    "    k1 = f(x0 + k * i, y0)\n",
    "    k2 = f(x0 + k * i + k / 4, y0 + k1 * k / 4)\n",
    "    k3 = f(x0 + k * i + k / 4, y0 + k1 * k / 8 + k2 * k / 8)\n",
    "    k4 = f(x0 + k * i + k / 2, y0 - k2 * k / 2 + k3 * k)\n",
    "    k5 = f(x0 + k * i + 3 * k / 4, y0 + 3 * k1 * k / 16 + 9 * k4 * k / 16)\n",
    "    k6 = f(x0 + k * i + k, y0 - 3 * k1 * k / 7 + 2 * k2 * k / 7 + 12 * k3 * k / 7 - 12 * k4 * k / 7 + 8 * k5 * k / 7)\n",
    "    \n",
    "    y0 = y0 + k * (7 * k1 + 32 * k3 + 12 * k4 + 32 * k5 + 7 * k6) / 90\n",
    "    y_.append(y0)\n",
    "    paso.append(k*(i+1))\n",
    "\t\n",
    "tbl['$x$'] = paso\n",
    "tbl['$y_{rk5}$'] = y_"
   ]
  },
  {
   "cell_type": "markdown",
   "metadata": {},
   "source": [
    "#### Resultados:"
   ]
  },
  {
   "cell_type": "code",
   "execution_count": 8,
   "metadata": {},
   "outputs": [
    {
     "data": {
      "text/html": [
       "<style  type=\"text/css\" >\n",
       "</style><table id=\"T_bbae9839_6704_11eb_94a9_1831bf5167b2\" ><caption><h4>Tabla de Resultados<h4></caption><thead>    <tr>        <th class=\"blank level0\" ></th>        <th class=\"col_heading level0 col0\" >$x$</th>        <th class=\"col_heading level0 col1\" >$y_{rk5}$</th>    </tr></thead><tbody>\n",
       "                <tr>\n",
       "                        <th id=\"T_bbae9839_6704_11eb_94a9_1831bf5167b2level0_row0\" class=\"row_heading level0 row0\" >0</th>\n",
       "                        <td id=\"T_bbae9839_6704_11eb_94a9_1831bf5167b2row0_col0\" class=\"data row0 col0\" >0.00</td>\n",
       "                        <td id=\"T_bbae9839_6704_11eb_94a9_1831bf5167b2row0_col1\" class=\"data row0 col1\" >1.0000</td>\n",
       "            </tr>\n",
       "            <tr>\n",
       "                        <th id=\"T_bbae9839_6704_11eb_94a9_1831bf5167b2level0_row1\" class=\"row_heading level0 row1\" >1</th>\n",
       "                        <td id=\"T_bbae9839_6704_11eb_94a9_1831bf5167b2row1_col0\" class=\"data row1 col0\" >0.50</td>\n",
       "                        <td id=\"T_bbae9839_6704_11eb_94a9_1831bf5167b2row1_col1\" class=\"data row1 col1\" >3.2188</td>\n",
       "            </tr>\n",
       "            <tr>\n",
       "                        <th id=\"T_bbae9839_6704_11eb_94a9_1831bf5167b2level0_row2\" class=\"row_heading level0 row2\" >2</th>\n",
       "                        <td id=\"T_bbae9839_6704_11eb_94a9_1831bf5167b2row2_col0\" class=\"data row2 col0\" >1.00</td>\n",
       "                        <td id=\"T_bbae9839_6704_11eb_94a9_1831bf5167b2row2_col1\" class=\"data row2 col1\" >3.0000</td>\n",
       "            </tr>\n",
       "            <tr>\n",
       "                        <th id=\"T_bbae9839_6704_11eb_94a9_1831bf5167b2level0_row3\" class=\"row_heading level0 row3\" >3</th>\n",
       "                        <td id=\"T_bbae9839_6704_11eb_94a9_1831bf5167b2row3_col0\" class=\"data row3 col0\" >1.50</td>\n",
       "                        <td id=\"T_bbae9839_6704_11eb_94a9_1831bf5167b2row3_col1\" class=\"data row3 col1\" >2.2188</td>\n",
       "            </tr>\n",
       "            <tr>\n",
       "                        <th id=\"T_bbae9839_6704_11eb_94a9_1831bf5167b2level0_row4\" class=\"row_heading level0 row4\" >4</th>\n",
       "                        <td id=\"T_bbae9839_6704_11eb_94a9_1831bf5167b2row4_col0\" class=\"data row4 col0\" >2.00</td>\n",
       "                        <td id=\"T_bbae9839_6704_11eb_94a9_1831bf5167b2row4_col1\" class=\"data row4 col1\" >2.0000</td>\n",
       "            </tr>\n",
       "            <tr>\n",
       "                        <th id=\"T_bbae9839_6704_11eb_94a9_1831bf5167b2level0_row5\" class=\"row_heading level0 row5\" >5</th>\n",
       "                        <td id=\"T_bbae9839_6704_11eb_94a9_1831bf5167b2row5_col0\" class=\"data row5 col0\" >2.50</td>\n",
       "                        <td id=\"T_bbae9839_6704_11eb_94a9_1831bf5167b2row5_col1\" class=\"data row5 col1\" >2.7188</td>\n",
       "            </tr>\n",
       "            <tr>\n",
       "                        <th id=\"T_bbae9839_6704_11eb_94a9_1831bf5167b2level0_row6\" class=\"row_heading level0 row6\" >6</th>\n",
       "                        <td id=\"T_bbae9839_6704_11eb_94a9_1831bf5167b2row6_col0\" class=\"data row6 col0\" >3.00</td>\n",
       "                        <td id=\"T_bbae9839_6704_11eb_94a9_1831bf5167b2row6_col1\" class=\"data row6 col1\" >4.0000</td>\n",
       "            </tr>\n",
       "            <tr>\n",
       "                        <th id=\"T_bbae9839_6704_11eb_94a9_1831bf5167b2level0_row7\" class=\"row_heading level0 row7\" >7</th>\n",
       "                        <td id=\"T_bbae9839_6704_11eb_94a9_1831bf5167b2row7_col0\" class=\"data row7 col0\" >3.50</td>\n",
       "                        <td id=\"T_bbae9839_6704_11eb_94a9_1831bf5167b2row7_col1\" class=\"data row7 col1\" >4.7188</td>\n",
       "            </tr>\n",
       "            <tr>\n",
       "                        <th id=\"T_bbae9839_6704_11eb_94a9_1831bf5167b2level0_row8\" class=\"row_heading level0 row8\" >8</th>\n",
       "                        <td id=\"T_bbae9839_6704_11eb_94a9_1831bf5167b2row8_col0\" class=\"data row8 col0\" >4.00</td>\n",
       "                        <td id=\"T_bbae9839_6704_11eb_94a9_1831bf5167b2row8_col1\" class=\"data row8 col1\" >3.0000</td>\n",
       "            </tr>\n",
       "    </tbody></table>"
      ],
      "text/plain": [
       "<pandas.io.formats.style.Styler at 0xdd2fb08>"
      ]
     },
     "execution_count": 8,
     "metadata": {},
     "output_type": "execute_result"
    }
   ],
   "source": [
    "format_d={'$x$':'{:.2f}','$y_{rk5}$':'{:.4f}'}\n",
    "df = pd.DataFrame(tbl).style.set_caption(\"<h4>Tabla de Resultados<h4>\").format(format_d)\n",
    "df"
   ]
  },
  {
   "cell_type": "markdown",
   "metadata": {},
   "source": [
    "Al realizar el procedimiento se llega a:"
   ]
  },
  {
   "cell_type": "code",
   "execution_count": 9,
   "metadata": {},
   "outputs": [
    {
     "data": {
      "text/latex": [
       "$\\displaystyle y_{8} = y(4.0) = 3.0000$"
      ],
      "text/plain": [
       "<IPython.core.display.Math object>"
      ]
     },
     "metadata": {},
     "output_type": "display_data"
    }
   ],
   "source": [
    "display(Math(r\"$y_{%s} = y(%s) = %.4f$\" %(len(y_) - 1 ,x1,y0)))"
   ]
  }
 ],
 "metadata": {
  "kernelspec": {
   "display_name": "Python 3",
   "language": "python",
   "name": "python3"
  },
  "language_info": {
   "codemirror_mode": {
    "name": "ipython",
    "version": 3
   },
   "file_extension": ".py",
   "mimetype": "text/x-python",
   "name": "python",
   "nbconvert_exporter": "python",
   "pygments_lexer": "ipython3",
   "version": "3.8.5"
  }
 },
 "nbformat": 4,
 "nbformat_minor": 4
}
