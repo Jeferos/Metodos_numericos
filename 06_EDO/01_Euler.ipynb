{
 "cells": [
  {
   "cell_type": "markdown",
   "metadata": {},
   "source": [
    "## Método de Euler\n",
    "#### Ejercicio:"
   ]
  },
  {
   "cell_type": "markdown",
   "metadata": {},
   "source": [
    "Con el método de Euler integre numéricamente la ecuación:"
   ]
  },
  {
   "cell_type": "markdown",
   "metadata": {},
   "source": [
    "$$\\frac{dy}{dx} = -2x^3 +12x^2 - 20x + 8.5$$"
   ]
  },
  {
   "cell_type": "markdown",
   "metadata": {},
   "source": [
    "desde $x = 0$ hasta $x = 4$ con un tamaño de paso $0.5$. La condición inicial en $x = 0$ es $y = 1$."
   ]
  },
  {
   "cell_type": "markdown",
   "metadata": {},
   "source": [
    "#### Solución:\n"
   ]
  },
  {
   "cell_type": "code",
   "execution_count": 9,
   "metadata": {},
   "outputs": [],
   "source": [
    "# Librerías necesarias\n",
    "import pandas as pd\n",
    "from IPython.display import display, Math"
   ]
  },
  {
   "cell_type": "code",
   "execution_count": 4,
   "metadata": {},
   "outputs": [],
   "source": [
    "# Iniciamos variables\n",
    "x0 = 0.0\t\t# Condicion inicial\n",
    "y0 = 1.0\t\t# Condicion inicial\n",
    "x1 = 4.0\t\t\n",
    "\n",
    "k = 0.5      # Tamaño de paso\n",
    "n = int(abs(x1 - x0)/k)\t# Número de intervalos\n",
    "eq = lambda x, y: - 2 * x ** 3 + 12 * x ** 2 - 20 * x + 8.5       # Ecuación"
   ]
  },
  {
   "cell_type": "markdown",
   "metadata": {},
   "source": [
    "Iteramos:"
   ]
  },
  {
   "cell_type": "code",
   "execution_count": 5,
   "metadata": {},
   "outputs": [],
   "source": [
    "tbl = dict()\n",
    "paso = [0]\n",
    "y_ = [y0]\n",
    "for i in range(n):\n",
    "    y0 = y0 + k * eq(x0 + k * i, y0)\n",
    "    y_.append(y0)\n",
    "    paso.append(k*(i+1))\n",
    "\t\n",
    "tbl['$x$'] = paso\n",
    "tbl['$y_{euler}$'] = y_"
   ]
  },
  {
   "cell_type": "markdown",
   "metadata": {},
   "source": [
    "#### Resultados:"
   ]
  },
  {
   "cell_type": "code",
   "execution_count": 7,
   "metadata": {},
   "outputs": [
    {
     "data": {
      "text/html": [
       "<style  type=\"text/css\" >\n",
       "</style><table id=\"T_2c0e37a5_66f2_11eb_8b82_1831bf5167b2\" ><caption><h4>Tabla de Resultados<h4></caption><thead>    <tr>        <th class=\"blank level0\" ></th>        <th class=\"col_heading level0 col0\" >$x$</th>        <th class=\"col_heading level0 col1\" >$y_{euler}$</th>    </tr></thead><tbody>\n",
       "                <tr>\n",
       "                        <th id=\"T_2c0e37a5_66f2_11eb_8b82_1831bf5167b2level0_row0\" class=\"row_heading level0 row0\" >0</th>\n",
       "                        <td id=\"T_2c0e37a5_66f2_11eb_8b82_1831bf5167b2row0_col0\" class=\"data row0 col0\" >0.00</td>\n",
       "                        <td id=\"T_2c0e37a5_66f2_11eb_8b82_1831bf5167b2row0_col1\" class=\"data row0 col1\" >1.0000</td>\n",
       "            </tr>\n",
       "            <tr>\n",
       "                        <th id=\"T_2c0e37a5_66f2_11eb_8b82_1831bf5167b2level0_row1\" class=\"row_heading level0 row1\" >1</th>\n",
       "                        <td id=\"T_2c0e37a5_66f2_11eb_8b82_1831bf5167b2row1_col0\" class=\"data row1 col0\" >0.50</td>\n",
       "                        <td id=\"T_2c0e37a5_66f2_11eb_8b82_1831bf5167b2row1_col1\" class=\"data row1 col1\" >5.2500</td>\n",
       "            </tr>\n",
       "            <tr>\n",
       "                        <th id=\"T_2c0e37a5_66f2_11eb_8b82_1831bf5167b2level0_row2\" class=\"row_heading level0 row2\" >2</th>\n",
       "                        <td id=\"T_2c0e37a5_66f2_11eb_8b82_1831bf5167b2row2_col0\" class=\"data row2 col0\" >1.00</td>\n",
       "                        <td id=\"T_2c0e37a5_66f2_11eb_8b82_1831bf5167b2row2_col1\" class=\"data row2 col1\" >5.8750</td>\n",
       "            </tr>\n",
       "            <tr>\n",
       "                        <th id=\"T_2c0e37a5_66f2_11eb_8b82_1831bf5167b2level0_row3\" class=\"row_heading level0 row3\" >3</th>\n",
       "                        <td id=\"T_2c0e37a5_66f2_11eb_8b82_1831bf5167b2row3_col0\" class=\"data row3 col0\" >1.50</td>\n",
       "                        <td id=\"T_2c0e37a5_66f2_11eb_8b82_1831bf5167b2row3_col1\" class=\"data row3 col1\" >5.1250</td>\n",
       "            </tr>\n",
       "            <tr>\n",
       "                        <th id=\"T_2c0e37a5_66f2_11eb_8b82_1831bf5167b2level0_row4\" class=\"row_heading level0 row4\" >4</th>\n",
       "                        <td id=\"T_2c0e37a5_66f2_11eb_8b82_1831bf5167b2row4_col0\" class=\"data row4 col0\" >2.00</td>\n",
       "                        <td id=\"T_2c0e37a5_66f2_11eb_8b82_1831bf5167b2row4_col1\" class=\"data row4 col1\" >4.5000</td>\n",
       "            </tr>\n",
       "            <tr>\n",
       "                        <th id=\"T_2c0e37a5_66f2_11eb_8b82_1831bf5167b2level0_row5\" class=\"row_heading level0 row5\" >5</th>\n",
       "                        <td id=\"T_2c0e37a5_66f2_11eb_8b82_1831bf5167b2row5_col0\" class=\"data row5 col0\" >2.50</td>\n",
       "                        <td id=\"T_2c0e37a5_66f2_11eb_8b82_1831bf5167b2row5_col1\" class=\"data row5 col1\" >4.7500</td>\n",
       "            </tr>\n",
       "            <tr>\n",
       "                        <th id=\"T_2c0e37a5_66f2_11eb_8b82_1831bf5167b2level0_row6\" class=\"row_heading level0 row6\" >6</th>\n",
       "                        <td id=\"T_2c0e37a5_66f2_11eb_8b82_1831bf5167b2row6_col0\" class=\"data row6 col0\" >3.00</td>\n",
       "                        <td id=\"T_2c0e37a5_66f2_11eb_8b82_1831bf5167b2row6_col1\" class=\"data row6 col1\" >5.8750</td>\n",
       "            </tr>\n",
       "            <tr>\n",
       "                        <th id=\"T_2c0e37a5_66f2_11eb_8b82_1831bf5167b2level0_row7\" class=\"row_heading level0 row7\" >7</th>\n",
       "                        <td id=\"T_2c0e37a5_66f2_11eb_8b82_1831bf5167b2row7_col0\" class=\"data row7 col0\" >3.50</td>\n",
       "                        <td id=\"T_2c0e37a5_66f2_11eb_8b82_1831bf5167b2row7_col1\" class=\"data row7 col1\" >7.1250</td>\n",
       "            </tr>\n",
       "            <tr>\n",
       "                        <th id=\"T_2c0e37a5_66f2_11eb_8b82_1831bf5167b2level0_row8\" class=\"row_heading level0 row8\" >8</th>\n",
       "                        <td id=\"T_2c0e37a5_66f2_11eb_8b82_1831bf5167b2row8_col0\" class=\"data row8 col0\" >4.00</td>\n",
       "                        <td id=\"T_2c0e37a5_66f2_11eb_8b82_1831bf5167b2row8_col1\" class=\"data row8 col1\" >7.0000</td>\n",
       "            </tr>\n",
       "    </tbody></table>"
      ],
      "text/plain": [
       "<pandas.io.formats.style.Styler at 0xdefba90>"
      ]
     },
     "execution_count": 7,
     "metadata": {},
     "output_type": "execute_result"
    }
   ],
   "source": [
    "format_d={'$x$':'{:.2f}','$y_{euler}$':'{:.4f}'}\n",
    "df = pd.DataFrame(tbl).style.set_caption(\"<h4>Tabla de Resultados<h4>\").format(format_d)\n",
    "df\n"
   ]
  },
  {
   "cell_type": "markdown",
   "metadata": {},
   "source": [
    "De donde obtenemos:"
   ]
  },
  {
   "cell_type": "code",
   "execution_count": 11,
   "metadata": {},
   "outputs": [
    {
     "data": {
      "text/latex": [
       "$\\displaystyle y(4.0) = 7.0$"
      ],
      "text/plain": [
       "<IPython.core.display.Math object>"
      ]
     },
     "metadata": {},
     "output_type": "display_data"
    }
   ],
   "source": [
    "display(Math(r\"$y(%s) = %s$\" %(x1, y0)))"
   ]
  }
 ],
 "metadata": {
  "kernelspec": {
   "display_name": "Python 3",
   "language": "python",
   "name": "python3"
  },
  "language_info": {
   "codemirror_mode": {
    "name": "ipython",
    "version": 3
   },
   "file_extension": ".py",
   "mimetype": "text/x-python",
   "name": "python",
   "nbconvert_exporter": "python",
   "pygments_lexer": "ipython3",
   "version": "3.8.5"
  }
 },
 "nbformat": 4,
 "nbformat_minor": 4
}
