{
 "cells": [
  {
   "cell_type": "markdown",
   "metadata": {},
   "source": [
    "## Método de Taylor - Segundo orden\n",
    "#### Ejercicio:"
   ]
  },
  {
   "cell_type": "markdown",
   "metadata": {},
   "source": [
    "Resuelva el siguiente problemas de valor inicial:"
   ]
  },
  {
   "cell_type": "markdown",
   "metadata": {},
   "source": [
    "$$\\frac{dy}{dx} = (x-y)$$"
   ]
  },
  {
   "cell_type": "markdown",
   "metadata": {},
   "source": [
    "mediante el método de Taylor con: $y(0) = 2,\\; y(1) = ? $"
   ]
  },
  {
   "cell_type": "markdown",
   "metadata": {},
   "source": [
    "#### Solución:\n"
   ]
  },
  {
   "cell_type": "code",
   "execution_count": 24,
   "metadata": {},
   "outputs": [],
   "source": [
    "# Librerías necesarias\n",
    "import pandas as pd\n",
    "from IPython.display import Math, display"
   ]
  },
  {
   "cell_type": "code",
   "execution_count": 19,
   "metadata": {},
   "outputs": [],
   "source": [
    "# Iniciamos variables\n",
    "x0 = 0.0\t\t# Condición inicial\n",
    "y0 = 2.0\t\t# Condición inicial\n",
    "x1 = 1.0\t\t\n",
    "\n",
    "k = 0.2      # Tamaño de paso\n",
    "n = int(abs(x1 - x0)/k)\t# Número de intervalos\n",
    "f = lambda x, y: x - y       # Ecuación\n",
    "\n",
    "# Aproximaremos la derivada parcial con:\n",
    "\n",
    "hc = 0.000001\n",
    "dfx = lambda x, y: (f(x + hc, y) - f(x, y)) / hc # derivada parcial de f respescto a x\n",
    "dfy = lambda x, y: (f(x, y + hc) - f(x, y)) / hc # derivada parcial de f respescto a y"
   ]
  },
  {
   "cell_type": "markdown",
   "metadata": {},
   "source": [
    "Uilizaremos la siguiente ecuación:"
   ]
  },
  {
   "cell_type": "markdown",
   "metadata": {},
   "source": [
    "$$y_{i+1}=y_i+kf(x_i,y_i)+\\frac{k^2}{2!} \\frac{df(x,y)}{dx} \\bigg\\rvert_{x_i,y_i} $$"
   ]
  },
  {
   "cell_type": "markdown",
   "metadata": {},
   "source": [
    "Iteramos:"
   ]
  },
  {
   "cell_type": "code",
   "execution_count": 20,
   "metadata": {},
   "outputs": [],
   "source": [
    "tbl = dict()\n",
    "paso = [0]\n",
    "y_ = [y0]\n",
    "for i in range(n):\n",
    "    y0 = y0 + k * f(x0 + k * i, y0) + (dfx(x0 + k * i, y0) + dfy(x0 + k * i, y0) * f(x0 + k * i, y0)) * k **2 / 2\n",
    "    \n",
    "    y_.append(y0)\n",
    "    paso.append(k*(i+1))\n",
    "\t\n",
    "tbl['$x$'] = paso\n",
    "tbl['$y_{taylor}$'] = y_"
   ]
  },
  {
   "cell_type": "markdown",
   "metadata": {},
   "source": [
    "#### Resultados:"
   ]
  },
  {
   "cell_type": "code",
   "execution_count": 21,
   "metadata": {},
   "outputs": [
    {
     "data": {
      "text/html": [
       "<style  type=\"text/css\" >\n",
       "</style><table id=\"T_7bfeac5e_66f7_11eb_904d_1831bf5167b2\" ><caption><h4>Tabla de Resultados<h4></caption><thead>    <tr>        <th class=\"blank level0\" ></th>        <th class=\"col_heading level0 col0\" >$x$</th>        <th class=\"col_heading level0 col1\" >$y_{taylor}$</th>    </tr></thead><tbody>\n",
       "                <tr>\n",
       "                        <th id=\"T_7bfeac5e_66f7_11eb_904d_1831bf5167b2level0_row0\" class=\"row_heading level0 row0\" >0</th>\n",
       "                        <td id=\"T_7bfeac5e_66f7_11eb_904d_1831bf5167b2row0_col0\" class=\"data row0 col0\" >0.00</td>\n",
       "                        <td id=\"T_7bfeac5e_66f7_11eb_904d_1831bf5167b2row0_col1\" class=\"data row0 col1\" >2.0000</td>\n",
       "            </tr>\n",
       "            <tr>\n",
       "                        <th id=\"T_7bfeac5e_66f7_11eb_904d_1831bf5167b2level0_row1\" class=\"row_heading level0 row1\" >1</th>\n",
       "                        <td id=\"T_7bfeac5e_66f7_11eb_904d_1831bf5167b2row1_col0\" class=\"data row1 col0\" >0.20</td>\n",
       "                        <td id=\"T_7bfeac5e_66f7_11eb_904d_1831bf5167b2row1_col1\" class=\"data row1 col1\" >1.6600</td>\n",
       "            </tr>\n",
       "            <tr>\n",
       "                        <th id=\"T_7bfeac5e_66f7_11eb_904d_1831bf5167b2level0_row2\" class=\"row_heading level0 row2\" >2</th>\n",
       "                        <td id=\"T_7bfeac5e_66f7_11eb_904d_1831bf5167b2row2_col0\" class=\"data row2 col0\" >0.40</td>\n",
       "                        <td id=\"T_7bfeac5e_66f7_11eb_904d_1831bf5167b2row2_col1\" class=\"data row2 col1\" >1.4172</td>\n",
       "            </tr>\n",
       "            <tr>\n",
       "                        <th id=\"T_7bfeac5e_66f7_11eb_904d_1831bf5167b2level0_row3\" class=\"row_heading level0 row3\" >3</th>\n",
       "                        <td id=\"T_7bfeac5e_66f7_11eb_904d_1831bf5167b2row3_col0\" class=\"data row3 col0\" >0.60</td>\n",
       "                        <td id=\"T_7bfeac5e_66f7_11eb_904d_1831bf5167b2row3_col1\" class=\"data row3 col1\" >1.2541</td>\n",
       "            </tr>\n",
       "            <tr>\n",
       "                        <th id=\"T_7bfeac5e_66f7_11eb_904d_1831bf5167b2level0_row4\" class=\"row_heading level0 row4\" >4</th>\n",
       "                        <td id=\"T_7bfeac5e_66f7_11eb_904d_1831bf5167b2row4_col0\" class=\"data row4 col0\" >0.80</td>\n",
       "                        <td id=\"T_7bfeac5e_66f7_11eb_904d_1831bf5167b2row4_col1\" class=\"data row4 col1\" >1.1564</td>\n",
       "            </tr>\n",
       "            <tr>\n",
       "                        <th id=\"T_7bfeac5e_66f7_11eb_904d_1831bf5167b2level0_row5\" class=\"row_heading level0 row5\" >5</th>\n",
       "                        <td id=\"T_7bfeac5e_66f7_11eb_904d_1831bf5167b2row5_col0\" class=\"data row5 col0\" >1.00</td>\n",
       "                        <td id=\"T_7bfeac5e_66f7_11eb_904d_1831bf5167b2row5_col1\" class=\"data row5 col1\" >1.1122</td>\n",
       "            </tr>\n",
       "    </tbody></table>"
      ],
      "text/plain": [
       "<pandas.io.formats.style.Styler at 0xe19df70>"
      ]
     },
     "execution_count": 21,
     "metadata": {},
     "output_type": "execute_result"
    }
   ],
   "source": [
    "format_d={'$x$':'{:.2f}','$y_{taylor}$':'{:.4f}'}\n",
    "df = pd.DataFrame(tbl).style.set_caption(\"<h4>Tabla de Resultados<h4>\").format(format_d)\n",
    "df"
   ]
  },
  {
   "cell_type": "markdown",
   "metadata": {},
   "source": [
    "Al realizar el procedimiento se llega a:"
   ]
  },
  {
   "cell_type": "code",
   "execution_count": 26,
   "metadata": {},
   "outputs": [
    {
     "data": {
      "text/latex": [
       "$\\displaystyle y_5 = y(1.0) = 1.1122$"
      ],
      "text/plain": [
       "<IPython.core.display.Math object>"
      ]
     },
     "metadata": {},
     "output_type": "display_data"
    }
   ],
   "source": [
    "display(Math(r\"$y_5 = y(%s) = %.4f$\" %(x1,y0)))"
   ]
  }
 ],
 "metadata": {
  "kernelspec": {
   "display_name": "Python 3",
   "language": "python",
   "name": "python3"
  },
  "language_info": {
   "codemirror_mode": {
    "name": "ipython",
    "version": 3
   },
   "file_extension": ".py",
   "mimetype": "text/x-python",
   "name": "python",
   "nbconvert_exporter": "python",
   "pygments_lexer": "ipython3",
   "version": "3.8.5"
  }
 },
 "nbformat": 4,
 "nbformat_minor": 4
}
