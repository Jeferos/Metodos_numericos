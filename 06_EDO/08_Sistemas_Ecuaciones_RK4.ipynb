{
 "cells": [
  {
   "cell_type": "markdown",
   "metadata": {},
   "source": [
    "## Sistemas de EDO usando el método de Runge-Kutta de 4to orden\n",
    "#### Ejercicio:"
   ]
  },
  {
   "cell_type": "markdown",
   "metadata": {},
   "source": [
    "Resuelva el siguiente problema de valor inicial:"
   ]
  },
  {
   "cell_type": "markdown",
   "metadata": {},
   "source": [
    "$$y'' = - \\frac{1}{x}y'+(\\frac{1}{x^2}-1)y$$"
   ]
  },
  {
   "cell_type": "markdown",
   "metadata": {},
   "source": [
    "mediante el método de Runge-Kutta de 4to orden con: $y(1) = 1,y'(1) = 2,\\; y(3) = ? $"
   ]
  },
  {
   "cell_type": "markdown",
   "metadata": {},
   "source": [
    "#### Solución:\n"
   ]
  },
  {
   "cell_type": "code",
   "execution_count": 4,
   "metadata": {},
   "outputs": [],
   "source": [
    "# Librerías necesarias\n",
    "import pandas as pd\n",
    "from IPython.display import Math, display"
   ]
  },
  {
   "cell_type": "markdown",
   "metadata": {},
   "source": [
    "Escribiendo la EDO como un sistema de ecuaciones, el PVI queda:"
   ]
  },
  {
   "cell_type": "markdown",
   "metadata": {},
   "source": [
    "$$PVI\\left\n",
    "\\{\n",
    "\\begin{array}{rcl}\n",
    "     y' & = & z \\\\\n",
    "   z' & = & -\\frac{1}{x}z + (\\frac{1}{x^2}-1)y \\\\\n",
    "   y(1) & = & 1 \\\\\n",
    "   z(1) & = & 2 \\\\\n",
    "   y(3) & = & ?\n",
    "\\end{array}\n",
    "\\right.\n",
    "$$"
   ]
  },
  {
   "cell_type": "code",
   "execution_count": 33,
   "metadata": {},
   "outputs": [],
   "source": [
    "# Iniciamos variables\n",
    "x0 = 1.0\t\t# Condición inicial\n",
    "y0 = 1.0\t\t# Condición inicial\n",
    "z0 = 2\n",
    "\n",
    "x1 = 3.0\t\t\n",
    "\n",
    "k = 0.25      # Tamaño de paso\n",
    "n = int(abs(x1 - x0)/k)\t# Número de intervalos\n",
    "\n",
    "f1 = lambda x, y, z: z         # Ecuación y'\n",
    "f2 = lambda x, y, z: -z / x + (1 / x ** 2 - 1) * y       # Ecuación z'"
   ]
  },
  {
   "cell_type": "markdown",
   "metadata": {},
   "source": [
    "Uilizaremos las siguientes ecuaciones:"
   ]
  },
  {
   "cell_type": "markdown",
   "metadata": {},
   "source": [
    "$$\\begin{array}{rcl}\n",
    "y_{i+1}&=&y_i + \\frac{1}{6}(k_1+2k_2+2k_3+k_4)k \\\\\n",
    "z_{i+1}&=&z_i + \\frac{1}{6}(c_1+2c_2+2c_3+c_4)k\n",
    "\\end{array}\n",
    "$$\n",
    "donde:\n",
    "$$\\begin{array}{rcl}\n",
    "k_1 & = & f_1(x_i,y_i) \\\\\n",
    "k_2 & = & f_1(x_i + \\frac{1}{2}k,y_i + \\frac{1}{2}k_1k) \\\\\n",
    "k_3 & = & f_1(x_i + \\frac{1}{2}k,y_i + \\frac{1}{2}k_2k) \\\\\n",
    "k_4 & = & f_1(x_i+k,y_i+k_3k)\n",
    "\\end{array}$$\n",
    "y\n",
    "$$\\begin{array}{rcl}\n",
    "c_1 & = & f_2(x_i,y_i) \\\\\n",
    "c_2 & = & f_2(x_i + \\frac{1}{2}k,y_i + \\frac{1}{2}c_1k) \\\\\n",
    "c_3 & = & f_2(x_i + \\frac{1}{2}k,y_i + \\frac{1}{2}c_2k) \\\\\n",
    "c_4 & = & f_2(x_i+k,y_i+c_3k)\n",
    "\\end{array}$$\n",
    "\n"
   ]
  },
  {
   "cell_type": "markdown",
   "metadata": {},
   "source": [
    "Iteramos:"
   ]
  },
  {
   "cell_type": "code",
   "execution_count": 34,
   "metadata": {},
   "outputs": [],
   "source": [
    "tbl = dict()\n",
    "x_ = [x0]\n",
    "y_ = [y0]\n",
    "z_ = [z0]\n",
    "\n",
    "for i in range(n):    \n",
    "    k1 = f1(x0, y0, z0)\n",
    "    c1 = f2(x0, y0, z0)\n",
    "\n",
    "    k2 = f1(x0 + k / 2, y0 + k1 / 2 * k, z0 + c1 * k / 2)\n",
    "    c2 = f2(x0 + k / 2, y0 + k1 / 2 * k, z0 + c1 * k / 2)  \n",
    "        \n",
    "    k3 = f1(x0 + k / 2, y0 + k2 / 2 * k, z0 + c2 * k / 2)\n",
    "    c3 = f2(x0 + k / 2, y0 + k2 / 2 * k, z0 + c2 * k / 2)\n",
    "    \n",
    "    k4 = f1(x0 + k, y0 + k3 * k, z0 + c3 * k)\n",
    "    c4 = f2(x0 + k, y0 + k3 * k, z0 + c3 * k)\n",
    "        \n",
    "    x0 = x0 + k\n",
    "    y0 = y0 + k * (k1 + 2 * k2 + 2 * k3 + k4) / 6\n",
    "    z0 = z0 + k * (c1 + 2 * c2 + 2 * c3 + c4) / 6\n",
    "    \n",
    "    \n",
    "    y_.append(y0)\n",
    "    z_.append(z0)\n",
    "    x_.append(x0)\n",
    "\t\n",
    "tbl['$x$'] = x_\n",
    "tbl['$y_{rk4}$'] = y_\n",
    "tbl['$z_{rk4}$'] = z_"
   ]
  },
  {
   "cell_type": "markdown",
   "metadata": {},
   "source": [
    "#### Resultados:"
   ]
  },
  {
   "cell_type": "code",
   "execution_count": 35,
   "metadata": {},
   "outputs": [
    {
     "data": {
      "text/html": [
       "<style  type=\"text/css\" >\n",
       "</style><table id=\"T_df77026b_6712_11eb_a31f_1831bf5167b2\" ><caption><h4>Tabla de Resultados<h4></caption><thead>    <tr>        <th class=\"blank level0\" ></th>        <th class=\"col_heading level0 col0\" >$x$</th>        <th class=\"col_heading level0 col1\" >$y_{rk4}$</th>        <th class=\"col_heading level0 col2\" >$z_{rk4}$</th>    </tr></thead><tbody>\n",
       "                <tr>\n",
       "                        <th id=\"T_df77026b_6712_11eb_a31f_1831bf5167b2level0_row0\" class=\"row_heading level0 row0\" >0</th>\n",
       "                        <td id=\"T_df77026b_6712_11eb_a31f_1831bf5167b2row0_col0\" class=\"data row0 col0\" >1.00</td>\n",
       "                        <td id=\"T_df77026b_6712_11eb_a31f_1831bf5167b2row0_col1\" class=\"data row0 col1\" >1.0000</td>\n",
       "                        <td id=\"T_df77026b_6712_11eb_a31f_1831bf5167b2row0_col2\" class=\"data row0 col2\" >2.0000</td>\n",
       "            </tr>\n",
       "            <tr>\n",
       "                        <th id=\"T_df77026b_6712_11eb_a31f_1831bf5167b2level0_row1\" class=\"row_heading level0 row1\" >1</th>\n",
       "                        <td id=\"T_df77026b_6712_11eb_a31f_1831bf5167b2row1_col0\" class=\"data row1 col0\" >1.25</td>\n",
       "                        <td id=\"T_df77026b_6712_11eb_a31f_1831bf5167b2row1_col1\" class=\"data row1 col1\" >1.4412</td>\n",
       "                        <td id=\"T_df77026b_6712_11eb_a31f_1831bf5167b2row1_col2\" class=\"data row1 col2\" >1.5395</td>\n",
       "            </tr>\n",
       "            <tr>\n",
       "                        <th id=\"T_df77026b_6712_11eb_a31f_1831bf5167b2level0_row2\" class=\"row_heading level0 row2\" >2</th>\n",
       "                        <td id=\"T_df77026b_6712_11eb_a31f_1831bf5167b2row2_col0\" class=\"data row2 col0\" >1.50</td>\n",
       "                        <td id=\"T_df77026b_6712_11eb_a31f_1831bf5167b2row2_col1\" class=\"data row2 col1\" >1.7719</td>\n",
       "                        <td id=\"T_df77026b_6712_11eb_a31f_1831bf5167b2row2_col2\" class=\"data row2 col2\" >1.1073</td>\n",
       "            </tr>\n",
       "            <tr>\n",
       "                        <th id=\"T_df77026b_6712_11eb_a31f_1831bf5167b2level0_row3\" class=\"row_heading level0 row3\" >3</th>\n",
       "                        <td id=\"T_df77026b_6712_11eb_a31f_1831bf5167b2row3_col0\" class=\"data row3 col0\" >1.75</td>\n",
       "                        <td id=\"T_df77026b_6712_11eb_a31f_1831bf5167b2row3_col1\" class=\"data row3 col1\" >1.9948</td>\n",
       "                        <td id=\"T_df77026b_6712_11eb_a31f_1831bf5167b2row3_col2\" class=\"data row3 col2\" >0.6756</td>\n",
       "            </tr>\n",
       "            <tr>\n",
       "                        <th id=\"T_df77026b_6712_11eb_a31f_1831bf5167b2level0_row4\" class=\"row_heading level0 row4\" >4</th>\n",
       "                        <td id=\"T_df77026b_6712_11eb_a31f_1831bf5167b2row4_col0\" class=\"data row4 col0\" >2.00</td>\n",
       "                        <td id=\"T_df77026b_6712_11eb_a31f_1831bf5167b2row4_col1\" class=\"data row4 col1\" >2.1098</td>\n",
       "                        <td id=\"T_df77026b_6712_11eb_a31f_1831bf5167b2row4_col2\" class=\"data row4 col2\" >0.2453</td>\n",
       "            </tr>\n",
       "            <tr>\n",
       "                        <th id=\"T_df77026b_6712_11eb_a31f_1831bf5167b2level0_row5\" class=\"row_heading level0 row5\" >5</th>\n",
       "                        <td id=\"T_df77026b_6712_11eb_a31f_1831bf5167b2row5_col0\" class=\"data row5 col0\" >2.25</td>\n",
       "                        <td id=\"T_df77026b_6712_11eb_a31f_1831bf5167b2row5_col1\" class=\"data row5 col1\" >2.1185</td>\n",
       "                        <td id=\"T_df77026b_6712_11eb_a31f_1831bf5167b2row5_col2\" class=\"data row5 col2\" >-0.1721</td>\n",
       "            </tr>\n",
       "            <tr>\n",
       "                        <th id=\"T_df77026b_6712_11eb_a31f_1831bf5167b2level0_row6\" class=\"row_heading level0 row6\" >6</th>\n",
       "                        <td id=\"T_df77026b_6712_11eb_a31f_1831bf5167b2row6_col0\" class=\"data row6 col0\" >2.50</td>\n",
       "                        <td id=\"T_df77026b_6712_11eb_a31f_1831bf5167b2row6_col1\" class=\"data row6 col1\" >2.0261</td>\n",
       "                        <td id=\"T_df77026b_6712_11eb_a31f_1831bf5167b2row6_col2\" class=\"data row6 col2\" >-0.5611</td>\n",
       "            </tr>\n",
       "            <tr>\n",
       "                        <th id=\"T_df77026b_6712_11eb_a31f_1831bf5167b2level0_row7\" class=\"row_heading level0 row7\" >7</th>\n",
       "                        <td id=\"T_df77026b_6712_11eb_a31f_1831bf5167b2row7_col0\" class=\"data row7 col0\" >2.75</td>\n",
       "                        <td id=\"T_df77026b_6712_11eb_a31f_1831bf5167b2row7_col1\" class=\"data row7 col1\" >1.8417</td>\n",
       "                        <td id=\"T_df77026b_6712_11eb_a31f_1831bf5167b2row7_col2\" class=\"data row7 col2\" >-0.9056</td>\n",
       "            </tr>\n",
       "            <tr>\n",
       "                        <th id=\"T_df77026b_6712_11eb_a31f_1831bf5167b2level0_row8\" class=\"row_heading level0 row8\" >8</th>\n",
       "                        <td id=\"T_df77026b_6712_11eb_a31f_1831bf5167b2row8_col0\" class=\"data row8 col0\" >3.00</td>\n",
       "                        <td id=\"T_df77026b_6712_11eb_a31f_1831bf5167b2row8_col1\" class=\"data row8 col1\" >1.5783</td>\n",
       "                        <td id=\"T_df77026b_6712_11eb_a31f_1831bf5167b2row8_col2\" class=\"data row8 col2\" >-1.1909</td>\n",
       "            </tr>\n",
       "    </tbody></table>"
      ],
      "text/plain": [
       "<pandas.io.formats.style.Styler at 0xe4caf58>"
      ]
     },
     "execution_count": 35,
     "metadata": {},
     "output_type": "execute_result"
    }
   ],
   "source": [
    "format_d={'$x$':'{:.2f}','$y_{rk4}$':'{:.4f}', '$z_{rk4}$':'{:.4f}'}\n",
    "df = pd.DataFrame(tbl).style.set_caption(\"<h4>Tabla de Resultados<h4>\").format(format_d)\n",
    "df"
   ]
  },
  {
   "cell_type": "markdown",
   "metadata": {},
   "source": [
    "El valor buscado es:"
   ]
  },
  {
   "cell_type": "code",
   "execution_count": 36,
   "metadata": {},
   "outputs": [
    {
     "data": {
      "text/latex": [
       "$\\displaystyle y_{8} = y(3.0) = 1.5783$"
      ],
      "text/plain": [
       "<IPython.core.display.Math object>"
      ]
     },
     "metadata": {},
     "output_type": "display_data"
    }
   ],
   "source": [
    "display(Math(r\"$y_{%s} = y(%s) = %.4f$\" %(len(y_) - 1 ,x1,y0)))"
   ]
  }
 ],
 "metadata": {
  "kernelspec": {
   "display_name": "Python 3",
   "language": "python",
   "name": "python3"
  },
  "language_info": {
   "codemirror_mode": {
    "name": "ipython",
    "version": 3
   },
   "file_extension": ".py",
   "mimetype": "text/x-python",
   "name": "python",
   "nbconvert_exporter": "python",
   "pygments_lexer": "ipython3",
   "version": "3.8.5"
  }
 },
 "nbformat": 4,
 "nbformat_minor": 4
}
