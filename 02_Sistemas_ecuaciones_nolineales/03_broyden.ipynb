{
 "cells": [
  {
   "cell_type": "markdown",
   "metadata": {},
   "source": [
    "## Método de Broyden"
   ]
  },
  {
   "cell_type": "markdown",
   "metadata": {},
   "source": [
    "#### Ejemplo: \n",
    "Use el método de Broyden para encontrar una solución aproximada del sistema:\n",
    "$$ f_1(x,y) = x^2 - 10x + y^2 + 8  = 0 $$\n",
    "$$ f_2(x,y) = xy^2 + x - 10y + 8  = 0 $$\n",
    "tome como vector inicial: $[x_0,y_0]=[0,0] $\n",
    "\n",
    "##### Solucion:"
   ]
  },
  {
   "cell_type": "markdown",
   "metadata": {},
   "source": [
    "Emplearemos la fórmula de inversión matricial de Sherman y Morrison:"
   ]
  },
  {
   "cell_type": "markdown",
   "metadata": {},
   "source": [
    "$$ (A_{k})^{-1}= (A_{k-1})^{-1}+\\frac{[\\Delta x_k - (A_{k-1})^{-1}\\Delta f_k](\\Delta x_k)^T(A_{k-1})^{-1}}{(\\Delta x_k)^T(A_{k-1})^{-1}\\Delta f_k}$$"
   ]
  },
  {
   "cell_type": "code",
   "execution_count": 1,
   "metadata": {},
   "outputs": [],
   "source": [
    "# Importamos las librerias necesarias\n",
    "import numpy as np"
   ]
  },
  {
   "cell_type": "code",
   "execution_count": 2,
   "metadata": {},
   "outputs": [],
   "source": [
    "# Definimos las funciones f1 y f2\n",
    "f1 = lambda x,y: x**2 - 10*x + y**2 + 8\n",
    "f2 = lambda x,y: x*y**2 + x - 10*y + 8"
   ]
  },
  {
   "cell_type": "code",
   "execution_count": 3,
   "metadata": {},
   "outputs": [],
   "source": [
    "# Aproximaremos las derivadas con:\n",
    "hc = 0.000001\n",
    "df1x = lambda x,y: (f1(x + hc,y) - f1(x,y))/hc # derivada parcial de f1 respescto a x\n",
    "df1y = lambda x,y: (f1(x,y + hc) - f1(x,y))/hc # derivada parcial de f1 respescto a y\n",
    "\n",
    "df2x = lambda x,y: (f2(x + hc,y) - f2(x,y))/hc # derivada parcial de f2 respescto a x\n",
    "df2y = lambda x,y: (f2(x,y + hc) - f2(x,y))/hc # derivada parcial de f2 respescto a y"
   ]
  },
  {
   "cell_type": "code",
   "execution_count": 4,
   "metadata": {},
   "outputs": [],
   "source": [
    "# condiciones iniciales\n",
    "x0 = 0\n",
    "y0 = 0"
   ]
  },
  {
   "cell_type": "code",
   "execution_count": 5,
   "metadata": {},
   "outputs": [],
   "source": [
    "# calculamos la 1ra iteración\n",
    "J = np.matrix([[df1x(x0, y0), df1y(x0, y0)], [df2x(x0, y0), df2y(x0, y0)]]) ** -1\n",
    "f_0 = np.matrix([[-f1(x0, y0)], [-f2(x0, y0)]])\n",
    "x_1 = J * f_0\n",
    "x1 = x0 + x_1[0,0]\n",
    "y1 = y0 + x_1[1,0]\n",
    "x_0 = np.matrix([[x0], [y0]])\n",
    "f_1 = np.matrix([[-f1(x1, y1)], [-f2(x1, y1)]])"
   ]
  },
  {
   "cell_type": "code",
   "execution_count": 6,
   "metadata": {},
   "outputs": [
    {
     "name": "stdout",
     "output_type": "stream",
     "text": [
      "x:  0.96208  y:  0.967201\n",
      "x:  0.997434  y:  0.996786\n",
      "x:  0.999904  y:  0.999845\n",
      "x:  0.999998  y:  0.999997\n",
      "x:  1.0  y:  1.0\n"
     ]
    }
   ],
   "source": [
    "# siguientes iteraciones\n",
    "for i in range(5):\n",
    "\n",
    "    A= J + (((x_1 - x_0) - J * (f_0 - f_1)) * ((x_1 - x_0).T * J)) / ((x_1 - x_0).T * J * (f_0 - f_1))\n",
    "    x_2 = x_1 -(A * (-f_1))\n",
    "\n",
    "    print(\"x: \",round(x_2[0, 0],6),\" y: \",round(x_2[1, 0],6))\n",
    "    x_0 = x_1\n",
    "    x_1 = x_2\n",
    "    f_0 = f_1\n",
    "    f_1 = np.matrix([[-f1(x_2[0, 0],x_2[1, 0])],[-f2(x_2[0, 0],x_2[1, 0])]])\t\n",
    "    J = A      \n"
   ]
  }
 ],
 "metadata": {
  "kernelspec": {
   "display_name": "Python 3",
   "language": "python",
   "name": "python3"
  },
  "language_info": {
   "codemirror_mode": {
    "name": "ipython",
    "version": 3
   },
   "file_extension": ".py",
   "mimetype": "text/x-python",
   "name": "python",
   "nbconvert_exporter": "python",
   "pygments_lexer": "ipython3",
   "version": "3.8.5"
  }
 },
 "nbformat": 4,
 "nbformat_minor": 4
}
