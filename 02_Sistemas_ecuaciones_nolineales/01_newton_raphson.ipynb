{
 "cells": [
  {
   "cell_type": "markdown",
   "metadata": {},
   "source": [
    "## Método de Newton-Raphson"
   ]
  },
  {
   "cell_type": "markdown",
   "metadata": {},
   "source": [
    "#### Ejemplo: \n",
    "Use el método de Newton-Raphson para encontrar una solución aproximada del sistema:\n",
    "$$ f_1(x,y) = x^2 - 10x + y^2 + 8  = 0 $$\n",
    "$$ f_2(x,y) = xy^2 + x - 10y + 8  = 0 $$\n",
    "con un vector inicial: $[x_0,y_0]=[0,0] $\n",
    "\n",
    "##### Solucion:"
   ]
  },
  {
   "cell_type": "markdown",
   "metadata": {},
   "source": [
    "La solución se obtiene al resolver el sistema de ecuaciones:"
   ]
  },
  {
   "cell_type": "markdown",
   "metadata": {},
   "source": [
    "$$ \\begin{bmatrix} h \\\\ j \\end{bmatrix}=\n",
    "\\begin{bmatrix} \\frac{\\partial f_1}{\\partial x} \\frac{\\partial f_1}{\\partial y} \\\\ \n",
    "\\frac{\\partial f_2}{\\partial x} \\frac{\\partial f_2}{\\partial y} \\end{bmatrix}^{-1} \\times \n",
    "\\begin{bmatrix} -f_1 \\\\ -f_2 \\end{bmatrix}$$"
   ]
  },
  {
   "cell_type": "code",
   "execution_count": 2,
   "metadata": {},
   "outputs": [],
   "source": [
    "# Importamos las librerias necesarias\n",
    "import numpy as np"
   ]
  },
  {
   "cell_type": "code",
   "execution_count": 3,
   "metadata": {},
   "outputs": [],
   "source": [
    "# Definimos las funciones f1 y f2\n",
    "f1 = lambda x,y: x**2 - 10*x + y**2 + 8\n",
    "f2 = lambda x,y: x*y**2 + x - 10*y + 8"
   ]
  },
  {
   "cell_type": "code",
   "execution_count": 4,
   "metadata": {},
   "outputs": [],
   "source": [
    "# Aproximaremos las derivadas con:\n",
    "hc = 0.000001\n",
    "df1x = lambda x,y: (f1(x + hc,y) - f1(x,y))/hc # derivada parcial de f1 respescto a x\n",
    "df1y = lambda x,y: (f1(x,y + hc) - f1(x,y))/hc # derivada parcial de f1 respescto a y\n",
    "\n",
    "df2x = lambda x,y: (f2(x + hc,y) - f2(x,y))/hc # derivada parcial de f2 respescto a x\n",
    "df2y = lambda x,y: (f2(x,y + hc) - f2(x,y))/hc # derivada parcial de f2 respescto a y"
   ]
  },
  {
   "cell_type": "code",
   "execution_count": 5,
   "metadata": {},
   "outputs": [],
   "source": [
    "# condiciones iniciales\n",
    "x0 = 0\n",
    "y0 = 0\n",
    "error = 0.00001"
   ]
  },
  {
   "cell_type": "code",
   "execution_count": 6,
   "metadata": {},
   "outputs": [
    {
     "name": "stdout",
     "output_type": "stream",
     "text": [
      "x:  0  y:  0\n",
      "x:  0.8  y:  0.88\n",
      "x:  0.99179  y:  0.99171\n",
      "x:  0.99998  y:  0.99997\n",
      "x:  1.0  y:  1.0\n"
     ]
    }
   ],
   "source": [
    "# iteraciones\n",
    "condicion = True # variable de control\n",
    "\n",
    "while condicion:\n",
    "\tA = np.matrix([[df1x(x0,y0),df1y(x0,y0)],[df2x(x0,y0),df2y(x0,y0)]])\n",
    "\tC = np.matrix([[-f1(x0,y0)],[-f2(x0,y0)]])\n",
    "\tS = A**-1*C\n",
    "\tx1 = x0 + S[0,0]\n",
    "\ty1 = y0 + S[1,0]\n",
    "\td = np.sqrt((x1 - x0)**2+(y1 - y0)**2)\n",
    "\tprint(\"x: \",round(x0,5),\" y: \",round(y0,5))\n",
    "\tif d < error:\n",
    "\t\tcondicion = False\n",
    "\telse:\n",
    "\t\tx0=x1\n",
    "\t\ty0=y1        \n"
   ]
  }
 ],
 "metadata": {
  "kernelspec": {
   "display_name": "Python 3",
   "language": "python",
   "name": "python3"
  },
  "language_info": {
   "codemirror_mode": {
    "name": "ipython",
    "version": 3
   },
   "file_extension": ".py",
   "mimetype": "text/x-python",
   "name": "python",
   "nbconvert_exporter": "python",
   "pygments_lexer": "ipython3",
   "version": "3.8.5"
  }
 },
 "nbformat": 4,
 "nbformat_minor": 4
}
