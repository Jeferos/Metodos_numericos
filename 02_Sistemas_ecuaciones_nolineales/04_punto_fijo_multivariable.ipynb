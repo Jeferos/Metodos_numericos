{
 "cells": [
  {
   "cell_type": "markdown",
   "metadata": {},
   "source": [
    "## Método de Punto Fijo Multivariable con desplazamientos sucesivos"
   ]
  },
  {
   "cell_type": "markdown",
   "metadata": {},
   "source": [
    "#### Ejemplo: \n",
    "Resuelva el sistema:\n",
    "$$ f_1(x,y) = x^2 - 10x + y^2 + 8  = 0 $$\n",
    "$$ f_2(x,y) = xy^2 + x - 10y + 8  = 0 $$\n",
    "con el método de punto fijo multivariabe con desplazamientos sucesivos usando el vector inicial: $[x_0,y_0]=[0,0] $\n",
    "\n",
    "##### Solucion:"
   ]
  },
  {
   "cell_type": "markdown",
   "metadata": {},
   "source": [
    "Despejamos $x$ y $y$ de las ecuaciones:"
   ]
  },
  {
   "cell_type": "markdown",
   "metadata": {},
   "source": [
    "$$ x=g_1(x,y)=\\frac{x^2+y^2+8}{10}$$\n",
    "\n",
    "$$ y=g_2(x,y)=\\frac{xy^2+x+8}{10}$$"
   ]
  },
  {
   "cell_type": "code",
   "execution_count": 1,
   "metadata": {},
   "outputs": [],
   "source": [
    "# Importamos las librerias necesarias\n",
    "import numpy as np"
   ]
  },
  {
   "cell_type": "code",
   "execution_count": 2,
   "metadata": {},
   "outputs": [],
   "source": [
    "# Definimos las funciones g1 y g2\n",
    "g1 = lambda x, y: (x**2 + y**2 + 8) / 10\n",
    "g2 = lambda x, y: (x * y**2 + x  + 8) / 10"
   ]
  },
  {
   "cell_type": "code",
   "execution_count": 3,
   "metadata": {},
   "outputs": [],
   "source": [
    "# condiciones iniciales\n",
    "x0 = 0\n",
    "y0 = 0\n",
    "error = 0.0001"
   ]
  },
  {
   "cell_type": "code",
   "execution_count": 4,
   "metadata": {},
   "outputs": [
    {
     "name": "stdout",
     "output_type": "stream",
     "text": [
      "x:  0  y:  0\n",
      "x:  0.8  y:  0.88\n",
      "x:  0.9414  y:  0.967\n",
      "x:  0.9821  y:  0.9901\n",
      "x:  0.9945  y:  0.9969\n",
      "x:  0.9983  y:  0.999\n",
      "x:  0.9995  y:  0.9997\n",
      "x:  0.9998  y:  0.9999\n",
      "x:  0.9999  y:  1.0\n"
     ]
    }
   ],
   "source": [
    "# iteraciones\n",
    "condicion = True # variable de control\n",
    "\n",
    "while condicion:\n",
    "\tx1 = g1(x0, y0)\n",
    "\n",
    "\ty1 = g2(x1, y0)\n",
    "\n",
    "\td = np.sqrt((x1 - x0)**2 + (y1 - y0)**2)\n",
    "\tprint(\"x: \",round(x0, 4),\" y: \",round(y0, 4))\n",
    "\tif d < error:\n",
    "\t\tcondicion = False\n",
    "\telse:\n",
    "\t\tx0 = x1\n",
    "\t\ty0 = y1        \n"
   ]
  }
 ],
 "metadata": {
  "kernelspec": {
   "display_name": "Python 3",
   "language": "python",
   "name": "python3"
  },
  "language_info": {
   "codemirror_mode": {
    "name": "ipython",
    "version": 3
   },
   "file_extension": ".py",
   "mimetype": "text/x-python",
   "name": "python",
   "nbconvert_exporter": "python",
   "pygments_lexer": "ipython3",
   "version": "3.8.5"
  }
 },
 "nbformat": 4,
 "nbformat_minor": 4
}
