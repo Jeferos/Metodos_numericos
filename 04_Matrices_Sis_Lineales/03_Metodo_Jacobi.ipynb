{
 "cells": [
  {
   "cell_type": "markdown",
   "metadata": {},
   "source": [
    "## Métodos Iterativos: método de Jacobi"
   ]
  },
  {
   "cell_type": "code",
   "execution_count": 109,
   "metadata": {
    "hideCode": false,
    "hideOutput": true
   },
   "outputs": [],
   "source": [
    "import numpy as np\n",
    "from archivos.latex_archivos import ltx_matriz, ltx_sis_lin \n",
    "import pandas as pd\n",
    "from IPython.display import HTML"
   ]
  },
  {
   "cell_type": "markdown",
   "metadata": {},
   "source": [
    "<h4>Ejercicio</h4>\n",
    "<p>Resuelva el siguiente sistema por el método de Jacobi </p>\n"
   ]
  },
  {
   "cell_type": "code",
   "execution_count": 102,
   "metadata": {},
   "outputs": [
    {
     "data": {
      "text/latex": [
       "$\\displaystyle  4 x_0-1 x_1+ 0 x_2+ 0 x_3  =  1 $"
      ],
      "text/plain": [
       "<IPython.core.display.Math object>"
      ]
     },
     "metadata": {},
     "output_type": "display_data"
    },
    {
     "data": {
      "text/latex": [
       "$\\displaystyle  -1 x_0+ 4 x_1-1 x_2+ 0 x_3  =  1 $"
      ],
      "text/plain": [
       "<IPython.core.display.Math object>"
      ]
     },
     "metadata": {},
     "output_type": "display_data"
    },
    {
     "data": {
      "text/latex": [
       "$\\displaystyle  0 x_0-1 x_1+ 4 x_2-1 x_3  =  1 $"
      ],
      "text/plain": [
       "<IPython.core.display.Math object>"
      ]
     },
     "metadata": {},
     "output_type": "display_data"
    },
    {
     "data": {
      "text/latex": [
       "$\\displaystyle  0 x_0+ 0 x_1-1 x_2+ 4 x_3  =  1 $"
      ],
      "text/plain": [
       "<IPython.core.display.Math object>"
      ]
     },
     "metadata": {},
     "output_type": "display_data"
    }
   ],
   "source": [
    "a = np.matrix([[4, -1, 0, 0], [-1, 4, -1, 0], [0, -1, 4, -1], [0, 0, -1, 4]])  # Matriz de coeficientes\n",
    "b = np.matrix([[1], [1], [1], [1]]) # Vector columna de términos independientes\n",
    "tolerancia = 0.00001\n",
    "nMax = 50  # número máximo de iteraciones\n",
    "\n",
    "ltx_sis_lin(a,b)"
   ]
  },
  {
   "cell_type": "markdown",
   "metadata": {},
   "source": [
    "#### Solución:"
   ]
  },
  {
   "cell_type": "code",
   "execution_count": 117,
   "metadata": {},
   "outputs": [
    {
     "data": {
      "text/html": [
       "<h5>Tomaremos como vector inicial:</h5>"
      ],
      "text/plain": [
       "<IPython.core.display.HTML object>"
      ]
     },
     "metadata": {},
     "output_type": "display_data"
    },
    {
     "data": {
      "text/latex": [
       "$\\displaystyle  x_0 = \\begin{bmatrix}0\\\\0\\\\0\\\\0\\\\\\end{bmatrix}$"
      ],
      "text/plain": [
       "<IPython.core.display.Math object>"
      ]
     },
     "metadata": {},
     "output_type": "display_data"
    }
   ],
   "source": [
    "display(HTML(\"<h5>Tomaremos como vector inicial:</h5>\"))\n",
    "x0 = np.matrix([[0], [0], [0], [0]])\n",
    "ltx_matriz(x0,\"x_0\")"
   ]
  },
  {
   "cell_type": "code",
   "execution_count": 113,
   "metadata": {},
   "outputs": [
    {
     "data": {
      "text/html": [
       "<h5>Descomponemos la matrix de coeficientes en: una triangular superior, una triangular inferior y diagonal</h5>"
      ],
      "text/plain": [
       "<IPython.core.display.HTML object>"
      ]
     },
     "metadata": {},
     "output_type": "display_data"
    },
    {
     "data": {
      "text/latex": [
       "$\\displaystyle  T_s = \\begin{bmatrix}0 &-1 &0 &0\\\\0 &0 &-1 &0\\\\0 &0 &0 &-1\\\\0 &0 &0 &0\\\\\\end{bmatrix}$"
      ],
      "text/plain": [
       "<IPython.core.display.Math object>"
      ]
     },
     "metadata": {},
     "output_type": "display_data"
    },
    {
     "data": {
      "text/latex": [
       "$\\displaystyle  T_i = \\begin{bmatrix}0 &0 &0 &0\\\\-1 &0 &0 &0\\\\0 &-1 &0 &0\\\\0 &0 &-1 &0\\\\\\end{bmatrix}$"
      ],
      "text/plain": [
       "<IPython.core.display.Math object>"
      ]
     },
     "metadata": {},
     "output_type": "display_data"
    },
    {
     "data": {
      "text/latex": [
       "$\\displaystyle  \\frac{1}{D} = \\begin{bmatrix}0.25 &0.0 &0.0 &0.0\\\\0.0 &0.25 &0.0 &0.0\\\\0.0 &0.0 &0.25 &0.0\\\\0.0 &0.0 &0.0 &0.25\\\\\\end{bmatrix}$"
      ],
      "text/plain": [
       "<IPython.core.display.Math object>"
      ]
     },
     "metadata": {},
     "output_type": "display_data"
    }
   ],
   "source": [
    "display(HTML(\"<h5>Descomponemos la matrix de coeficientes en: una triangular superior, una triangular inferior y diagonal</h5>\"))\n",
    "ts = np.triu(a, k=1) # m. triangular superior\n",
    "ti = np.tril(a, k=-1) # m. triangular inferior\n",
    "diag_inv = np.diagflat(1 / np.diag(a)) # m. 1/diagonal\n",
    "ltx_matriz(ts,\"T_s\");ltx_matriz(ti,\"T_i\");ltx_matriz(diag_inv,r\"\\frac{1}{D}\")"
   ]
  },
  {
   "cell_type": "markdown",
   "metadata": {},
   "source": [
    "Iteramos:"
   ]
  },
  {
   "cell_type": "code",
   "execution_count": 105,
   "metadata": {},
   "outputs": [],
   "source": [
    "Iter = []\n",
    "for i in range(nMax):    \n",
    "    x1 = diag_inv * (-(ts + ti) * (x0) + b)\n",
    "    norma = np.linalg.norm(x1-x0)\n",
    "    if norma < tolerancia:\n",
    "        break\n",
    "    else:\n",
    "        x0 = x1\n",
    "    Iter.append(list(list(np.transpose(np.round(x0,4)))))\n",
    "x0 = np.round(x0,4)"
   ]
  },
  {
   "cell_type": "code",
   "execution_count": 114,
   "metadata": {},
   "outputs": [
    {
     "data": {
      "text/html": [
       "<h5>La Solución de sistema es:</h5>"
      ],
      "text/plain": [
       "<IPython.core.display.HTML object>"
      ]
     },
     "metadata": {},
     "output_type": "display_data"
    },
    {
     "data": {
      "text/latex": [
       "$\\displaystyle  x = \\begin{bmatrix}0.3636\\\\0.4545\\\\0.4545\\\\0.3636\\\\\\end{bmatrix}$"
      ],
      "text/plain": [
       "<IPython.core.display.Math object>"
      ]
     },
     "metadata": {},
     "output_type": "display_data"
    }
   ],
   "source": [
    "display(HTML(\"<h5>La Solución de sistema es:</h5>\"))\n",
    "ltx_matriz(x0,\"x\")"
   ]
  },
  {
   "cell_type": "code",
   "execution_count": 116,
   "metadata": {},
   "outputs": [
    {
     "data": {
      "text/html": [
       "<h5>Resultados de las iteraciones:</h5>"
      ],
      "text/plain": [
       "<IPython.core.display.HTML object>"
      ]
     },
     "metadata": {},
     "output_type": "display_data"
    },
    {
     "data": {
      "text/html": [
       "<div>\n",
       "<style scoped>\n",
       "    .dataframe tbody tr th:only-of-type {\n",
       "        vertical-align: middle;\n",
       "    }\n",
       "\n",
       "    .dataframe tbody tr th {\n",
       "        vertical-align: top;\n",
       "    }\n",
       "\n",
       "    .dataframe thead th {\n",
       "        text-align: right;\n",
       "    }\n",
       "</style>\n",
       "<table border=\"1\" class=\"dataframe\">\n",
       "  <thead>\n",
       "    <tr style=\"text-align: right;\">\n",
       "      <th></th>\n",
       "      <th>0</th>\n",
       "      <th>1</th>\n",
       "      <th>2</th>\n",
       "      <th>3</th>\n",
       "    </tr>\n",
       "  </thead>\n",
       "  <tbody>\n",
       "    <tr>\n",
       "      <th>0</th>\n",
       "      <td>0.2500</td>\n",
       "      <td>0.2500</td>\n",
       "      <td>0.2500</td>\n",
       "      <td>0.2500</td>\n",
       "    </tr>\n",
       "    <tr>\n",
       "      <th>1</th>\n",
       "      <td>0.3125</td>\n",
       "      <td>0.3750</td>\n",
       "      <td>0.3750</td>\n",
       "      <td>0.3125</td>\n",
       "    </tr>\n",
       "    <tr>\n",
       "      <th>2</th>\n",
       "      <td>0.3438</td>\n",
       "      <td>0.4219</td>\n",
       "      <td>0.4219</td>\n",
       "      <td>0.3438</td>\n",
       "    </tr>\n",
       "    <tr>\n",
       "      <th>3</th>\n",
       "      <td>0.3555</td>\n",
       "      <td>0.4414</td>\n",
       "      <td>0.4414</td>\n",
       "      <td>0.3555</td>\n",
       "    </tr>\n",
       "    <tr>\n",
       "      <th>4</th>\n",
       "      <td>0.3604</td>\n",
       "      <td>0.4492</td>\n",
       "      <td>0.4492</td>\n",
       "      <td>0.3604</td>\n",
       "    </tr>\n",
       "    <tr>\n",
       "      <th>5</th>\n",
       "      <td>0.3623</td>\n",
       "      <td>0.4524</td>\n",
       "      <td>0.4524</td>\n",
       "      <td>0.3623</td>\n",
       "    </tr>\n",
       "    <tr>\n",
       "      <th>6</th>\n",
       "      <td>0.3631</td>\n",
       "      <td>0.4537</td>\n",
       "      <td>0.4537</td>\n",
       "      <td>0.3631</td>\n",
       "    </tr>\n",
       "    <tr>\n",
       "      <th>7</th>\n",
       "      <td>0.3634</td>\n",
       "      <td>0.4542</td>\n",
       "      <td>0.4542</td>\n",
       "      <td>0.3634</td>\n",
       "    </tr>\n",
       "    <tr>\n",
       "      <th>8</th>\n",
       "      <td>0.3635</td>\n",
       "      <td>0.4544</td>\n",
       "      <td>0.4544</td>\n",
       "      <td>0.3635</td>\n",
       "    </tr>\n",
       "    <tr>\n",
       "      <th>9</th>\n",
       "      <td>0.3636</td>\n",
       "      <td>0.4545</td>\n",
       "      <td>0.4545</td>\n",
       "      <td>0.3636</td>\n",
       "    </tr>\n",
       "    <tr>\n",
       "      <th>10</th>\n",
       "      <td>0.3636</td>\n",
       "      <td>0.4545</td>\n",
       "      <td>0.4545</td>\n",
       "      <td>0.3636</td>\n",
       "    </tr>\n",
       "    <tr>\n",
       "      <th>11</th>\n",
       "      <td>0.3636</td>\n",
       "      <td>0.4545</td>\n",
       "      <td>0.4545</td>\n",
       "      <td>0.3636</td>\n",
       "    </tr>\n",
       "  </tbody>\n",
       "</table>\n",
       "</div>"
      ],
      "text/plain": [
       "         0       1       2       3\n",
       "0   0.2500  0.2500  0.2500  0.2500\n",
       "1   0.3125  0.3750  0.3750  0.3125\n",
       "2   0.3438  0.4219  0.4219  0.3438\n",
       "3   0.3555  0.4414  0.4414  0.3555\n",
       "4   0.3604  0.4492  0.4492  0.3604\n",
       "5   0.3623  0.4524  0.4524  0.3623\n",
       "6   0.3631  0.4537  0.4537  0.3631\n",
       "7   0.3634  0.4542  0.4542  0.3634\n",
       "8   0.3635  0.4544  0.4544  0.3635\n",
       "9   0.3636  0.4545  0.4545  0.3636\n",
       "10  0.3636  0.4545  0.4545  0.3636\n",
       "11  0.3636  0.4545  0.4545  0.3636"
      ]
     },
     "execution_count": 116,
     "metadata": {},
     "output_type": "execute_result"
    }
   ],
   "source": [
    "display(HTML(\"<h5>Resultados de las iteraciones:</h5>\"))\n",
    "pd.DataFrame([x[0] for x in Iter])"
   ]
  }
 ],
 "metadata": {
  "kernelspec": {
   "display_name": "Python 3",
   "language": "python",
   "name": "python3"
  },
  "language_info": {
   "codemirror_mode": {
    "name": "ipython",
    "version": 3
   },
   "file_extension": ".py",
   "mimetype": "text/x-python",
   "name": "python",
   "nbconvert_exporter": "python",
   "pygments_lexer": "ipython3",
   "version": "3.8.5"
  }
 },
 "nbformat": 4,
 "nbformat_minor": 4
}
