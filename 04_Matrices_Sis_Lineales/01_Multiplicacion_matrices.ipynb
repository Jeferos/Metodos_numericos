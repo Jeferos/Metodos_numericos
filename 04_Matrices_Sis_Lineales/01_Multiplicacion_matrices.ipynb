{
 "cells": [
  {
   "cell_type": "markdown",
   "metadata": {},
   "source": [
    "## Multiplicación de Matrices"
   ]
  },
  {
   "cell_type": "code",
   "execution_count": 1,
   "metadata": {
    "hideCode": false,
    "hideOutput": true
   },
   "outputs": [],
   "source": [
    "import numpy as np\n",
    "from archivos.latex_archivos import ltx_matriz as lt "
   ]
  },
  {
   "cell_type": "markdown",
   "metadata": {},
   "source": [
    "<h5>Ejercicio</h5>\n",
    "<p>Multiplicar las matrices:</p>\n"
   ]
  },
  {
   "cell_type": "code",
   "execution_count": 11,
   "metadata": {
    "hideCode": false,
    "hideOutput": false
   },
   "outputs": [
    {
     "data": {
      "text/latex": [
       "$\\displaystyle  A = \\begin{bmatrix}5 &3 &-4 &-2\\\\8 &-1 &0 &-3\\\\\\end{bmatrix}$"
      ],
      "text/plain": [
       "<IPython.core.display.Math object>"
      ]
     },
     "metadata": {},
     "output_type": "display_data"
    },
    {
     "data": {
      "text/latex": [
       "$\\displaystyle  B = \\begin{bmatrix}1 &4 &0\\\\-5 &3 &7\\\\0 &-9 &5\\\\5 &1 &4\\\\\\end{bmatrix}$"
      ],
      "text/plain": [
       "<IPython.core.display.Math object>"
      ]
     },
     "metadata": {},
     "output_type": "display_data"
    }
   ],
   "source": [
    "A = np.array([[5, 3, -4, -2], [8, -1, 0, -3]] )\n",
    "B = np.array([[1, 4, 0],[-5, 3, 7],[0, -9, 5],[5, 1, 4]]) \n",
    "lt(A, \"A\")\n",
    "lt(B, \"B\")"
   ]
  },
  {
   "cell_type": "markdown",
   "metadata": {},
   "source": [
    "#### Solución:"
   ]
  },
  {
   "cell_type": "code",
   "execution_count": 12,
   "metadata": {
    "hideCode": false,
    "hideOutput": false
   },
   "outputs": [
    {
     "name": "stdout",
     "output_type": "stream",
     "text": [
      "Las matrices se pueden multiplicar.\n"
     ]
    }
   ],
   "source": [
    "a0 = np.shape(A)[0]; a1 = np.shape(A)[1]; b0 = np.shape(B)[0]; b1 = np.shape(B)[1];\n",
    "print(\"Las matrices no se pueden multiplicar.\" if a1 != b0 else \"Las matrices se pueden multiplicar.\")"
   ]
  },
  {
   "cell_type": "code",
   "execution_count": 13,
   "metadata": {
    "hideCode": false,
    "hideOutput": false
   },
   "outputs": [],
   "source": [
    "prod = np.zeros((a0, b1))"
   ]
  },
  {
   "cell_type": "markdown",
   "metadata": {},
   "source": [
    "<strong> - Multiplicación</strong>"
   ]
  },
  {
   "cell_type": "code",
   "execution_count": 14,
   "metadata": {
    "hideCode": false,
    "hideOutput": false
   },
   "outputs": [],
   "source": [
    "for i in range(a0):    \n",
    "    for j in range(b1):\n",
    "        for k in range(a1):\n",
    "            prod[i, j] += A[i, k]*B[k, j]        "
   ]
  },
  {
   "cell_type": "markdown",
   "metadata": {},
   "source": [
    "<strong>- El resultado es:</strong>"
   ]
  },
  {
   "cell_type": "code",
   "execution_count": 17,
   "metadata": {
    "hideCode": false,
    "hideOutput": false
   },
   "outputs": [
    {
     "data": {
      "text/latex": [
       "$\\displaystyle  A \\times B = \\begin{bmatrix}-20.0 &63.0 &-7.0\\\\-2.0 &26.0 &-19.0\\\\\\end{bmatrix}$"
      ],
      "text/plain": [
       "<IPython.core.display.Math object>"
      ]
     },
     "metadata": {},
     "output_type": "display_data"
    }
   ],
   "source": [
    "lt(prod,r\"A \\times B\")"
   ]
  }
 ],
 "metadata": {
  "kernelspec": {
   "display_name": "Python 3",
   "language": "python",
   "name": "python3"
  },
  "language_info": {
   "codemirror_mode": {
    "name": "ipython",
    "version": 3
   },
   "file_extension": ".py",
   "mimetype": "text/x-python",
   "name": "python",
   "nbconvert_exporter": "python",
   "pygments_lexer": "ipython3",
   "version": "3.8.5"
  }
 },
 "nbformat": 4,
 "nbformat_minor": 4
}
