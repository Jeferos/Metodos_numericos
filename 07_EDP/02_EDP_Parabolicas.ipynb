{
 "cells": [
  {
   "cell_type": "markdown",
   "metadata": {},
   "source": [
    "## Ecuaciones Diferenciales Parciales Parabólicas\n",
    "#### Problema:"
   ]
  },
  {
   "cell_type": "markdown",
   "metadata": {},
   "source": [
    "Resuelva el siguiente sistema:\n"
   ]
  },
  {
   "cell_type": "markdown",
   "metadata": {},
   "source": [
    "$$\\frac{\\partial u}{\\partial t}=5 \\frac{\\partial^2u}{\\partial x^2} , \\quad 0 \\leq x \\leq 2, \\quad 0 \\leq t \\leq 0.25;$$"
   ]
  },
  {
   "cell_type": "markdown",
   "metadata": {},
   "source": [
    "Con la condición inicial: $$u(x,0) = 5;$$"
   ]
  },
  {
   "cell_type": "markdown",
   "metadata": {},
   "source": [
    "y las condiciones de frontera: $$u(0,t) = 0, \\quad u(2,t) =  0$$"
   ]
  },
  {
   "cell_type": "markdown",
   "metadata": {},
   "source": [
    "#### Solución:"
   ]
  },
  {
   "cell_type": "code",
   "execution_count": 92,
   "metadata": {},
   "outputs": [],
   "source": [
    "# librerías necesarias\n",
    "import numpy as np\n",
    "from archivos.latex_archivos import ltx_matriz\n",
    "import matplotlib.pyplot as plt\n",
    "plt.style.use('dark_background')"
   ]
  },
  {
   "cell_type": "code",
   "execution_count": 93,
   "metadata": {},
   "outputs": [],
   "source": [
    "# Inicialización de variables\n",
    "Δx = 0.25 # valor que asumieremos \n",
    "Δt = 0.002 # valor que asumieremos \n",
    "\n",
    "t0 = 0  # valor inferior de t\n",
    "tf = 0.25  # valor superior de t\n",
    "x0 = 0  # valor inferior de x\n",
    "xf = 2  # valor superior de x\n",
    "\n",
    "k = 5 # coeficiente del término cuadrático  \n",
    "\n",
    "# Valores que definen la frontera\n",
    "\n",
    "uxI = 5  # valor inferior de x\n",
    "\n",
    "utI = 0  # valor inferior de t\n",
    "utS = 0  # valor superior de t"
   ]
  },
  {
   "cell_type": "markdown",
   "metadata": {},
   "source": [
    "Revisión de los $\\Delta$ iniciales:"
   ]
  },
  {
   "cell_type": "code",
   "execution_count": 94,
   "metadata": {},
   "outputs": [
    {
     "data": {
      "text/plain": [
       "'Hay convergencia'"
      ]
     },
     "execution_count": 94,
     "metadata": {},
     "output_type": "execute_result"
    }
   ],
   "source": [
    "cvg = Δx ** 2 / (2 * k)\n",
    "λ = k *  Δt / (Δx) ** 2\n",
    "convergencia = \"Hay convergencia\" if cvg > Δt and λ < 0.5 else \"No hay convergencia, cambie el valor de Δt\"  \n",
    "convergencia"
   ]
  },
  {
   "cell_type": "markdown",
   "metadata": {},
   "source": [
    "Cálculo de la matriz inicial:"
   ]
  },
  {
   "cell_type": "code",
   "execution_count": 95,
   "metadata": {},
   "outputs": [
    {
     "data": {
      "text/latex": [
       "$\\displaystyle  Minicial = \\begin{bmatrix}0.0 &0.0 &0.0 &0.0 &0.0 &0.0 &0.0 &0.0 &0.0 &0.0 &0.0 &0.0 &0.0 &0.0 &0.0 &0.0 &0.0 &0.0 &0.0 &0.0 &0.0 &0.0 &0.0 &0.0 &0.0 &0.0 &0.0 &0.0 &0.0 &0.0 &0.0 &0.0 &0.0 &0.0 &0.0 &0.0 &0.0 &0.0 &0.0 &0.0 &0.0 &0.0 &0.0 &0.0 &0.0 &0.0 &0.0 &0.0 &0.0 &0.0 &0.0 &0.0 &0.0 &0.0 &0.0 &0.0 &0.0 &0.0 &0.0 &0.0 &0.0 &0.0 &0.0 &0.0 &0.0 &0.0 &0.0 &0.0 &0.0 &0.0 &0.0 &0.0 &0.0 &0.0 &0.0 &0.0 &0.0 &0.0 &0.0 &0.0 &0.0 &0.0 &0.0 &0.0 &0.0 &0.0 &0.0 &0.0 &0.0 &0.0 &0.0 &0.0 &0.0 &0.0 &0.0 &0.0 &0.0 &0.0 &0.0 &0.0 &0.0 &0.0 &0.0 &0.0 &0.0 &0.0 &0.0 &0.0 &0.0 &0.0 &0.0 &0.0 &0.0 &0.0 &0.0 &0.0 &0.0 &0.0 &0.0 &0.0 &0.0 &0.0 &0.0 &0.0 &0.0 &0.0\\\\5.0 &0.0 &0.0 &0.0 &0.0 &0.0 &0.0 &0.0 &0.0 &0.0 &0.0 &0.0 &0.0 &0.0 &0.0 &0.0 &0.0 &0.0 &0.0 &0.0 &0.0 &0.0 &0.0 &0.0 &0.0 &0.0 &0.0 &0.0 &0.0 &0.0 &0.0 &0.0 &0.0 &0.0 &0.0 &0.0 &0.0 &0.0 &0.0 &0.0 &0.0 &0.0 &0.0 &0.0 &0.0 &0.0 &0.0 &0.0 &0.0 &0.0 &0.0 &0.0 &0.0 &0.0 &0.0 &0.0 &0.0 &0.0 &0.0 &0.0 &0.0 &0.0 &0.0 &0.0 &0.0 &0.0 &0.0 &0.0 &0.0 &0.0 &0.0 &0.0 &0.0 &0.0 &0.0 &0.0 &0.0 &0.0 &0.0 &0.0 &0.0 &0.0 &0.0 &0.0 &0.0 &0.0 &0.0 &0.0 &0.0 &0.0 &0.0 &0.0 &0.0 &0.0 &0.0 &0.0 &0.0 &0.0 &0.0 &0.0 &0.0 &0.0 &0.0 &0.0 &0.0 &0.0 &0.0 &0.0 &0.0 &0.0 &0.0 &0.0 &0.0 &0.0 &0.0 &0.0 &0.0 &0.0 &0.0 &0.0 &0.0 &0.0 &0.0 &0.0 &0.0 &0.0\\\\5.0 &0.0 &0.0 &0.0 &0.0 &0.0 &0.0 &0.0 &0.0 &0.0 &0.0 &0.0 &0.0 &0.0 &0.0 &0.0 &0.0 &0.0 &0.0 &0.0 &0.0 &0.0 &0.0 &0.0 &0.0 &0.0 &0.0 &0.0 &0.0 &0.0 &0.0 &0.0 &0.0 &0.0 &0.0 &0.0 &0.0 &0.0 &0.0 &0.0 &0.0 &0.0 &0.0 &0.0 &0.0 &0.0 &0.0 &0.0 &0.0 &0.0 &0.0 &0.0 &0.0 &0.0 &0.0 &0.0 &0.0 &0.0 &0.0 &0.0 &0.0 &0.0 &0.0 &0.0 &0.0 &0.0 &0.0 &0.0 &0.0 &0.0 &0.0 &0.0 &0.0 &0.0 &0.0 &0.0 &0.0 &0.0 &0.0 &0.0 &0.0 &0.0 &0.0 &0.0 &0.0 &0.0 &0.0 &0.0 &0.0 &0.0 &0.0 &0.0 &0.0 &0.0 &0.0 &0.0 &0.0 &0.0 &0.0 &0.0 &0.0 &0.0 &0.0 &0.0 &0.0 &0.0 &0.0 &0.0 &0.0 &0.0 &0.0 &0.0 &0.0 &0.0 &0.0 &0.0 &0.0 &0.0 &0.0 &0.0 &0.0 &0.0 &0.0 &0.0 &0.0 &0.0\\\\5.0 &0.0 &0.0 &0.0 &0.0 &0.0 &0.0 &0.0 &0.0 &0.0 &0.0 &0.0 &0.0 &0.0 &0.0 &0.0 &0.0 &0.0 &0.0 &0.0 &0.0 &0.0 &0.0 &0.0 &0.0 &0.0 &0.0 &0.0 &0.0 &0.0 &0.0 &0.0 &0.0 &0.0 &0.0 &0.0 &0.0 &0.0 &0.0 &0.0 &0.0 &0.0 &0.0 &0.0 &0.0 &0.0 &0.0 &0.0 &0.0 &0.0 &0.0 &0.0 &0.0 &0.0 &0.0 &0.0 &0.0 &0.0 &0.0 &0.0 &0.0 &0.0 &0.0 &0.0 &0.0 &0.0 &0.0 &0.0 &0.0 &0.0 &0.0 &0.0 &0.0 &0.0 &0.0 &0.0 &0.0 &0.0 &0.0 &0.0 &0.0 &0.0 &0.0 &0.0 &0.0 &0.0 &0.0 &0.0 &0.0 &0.0 &0.0 &0.0 &0.0 &0.0 &0.0 &0.0 &0.0 &0.0 &0.0 &0.0 &0.0 &0.0 &0.0 &0.0 &0.0 &0.0 &0.0 &0.0 &0.0 &0.0 &0.0 &0.0 &0.0 &0.0 &0.0 &0.0 &0.0 &0.0 &0.0 &0.0 &0.0 &0.0 &0.0 &0.0 &0.0 &0.0\\\\5.0 &0.0 &0.0 &0.0 &0.0 &0.0 &0.0 &0.0 &0.0 &0.0 &0.0 &0.0 &0.0 &0.0 &0.0 &0.0 &0.0 &0.0 &0.0 &0.0 &0.0 &0.0 &0.0 &0.0 &0.0 &0.0 &0.0 &0.0 &0.0 &0.0 &0.0 &0.0 &0.0 &0.0 &0.0 &0.0 &0.0 &0.0 &0.0 &0.0 &0.0 &0.0 &0.0 &0.0 &0.0 &0.0 &0.0 &0.0 &0.0 &0.0 &0.0 &0.0 &0.0 &0.0 &0.0 &0.0 &0.0 &0.0 &0.0 &0.0 &0.0 &0.0 &0.0 &0.0 &0.0 &0.0 &0.0 &0.0 &0.0 &0.0 &0.0 &0.0 &0.0 &0.0 &0.0 &0.0 &0.0 &0.0 &0.0 &0.0 &0.0 &0.0 &0.0 &0.0 &0.0 &0.0 &0.0 &0.0 &0.0 &0.0 &0.0 &0.0 &0.0 &0.0 &0.0 &0.0 &0.0 &0.0 &0.0 &0.0 &0.0 &0.0 &0.0 &0.0 &0.0 &0.0 &0.0 &0.0 &0.0 &0.0 &0.0 &0.0 &0.0 &0.0 &0.0 &0.0 &0.0 &0.0 &0.0 &0.0 &0.0 &0.0 &0.0 &0.0 &0.0 &0.0\\\\5.0 &0.0 &0.0 &0.0 &0.0 &0.0 &0.0 &0.0 &0.0 &0.0 &0.0 &0.0 &0.0 &0.0 &0.0 &0.0 &0.0 &0.0 &0.0 &0.0 &0.0 &0.0 &0.0 &0.0 &0.0 &0.0 &0.0 &0.0 &0.0 &0.0 &0.0 &0.0 &0.0 &0.0 &0.0 &0.0 &0.0 &0.0 &0.0 &0.0 &0.0 &0.0 &0.0 &0.0 &0.0 &0.0 &0.0 &0.0 &0.0 &0.0 &0.0 &0.0 &0.0 &0.0 &0.0 &0.0 &0.0 &0.0 &0.0 &0.0 &0.0 &0.0 &0.0 &0.0 &0.0 &0.0 &0.0 &0.0 &0.0 &0.0 &0.0 &0.0 &0.0 &0.0 &0.0 &0.0 &0.0 &0.0 &0.0 &0.0 &0.0 &0.0 &0.0 &0.0 &0.0 &0.0 &0.0 &0.0 &0.0 &0.0 &0.0 &0.0 &0.0 &0.0 &0.0 &0.0 &0.0 &0.0 &0.0 &0.0 &0.0 &0.0 &0.0 &0.0 &0.0 &0.0 &0.0 &0.0 &0.0 &0.0 &0.0 &0.0 &0.0 &0.0 &0.0 &0.0 &0.0 &0.0 &0.0 &0.0 &0.0 &0.0 &0.0 &0.0 &0.0 &0.0\\\\5.0 &0.0 &0.0 &0.0 &0.0 &0.0 &0.0 &0.0 &0.0 &0.0 &0.0 &0.0 &0.0 &0.0 &0.0 &0.0 &0.0 &0.0 &0.0 &0.0 &0.0 &0.0 &0.0 &0.0 &0.0 &0.0 &0.0 &0.0 &0.0 &0.0 &0.0 &0.0 &0.0 &0.0 &0.0 &0.0 &0.0 &0.0 &0.0 &0.0 &0.0 &0.0 &0.0 &0.0 &0.0 &0.0 &0.0 &0.0 &0.0 &0.0 &0.0 &0.0 &0.0 &0.0 &0.0 &0.0 &0.0 &0.0 &0.0 &0.0 &0.0 &0.0 &0.0 &0.0 &0.0 &0.0 &0.0 &0.0 &0.0 &0.0 &0.0 &0.0 &0.0 &0.0 &0.0 &0.0 &0.0 &0.0 &0.0 &0.0 &0.0 &0.0 &0.0 &0.0 &0.0 &0.0 &0.0 &0.0 &0.0 &0.0 &0.0 &0.0 &0.0 &0.0 &0.0 &0.0 &0.0 &0.0 &0.0 &0.0 &0.0 &0.0 &0.0 &0.0 &0.0 &0.0 &0.0 &0.0 &0.0 &0.0 &0.0 &0.0 &0.0 &0.0 &0.0 &0.0 &0.0 &0.0 &0.0 &0.0 &0.0 &0.0 &0.0 &0.0 &0.0 &0.0\\\\5.0 &0.0 &0.0 &0.0 &0.0 &0.0 &0.0 &0.0 &0.0 &0.0 &0.0 &0.0 &0.0 &0.0 &0.0 &0.0 &0.0 &0.0 &0.0 &0.0 &0.0 &0.0 &0.0 &0.0 &0.0 &0.0 &0.0 &0.0 &0.0 &0.0 &0.0 &0.0 &0.0 &0.0 &0.0 &0.0 &0.0 &0.0 &0.0 &0.0 &0.0 &0.0 &0.0 &0.0 &0.0 &0.0 &0.0 &0.0 &0.0 &0.0 &0.0 &0.0 &0.0 &0.0 &0.0 &0.0 &0.0 &0.0 &0.0 &0.0 &0.0 &0.0 &0.0 &0.0 &0.0 &0.0 &0.0 &0.0 &0.0 &0.0 &0.0 &0.0 &0.0 &0.0 &0.0 &0.0 &0.0 &0.0 &0.0 &0.0 &0.0 &0.0 &0.0 &0.0 &0.0 &0.0 &0.0 &0.0 &0.0 &0.0 &0.0 &0.0 &0.0 &0.0 &0.0 &0.0 &0.0 &0.0 &0.0 &0.0 &0.0 &0.0 &0.0 &0.0 &0.0 &0.0 &0.0 &0.0 &0.0 &0.0 &0.0 &0.0 &0.0 &0.0 &0.0 &0.0 &0.0 &0.0 &0.0 &0.0 &0.0 &0.0 &0.0 &0.0 &0.0 &0.0\\\\0.0 &0.0 &0.0 &0.0 &0.0 &0.0 &0.0 &0.0 &0.0 &0.0 &0.0 &0.0 &0.0 &0.0 &0.0 &0.0 &0.0 &0.0 &0.0 &0.0 &0.0 &0.0 &0.0 &0.0 &0.0 &0.0 &0.0 &0.0 &0.0 &0.0 &0.0 &0.0 &0.0 &0.0 &0.0 &0.0 &0.0 &0.0 &0.0 &0.0 &0.0 &0.0 &0.0 &0.0 &0.0 &0.0 &0.0 &0.0 &0.0 &0.0 &0.0 &0.0 &0.0 &0.0 &0.0 &0.0 &0.0 &0.0 &0.0 &0.0 &0.0 &0.0 &0.0 &0.0 &0.0 &0.0 &0.0 &0.0 &0.0 &0.0 &0.0 &0.0 &0.0 &0.0 &0.0 &0.0 &0.0 &0.0 &0.0 &0.0 &0.0 &0.0 &0.0 &0.0 &0.0 &0.0 &0.0 &0.0 &0.0 &0.0 &0.0 &0.0 &0.0 &0.0 &0.0 &0.0 &0.0 &0.0 &0.0 &0.0 &0.0 &0.0 &0.0 &0.0 &0.0 &0.0 &0.0 &0.0 &0.0 &0.0 &0.0 &0.0 &0.0 &0.0 &0.0 &0.0 &0.0 &0.0 &0.0 &0.0 &0.0 &0.0 &0.0 &0.0 &0.0 &0.0\\\\\\end{bmatrix}$"
      ],
      "text/plain": [
       "<IPython.core.display.Math object>"
      ]
     },
     "metadata": {},
     "output_type": "display_data"
    }
   ],
   "source": [
    "n = int((xf - x0) / Δx + 1)  # número de filas de la matriz\n",
    "m = int((tf - t0) / Δt + 1)  # número de columnas\n",
    "\n",
    "x = np.arange(x0, xf + Δx, Δx)\n",
    "t = np.arange(t0, tf + Δt, Δt)\n",
    "\n",
    "a = np.zeros([n, m])\n",
    "b = np.zeros([n, m])\n",
    "\n",
    "# matriz exterior  \n",
    "for i in range(n):\n",
    "    a[i, 0] = uxI     \n",
    "    \n",
    "for i in range(m):\n",
    "    a[0, i] = utI\n",
    "\n",
    "for i in range(m):\n",
    "    a[-1, i] = utS\n",
    "\n",
    "a = a[:: -1]\n",
    "ltx_matriz(a,\"Minicial\")"
   ]
  },
  {
   "cell_type": "markdown",
   "metadata": {},
   "source": [
    "Iterraciones:"
   ]
  },
  {
   "cell_type": "code",
   "execution_count": 96,
   "metadata": {},
   "outputs": [
    {
     "data": {
      "text/latex": [
       "$\\displaystyle  Msol = \\begin{bmatrix}0.0 &0.0 &0.0 &0.0 &0.0 &0.0 &0.0 &0.0 &0.0 &0.0 &0.0 &0.0 &0.0 &0.0 &0.0 &0.0 &0.0 &0.0 &0.0 &0.0 &0.0 &0.0 &0.0 &0.0 &0.0 &0.0 &0.0 &0.0 &0.0 &0.0 &0.0 &0.0 &0.0 &0.0 &0.0 &0.0 &0.0 &0.0 &0.0 &0.0 &0.0 &0.0 &0.0 &0.0 &0.0 &0.0 &0.0 &0.0 &0.0 &0.0 &0.0 &0.0 &0.0 &0.0 &0.0 &0.0 &0.0 &0.0 &0.0 &0.0 &0.0 &0.0 &0.0 &0.0 &0.0 &0.0 &0.0 &0.0 &0.0 &0.0 &0.0 &0.0 &0.0 &0.0 &0.0 &0.0 &0.0 &0.0 &0.0 &0.0 &0.0 &0.0 &0.0 &0.0 &0.0 &0.0 &0.0 &0.0 &0.0 &0.0 &0.0 &0.0 &0.0 &0.0 &0.0 &0.0 &0.0 &0.0 &0.0 &0.0 &0.0 &0.0 &0.0 &0.0 &0.0 &0.0 &0.0 &0.0 &0.0 &0.0 &0.0 &0.0 &0.0 &0.0 &0.0 &0.0 &0.0 &0.0 &0.0 &0.0 &0.0 &0.0 &0.0 &0.0 &0.0 &0.0\\\\5.0 &4.2 &3.656 &3.2656 &2.9723 &2.7434 &2.5591 &2.4069 &2.2787 &2.1687 &2.0729 &1.9883 &1.9128 &1.8445 &1.7823 &1.7251 &1.672 &1.6224 &1.5757 &1.5316 &1.4898 &1.4498 &1.4115 &1.3748 &1.3394 &1.3053 &1.2722 &1.2403 &1.2093 &1.1792 &1.15 &1.1215 &1.0939 &1.067 &1.0408 &1.0153 &0.9904 &0.9662 &0.9425 &0.9195 &0.8971 &0.8752 &0.8538 &0.833 &0.8127 &0.7929 &0.7735 &0.7547 &0.7363 &0.7183 &0.7008 &0.6838 &0.6671 &0.6508 &0.635 &0.6195 &0.6044 &0.5897 &0.5753 &0.5613 &0.5477 &0.5343 &0.5213 &0.5086 &0.4962 &0.4841 &0.4723 &0.4608 &0.4496 &0.4386 &0.428 &0.4175 &0.4074 &0.3974 &0.3878 &0.3783 &0.3691 &0.3601 &0.3513 &0.3428 &0.3344 &0.3263 &0.3183 &0.3106 &0.303 &0.2956 &0.2884 &0.2814 &0.2746 &0.2679 &0.2613 &0.255 &0.2488 &0.2427 &0.2368 &0.231 &0.2254 &0.2199 &0.2146 &0.2093 &0.2042 &0.1993 &0.1944 &0.1897 &0.185 &0.1805 &0.1761 &0.1718 &0.1677 &0.1636 &0.1596 &0.1557 &0.1519 &0.1482 &0.1446 &0.1411 &0.1376 &0.1343 &0.131 &0.1278 &0.1247 &0.1217 &0.1187 &0.1158 &0.113 &0.1102\\\\5.0 &5.0 &4.872 &4.6979 &4.5138 &4.335 &4.1673 &4.0124 &3.8699 &3.7386 &3.6172 &3.5044 &3.3991 &3.3002 &3.2068 &3.1183 &3.0339 &2.9533 &2.8759 &2.8015 &2.7298 &2.6605 &2.5934 &2.5284 &2.4654 &2.4042 &2.3447 &2.2868 &2.2305 &2.1757 &2.1223 &2.0703 &2.0196 &1.9702 &1.9221 &1.8751 &1.8293 &1.7847 &1.7412 &1.6987 &1.6573 &1.6169 &1.5775 &1.539 &1.5015 &1.4649 &1.4292 &1.3944 &1.3604 &1.3273 &1.2949 &1.2634 &1.2326 &1.2026 &1.1733 &1.1447 &1.1168 &1.0896 &1.0631 &1.0372 &1.0119 &0.9873 &0.9632 &0.9398 &0.9169 &0.8945 &0.8727 &0.8515 &0.8307 &0.8105 &0.7908 &0.7715 &0.7527 &0.7344 &0.7165 &0.699 &0.682 &0.6654 &0.6492 &0.6334 &0.6179 &0.6029 &0.5882 &0.5739 &0.5599 &0.5463 &0.533 &0.52 &0.5073 &0.495 &0.4829 &0.4711 &0.4597 &0.4485 &0.4375 &0.4269 &0.4165 &0.4063 &0.3964 &0.3868 &0.3774 &0.3682 &0.3592 &0.3505 &0.3419 &0.3336 &0.3255 &0.3175 &0.3098 &0.3023 &0.2949 &0.2877 &0.2807 &0.2739 &0.2672 &0.2607 &0.2543 &0.2481 &0.2421 &0.2362 &0.2304 &0.2248 &0.2194 &0.214 &0.2088 &0.2037\\\\5.0 &5.0 &5.0 &4.9795 &4.9377 &4.8788 &4.8073 &4.7269 &4.6404 &4.5498 &4.4568 &4.3623 &4.2673 &4.1723 &4.0778 &3.9842 &3.8918 &3.8007 &3.711 &3.623 &3.5366 &3.452 &3.3692 &3.2881 &3.2088 &3.1312 &3.0555 &2.9814 &2.9091 &2.8385 &2.7696 &2.7023 &2.6366 &2.5725 &2.5099 &2.4489 &2.3893 &2.3311 &2.2744 &2.219 &2.165 &2.1123 &2.0608 &2.0106 &1.9617 &1.9139 &1.8673 &1.8218 &1.7774 &1.7341 &1.6919 &1.6507 &1.6105 &1.5712 &1.533 &1.4956 &1.4592 &1.4237 &1.389 &1.3552 &1.3221 &1.2899 &1.2585 &1.2279 &1.198 &1.1688 &1.1403 &1.1125 &1.0854 &1.059 &1.0332 &1.008 &0.9835 &0.9595 &0.9361 &0.9133 &0.8911 &0.8694 &0.8482 &0.8275 &0.8074 &0.7877 &0.7685 &0.7498 &0.7315 &0.7137 &0.6963 &0.6794 &0.6628 &0.6467 &0.6309 &0.6156 &0.6006 &0.5859 &0.5717 &0.5577 &0.5442 &0.5309 &0.518 &0.5054 &0.493 &0.481 &0.4693 &0.4579 &0.4467 &0.4359 &0.4252 &0.4149 &0.4048 &0.3949 &0.3853 &0.3759 &0.3668 &0.3578 &0.3491 &0.3406 &0.3323 &0.3242 &0.3163 &0.3086 &0.3011 &0.2938 &0.2866 &0.2796 &0.2728 &0.2662\\\\5.0 &5.0 &5.0 &5.0 &4.9934 &4.9756 &4.9446 &4.9007 &4.8451 &4.7796 &4.7061 &4.6263 &4.5418 &4.454 &4.3638 &4.2723 &4.1801 &4.0879 &3.996 &3.9048 &3.8146 &3.7257 &3.6381 &3.552 &3.4676 &3.3847 &3.3036 &3.2242 &3.1465 &3.0706 &2.9963 &2.9238 &2.8529 &2.7837 &2.7161 &2.6501 &2.5857 &2.5229 &2.4615 &2.4016 &2.3432 &2.2862 &2.2305 &2.1762 &2.1232 &2.0715 &2.0211 &1.9719 &1.9238 &1.877 &1.8313 &1.7867 &1.7432 &1.7007 &1.6593 &1.6189 &1.5794 &1.541 &1.5034 &1.4668 &1.4311 &1.3962 &1.3622 &1.329 &1.2967 &1.2651 &1.2343 &1.2042 &1.1749 &1.1462 &1.1183 &1.0911 &1.0645 &1.0386 &1.0133 &0.9886 &0.9645 &0.941 &0.9181 &0.8957 &0.8739 &0.8526 &0.8319 &0.8116 &0.7918 &0.7725 &0.7537 &0.7354 &0.7174 &0.7 &0.6829 &0.6663 &0.6501 &0.6342 &0.6188 &0.6037 &0.589 &0.5746 &0.5607 &0.547 &0.5337 &0.5207 &0.508 &0.4956 &0.4835 &0.4718 &0.4603 &0.4491 &0.4381 &0.4274 &0.417 &0.4069 &0.397 &0.3873 &0.3779 &0.3687 &0.3597 &0.3509 &0.3424 &0.334 &0.3259 &0.318 &0.3102 &0.3027 &0.2953 &0.2881\\\\5.0 &5.0 &5.0 &4.9795 &4.9377 &4.8788 &4.8073 &4.7269 &4.6404 &4.5498 &4.4568 &4.3623 &4.2673 &4.1723 &4.0778 &3.9842 &3.8918 &3.8007 &3.711 &3.623 &3.5366 &3.452 &3.3692 &3.2881 &3.2088 &3.1312 &3.0555 &2.9814 &2.9091 &2.8385 &2.7696 &2.7023 &2.6366 &2.5725 &2.5099 &2.4489 &2.3893 &2.3311 &2.2744 &2.219 &2.165 &2.1123 &2.0608 &2.0106 &1.9617 &1.9139 &1.8673 &1.8218 &1.7774 &1.7341 &1.6919 &1.6507 &1.6105 &1.5712 &1.533 &1.4956 &1.4592 &1.4237 &1.389 &1.3552 &1.3221 &1.2899 &1.2585 &1.2279 &1.198 &1.1688 &1.1403 &1.1125 &1.0854 &1.059 &1.0332 &1.008 &0.9835 &0.9595 &0.9361 &0.9133 &0.8911 &0.8694 &0.8482 &0.8275 &0.8074 &0.7877 &0.7685 &0.7498 &0.7315 &0.7137 &0.6963 &0.6794 &0.6628 &0.6467 &0.6309 &0.6156 &0.6006 &0.5859 &0.5717 &0.5577 &0.5442 &0.5309 &0.518 &0.5054 &0.493 &0.481 &0.4693 &0.4579 &0.4467 &0.4359 &0.4252 &0.4149 &0.4048 &0.3949 &0.3853 &0.3759 &0.3668 &0.3578 &0.3491 &0.3406 &0.3323 &0.3242 &0.3163 &0.3086 &0.3011 &0.2938 &0.2866 &0.2796 &0.2728 &0.2662\\\\5.0 &5.0 &4.872 &4.6979 &4.5138 &4.335 &4.1673 &4.0124 &3.8699 &3.7386 &3.6172 &3.5044 &3.3991 &3.3002 &3.2068 &3.1183 &3.0339 &2.9533 &2.8759 &2.8015 &2.7298 &2.6605 &2.5934 &2.5284 &2.4654 &2.4042 &2.3447 &2.2868 &2.2305 &2.1757 &2.1223 &2.0703 &2.0196 &1.9702 &1.9221 &1.8751 &1.8293 &1.7847 &1.7412 &1.6987 &1.6573 &1.6169 &1.5775 &1.539 &1.5015 &1.4649 &1.4292 &1.3944 &1.3604 &1.3273 &1.2949 &1.2634 &1.2326 &1.2026 &1.1733 &1.1447 &1.1168 &1.0896 &1.0631 &1.0372 &1.0119 &0.9873 &0.9632 &0.9398 &0.9169 &0.8945 &0.8727 &0.8515 &0.8307 &0.8105 &0.7908 &0.7715 &0.7527 &0.7344 &0.7165 &0.699 &0.682 &0.6654 &0.6492 &0.6334 &0.6179 &0.6029 &0.5882 &0.5739 &0.5599 &0.5463 &0.533 &0.52 &0.5073 &0.495 &0.4829 &0.4711 &0.4597 &0.4485 &0.4375 &0.4269 &0.4165 &0.4063 &0.3964 &0.3868 &0.3774 &0.3682 &0.3592 &0.3505 &0.3419 &0.3336 &0.3255 &0.3175 &0.3098 &0.3023 &0.2949 &0.2877 &0.2807 &0.2739 &0.2672 &0.2607 &0.2543 &0.2481 &0.2421 &0.2362 &0.2304 &0.2248 &0.2194 &0.214 &0.2088 &0.2037\\\\5.0 &4.2 &3.656 &3.2656 &2.9723 &2.7434 &2.5591 &2.4069 &2.2787 &2.1687 &2.0729 &1.9883 &1.9128 &1.8445 &1.7823 &1.7251 &1.672 &1.6224 &1.5757 &1.5316 &1.4898 &1.4498 &1.4115 &1.3748 &1.3394 &1.3053 &1.2722 &1.2403 &1.2093 &1.1792 &1.15 &1.1215 &1.0939 &1.067 &1.0408 &1.0153 &0.9904 &0.9662 &0.9425 &0.9195 &0.8971 &0.8752 &0.8538 &0.833 &0.8127 &0.7929 &0.7735 &0.7547 &0.7363 &0.7183 &0.7008 &0.6838 &0.6671 &0.6508 &0.635 &0.6195 &0.6044 &0.5897 &0.5753 &0.5613 &0.5477 &0.5343 &0.5213 &0.5086 &0.4962 &0.4841 &0.4723 &0.4608 &0.4496 &0.4386 &0.428 &0.4175 &0.4074 &0.3974 &0.3878 &0.3783 &0.3691 &0.3601 &0.3513 &0.3428 &0.3344 &0.3263 &0.3183 &0.3106 &0.303 &0.2956 &0.2884 &0.2814 &0.2746 &0.2679 &0.2613 &0.255 &0.2488 &0.2427 &0.2368 &0.231 &0.2254 &0.2199 &0.2146 &0.2093 &0.2042 &0.1993 &0.1944 &0.1897 &0.185 &0.1805 &0.1761 &0.1718 &0.1677 &0.1636 &0.1596 &0.1557 &0.1519 &0.1482 &0.1446 &0.1411 &0.1376 &0.1343 &0.131 &0.1278 &0.1247 &0.1217 &0.1187 &0.1158 &0.113 &0.1102\\\\0.0 &0.0 &0.0 &0.0 &0.0 &0.0 &0.0 &0.0 &0.0 &0.0 &0.0 &0.0 &0.0 &0.0 &0.0 &0.0 &0.0 &0.0 &0.0 &0.0 &0.0 &0.0 &0.0 &0.0 &0.0 &0.0 &0.0 &0.0 &0.0 &0.0 &0.0 &0.0 &0.0 &0.0 &0.0 &0.0 &0.0 &0.0 &0.0 &0.0 &0.0 &0.0 &0.0 &0.0 &0.0 &0.0 &0.0 &0.0 &0.0 &0.0 &0.0 &0.0 &0.0 &0.0 &0.0 &0.0 &0.0 &0.0 &0.0 &0.0 &0.0 &0.0 &0.0 &0.0 &0.0 &0.0 &0.0 &0.0 &0.0 &0.0 &0.0 &0.0 &0.0 &0.0 &0.0 &0.0 &0.0 &0.0 &0.0 &0.0 &0.0 &0.0 &0.0 &0.0 &0.0 &0.0 &0.0 &0.0 &0.0 &0.0 &0.0 &0.0 &0.0 &0.0 &0.0 &0.0 &0.0 &0.0 &0.0 &0.0 &0.0 &0.0 &0.0 &0.0 &0.0 &0.0 &0.0 &0.0 &0.0 &0.0 &0.0 &0.0 &0.0 &0.0 &0.0 &0.0 &0.0 &0.0 &0.0 &0.0 &0.0 &0.0 &0.0 &0.0 &0.0 &0.0\\\\\\end{bmatrix}$"
      ],
      "text/plain": [
       "<IPython.core.display.Math object>"
      ]
     },
     "metadata": {},
     "output_type": "display_data"
    }
   ],
   "source": [
    "for j in range(m - 1):\n",
    "    for i in range(n - 2):\n",
    "        a[i + 1, j + 1 ] = a[i + 1, j] + λ * (a[i + 2, j] - 2 * a[i + 1, j] + a[i, j])\n",
    "\n",
    "ltx_matriz(np.round(a,4),\"Msol\")"
   ]
  },
  {
   "cell_type": "markdown",
   "metadata": {},
   "source": [
    "Gráfico:"
   ]
  },
  {
   "cell_type": "code",
   "execution_count": 97,
   "metadata": {},
   "outputs": [],
   "source": [
    "T, X = np.meshgrid(t, x)\n",
    "a = a[:: -1]"
   ]
  },
  {
   "cell_type": "code",
   "execution_count": 98,
   "metadata": {},
   "outputs": [
    {
     "data": {
      "text/plain": [
       "<matplotlib.colorbar.Colorbar at 0x65fc040>"
      ]
     },
     "execution_count": 98,
     "metadata": {},
     "output_type": "execute_result"
    },
    {
     "data": {
      "image/png": "[encoded data removed]",
      "text/plain": [
       "<Figure size 432x288 with 2 Axes>"
      ]
     },
     "metadata": {},
     "output_type": "display_data"
    }
   ],
   "source": [
    "plt.contourf(T, X, a, 50, cmap = 'hot')\n",
    "plt.title(\"Solución de la Ecuación Diferencial\")\n",
    "plt.xlabel('t')\n",
    "plt.ylabel('x')\n",
    "plt.colorbar()"
   ]
  }
 ],
 "metadata": {
  "kernelspec": {
   "display_name": "Python 3",
   "language": "python",
   "name": "python3"
  },
  "language_info": {
   "codemirror_mode": {
    "name": "ipython",
    "version": 3
   },
   "file_extension": ".py",
   "mimetype": "text/x-python",
   "name": "python",
   "nbconvert_exporter": "python",
   "pygments_lexer": "ipython3",
   "version": "3.8.5"
  }
 },
 "nbformat": 4,
 "nbformat_minor": 4
}
