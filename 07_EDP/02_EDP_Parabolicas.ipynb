{
 "cells": [
  {
   "cell_type": "markdown",
   "metadata": {},
   "source": [
    "## Ecuaciones Diferenciales Parciales Parabólicas\n",
    "#### Problema:"
   ]
  },
  {
   "cell_type": "markdown",
   "metadata": {},
   "source": [
    "Resuelva el siguiente sistema:\n"
   ]
  },
  {
   "cell_type": "markdown",
   "metadata": {},
   "source": [
    "$$\\frac{\\partial u}{\\partial t}=5 \\frac{\\partial^2u}{\\partial x^2} , \\quad 0 \\leq x \\leq 2, \\quad 0 \\leq t \\leq 0.25;$$"
   ]
  },
  {
   "cell_type": "markdown",
   "metadata": {},
   "source": [
    "Con la condición inicial: $$u(x,0) = 5;$$"
   ]
  },
  {
   "cell_type": "markdown",
   "metadata": {},
   "source": [
    "y las condiciones de frontera: $$u(0,t) = 0, \\quad u(2,t) =  0$$"
   ]
  },
  {
   "cell_type": "markdown",
   "metadata": {},
   "source": [
    "#### Solución:"
   ]
  },
  {
   "cell_type": "code",
   "execution_count": 19,
   "metadata": {},
   "outputs": [],
   "source": [
    "# librerías necesarias\n",
    "import numpy as np\n",
    "from archivos.latex_archivos import ltx_matriz\n",
    "import pandas as pd\n",
    "import matplotlib.pyplot as plt\n",
    "from IPython.display import HTML\n",
    "plt.style.use('dark_background')"
   ]
  },
  {
   "cell_type": "code",
   "execution_count": 8,
   "metadata": {},
   "outputs": [],
   "source": [
    "# Inicialización de variables\n",
    "Δx = 0.25 # valor que asumieremos \n",
    "Δt = 0.002 # valor que asumieremos \n",
    "\n",
    "t0 = 0  # valor inferior de t\n",
    "tf = 0.25  # valor superior de t\n",
    "x0 = 0  # valor inferior de x\n",
    "xf = 2  # valor superior de x\n",
    "\n",
    "k = 5 # coeficiente del término cuadrático  \n",
    "\n",
    "# Valores que definen la frontera\n",
    "\n",
    "uxI = 5  # valor inferior de x\n",
    "\n",
    "utI = 0  # valor inferior de t\n",
    "utS = 0  # valor superior de t"
   ]
  },
  {
   "cell_type": "markdown",
   "metadata": {},
   "source": [
    "Revisión de los $\\Delta$ iniciales:"
   ]
  },
  {
   "cell_type": "code",
   "execution_count": 9,
   "metadata": {},
   "outputs": [
    {
     "data": {
      "text/plain": [
       "'Hay convergencia'"
      ]
     },
     "execution_count": 9,
     "metadata": {},
     "output_type": "execute_result"
    }
   ],
   "source": [
    "cvg = Δx ** 2 / (2 * k)\n",
    "λ = k *  Δt / (Δx) ** 2\n",
    "convergencia = \"Hay convergencia\" if cvg > Δt and λ < 0.5 else \"No hay convergencia, cambie el valor de Δt\"  \n",
    "convergencia"
   ]
  },
  {
   "cell_type": "markdown",
   "metadata": {},
   "source": [
    "Cálculo de la matriz inicial:"
   ]
  },
  {
   "cell_type": "code",
   "execution_count": 10,
   "metadata": {},
   "outputs": [],
   "source": [
    "n = int((xf - x0) / Δx + 1)  # número de filas de la matriz\n",
    "m = int((tf - t0) / Δt + 1)  # número de columnas\n",
    "\n",
    "x = np.arange(x0, xf + Δx, Δx)\n",
    "t = np.arange(t0, tf + Δt, Δt)\n",
    "\n",
    "a = np.zeros([n, m])\n",
    "b = np.zeros([n, m])\n",
    "\n",
    "# matriz exterior  \n",
    "for i in range(n):\n",
    "    a[i, 0] = uxI     \n",
    "    \n",
    "for i in range(m):\n",
    "    a[0, i] = utI\n",
    "\n",
    "for i in range(m):\n",
    "    a[-1, i] = utS"
   ]
  },
  {
   "cell_type": "markdown",
   "metadata": {},
   "source": [
    "Iterraciones:"
   ]
  },
  {
   "cell_type": "code",
   "execution_count": 11,
   "metadata": {},
   "outputs": [],
   "source": [
    "for j in range(m - 1):\n",
    "    for i in range(n - 2):\n",
    "        a[i + 1, j + 1 ] = a[i + 1, j] + λ * (a[i + 2, j] - 2 * a[i + 1, j] + a[i, j])"
   ]
  },
  {
   "cell_type": "markdown",
   "metadata": {},
   "source": [
    "Resumen de las iteraciones:"
   ]
  },
  {
   "cell_type": "code",
   "execution_count": 20,
   "metadata": {},
   "outputs": [
    {
     "data": {
      "text/html": [
       "<h4>Tabla de Resultados<h4>"
      ],
      "text/plain": [
       "<IPython.core.display.HTML object>"
      ]
     },
     "metadata": {},
     "output_type": "display_data"
    },
    {
     "data": {
      "text/html": [
       "<div>\n",
       "<style scoped>\n",
       "    .dataframe tbody tr th:only-of-type {\n",
       "        vertical-align: middle;\n",
       "    }\n",
       "\n",
       "    .dataframe tbody tr th {\n",
       "        vertical-align: top;\n",
       "    }\n",
       "\n",
       "    .dataframe thead th {\n",
       "        text-align: right;\n",
       "    }\n",
       "</style>\n",
       "<table border=\"1\" class=\"dataframe\">\n",
       "  <thead>\n",
       "    <tr style=\"text-align: right;\">\n",
       "      <th></th>\n",
       "      <th>0</th>\n",
       "      <th>1</th>\n",
       "      <th>2</th>\n",
       "      <th>3</th>\n",
       "      <th>4</th>\n",
       "      <th>5</th>\n",
       "      <th>6</th>\n",
       "      <th>7</th>\n",
       "      <th>8</th>\n",
       "      <th>9</th>\n",
       "      <th>...</th>\n",
       "      <th>116</th>\n",
       "      <th>117</th>\n",
       "      <th>118</th>\n",
       "      <th>119</th>\n",
       "      <th>120</th>\n",
       "      <th>121</th>\n",
       "      <th>122</th>\n",
       "      <th>123</th>\n",
       "      <th>124</th>\n",
       "      <th>125</th>\n",
       "    </tr>\n",
       "  </thead>\n",
       "  <tbody>\n",
       "    <tr>\n",
       "      <th>0</th>\n",
       "      <td>0.0</td>\n",
       "      <td>0.0</td>\n",
       "      <td>0.000</td>\n",
       "      <td>0.0000</td>\n",
       "      <td>0.0000</td>\n",
       "      <td>0.0000</td>\n",
       "      <td>0.0000</td>\n",
       "      <td>0.0000</td>\n",
       "      <td>0.0000</td>\n",
       "      <td>0.0000</td>\n",
       "      <td>...</td>\n",
       "      <td>0.0000</td>\n",
       "      <td>0.0000</td>\n",
       "      <td>0.0000</td>\n",
       "      <td>0.0000</td>\n",
       "      <td>0.0000</td>\n",
       "      <td>0.0000</td>\n",
       "      <td>0.0000</td>\n",
       "      <td>0.0000</td>\n",
       "      <td>0.0000</td>\n",
       "      <td>0.0000</td>\n",
       "    </tr>\n",
       "    <tr>\n",
       "      <th>1</th>\n",
       "      <td>5.0</td>\n",
       "      <td>4.2</td>\n",
       "      <td>3.656</td>\n",
       "      <td>3.2656</td>\n",
       "      <td>2.9723</td>\n",
       "      <td>2.7434</td>\n",
       "      <td>2.5591</td>\n",
       "      <td>2.4069</td>\n",
       "      <td>2.2787</td>\n",
       "      <td>2.1687</td>\n",
       "      <td>...</td>\n",
       "      <td>0.1376</td>\n",
       "      <td>0.1343</td>\n",
       "      <td>0.1310</td>\n",
       "      <td>0.1278</td>\n",
       "      <td>0.1247</td>\n",
       "      <td>0.1217</td>\n",
       "      <td>0.1187</td>\n",
       "      <td>0.1158</td>\n",
       "      <td>0.1130</td>\n",
       "      <td>0.1102</td>\n",
       "    </tr>\n",
       "    <tr>\n",
       "      <th>2</th>\n",
       "      <td>5.0</td>\n",
       "      <td>5.0</td>\n",
       "      <td>4.872</td>\n",
       "      <td>4.6979</td>\n",
       "      <td>4.5138</td>\n",
       "      <td>4.3350</td>\n",
       "      <td>4.1673</td>\n",
       "      <td>4.0124</td>\n",
       "      <td>3.8699</td>\n",
       "      <td>3.7386</td>\n",
       "      <td>...</td>\n",
       "      <td>0.2543</td>\n",
       "      <td>0.2481</td>\n",
       "      <td>0.2421</td>\n",
       "      <td>0.2362</td>\n",
       "      <td>0.2304</td>\n",
       "      <td>0.2248</td>\n",
       "      <td>0.2194</td>\n",
       "      <td>0.2140</td>\n",
       "      <td>0.2088</td>\n",
       "      <td>0.2037</td>\n",
       "    </tr>\n",
       "    <tr>\n",
       "      <th>3</th>\n",
       "      <td>5.0</td>\n",
       "      <td>5.0</td>\n",
       "      <td>5.000</td>\n",
       "      <td>4.9795</td>\n",
       "      <td>4.9377</td>\n",
       "      <td>4.8788</td>\n",
       "      <td>4.8073</td>\n",
       "      <td>4.7269</td>\n",
       "      <td>4.6404</td>\n",
       "      <td>4.5498</td>\n",
       "      <td>...</td>\n",
       "      <td>0.3323</td>\n",
       "      <td>0.3242</td>\n",
       "      <td>0.3163</td>\n",
       "      <td>0.3086</td>\n",
       "      <td>0.3011</td>\n",
       "      <td>0.2938</td>\n",
       "      <td>0.2866</td>\n",
       "      <td>0.2796</td>\n",
       "      <td>0.2728</td>\n",
       "      <td>0.2662</td>\n",
       "    </tr>\n",
       "    <tr>\n",
       "      <th>4</th>\n",
       "      <td>5.0</td>\n",
       "      <td>5.0</td>\n",
       "      <td>5.000</td>\n",
       "      <td>5.0000</td>\n",
       "      <td>4.9934</td>\n",
       "      <td>4.9756</td>\n",
       "      <td>4.9446</td>\n",
       "      <td>4.9007</td>\n",
       "      <td>4.8451</td>\n",
       "      <td>4.7796</td>\n",
       "      <td>...</td>\n",
       "      <td>0.3597</td>\n",
       "      <td>0.3509</td>\n",
       "      <td>0.3424</td>\n",
       "      <td>0.3340</td>\n",
       "      <td>0.3259</td>\n",
       "      <td>0.3180</td>\n",
       "      <td>0.3102</td>\n",
       "      <td>0.3027</td>\n",
       "      <td>0.2953</td>\n",
       "      <td>0.2881</td>\n",
       "    </tr>\n",
       "    <tr>\n",
       "      <th>5</th>\n",
       "      <td>5.0</td>\n",
       "      <td>5.0</td>\n",
       "      <td>5.000</td>\n",
       "      <td>4.9795</td>\n",
       "      <td>4.9377</td>\n",
       "      <td>4.8788</td>\n",
       "      <td>4.8073</td>\n",
       "      <td>4.7269</td>\n",
       "      <td>4.6404</td>\n",
       "      <td>4.5498</td>\n",
       "      <td>...</td>\n",
       "      <td>0.3323</td>\n",
       "      <td>0.3242</td>\n",
       "      <td>0.3163</td>\n",
       "      <td>0.3086</td>\n",
       "      <td>0.3011</td>\n",
       "      <td>0.2938</td>\n",
       "      <td>0.2866</td>\n",
       "      <td>0.2796</td>\n",
       "      <td>0.2728</td>\n",
       "      <td>0.2662</td>\n",
       "    </tr>\n",
       "    <tr>\n",
       "      <th>6</th>\n",
       "      <td>5.0</td>\n",
       "      <td>5.0</td>\n",
       "      <td>4.872</td>\n",
       "      <td>4.6979</td>\n",
       "      <td>4.5138</td>\n",
       "      <td>4.3350</td>\n",
       "      <td>4.1673</td>\n",
       "      <td>4.0124</td>\n",
       "      <td>3.8699</td>\n",
       "      <td>3.7386</td>\n",
       "      <td>...</td>\n",
       "      <td>0.2543</td>\n",
       "      <td>0.2481</td>\n",
       "      <td>0.2421</td>\n",
       "      <td>0.2362</td>\n",
       "      <td>0.2304</td>\n",
       "      <td>0.2248</td>\n",
       "      <td>0.2194</td>\n",
       "      <td>0.2140</td>\n",
       "      <td>0.2088</td>\n",
       "      <td>0.2037</td>\n",
       "    </tr>\n",
       "    <tr>\n",
       "      <th>7</th>\n",
       "      <td>5.0</td>\n",
       "      <td>4.2</td>\n",
       "      <td>3.656</td>\n",
       "      <td>3.2656</td>\n",
       "      <td>2.9723</td>\n",
       "      <td>2.7434</td>\n",
       "      <td>2.5591</td>\n",
       "      <td>2.4069</td>\n",
       "      <td>2.2787</td>\n",
       "      <td>2.1687</td>\n",
       "      <td>...</td>\n",
       "      <td>0.1376</td>\n",
       "      <td>0.1343</td>\n",
       "      <td>0.1310</td>\n",
       "      <td>0.1278</td>\n",
       "      <td>0.1247</td>\n",
       "      <td>0.1217</td>\n",
       "      <td>0.1187</td>\n",
       "      <td>0.1158</td>\n",
       "      <td>0.1130</td>\n",
       "      <td>0.1102</td>\n",
       "    </tr>\n",
       "    <tr>\n",
       "      <th>8</th>\n",
       "      <td>0.0</td>\n",
       "      <td>0.0</td>\n",
       "      <td>0.000</td>\n",
       "      <td>0.0000</td>\n",
       "      <td>0.0000</td>\n",
       "      <td>0.0000</td>\n",
       "      <td>0.0000</td>\n",
       "      <td>0.0000</td>\n",
       "      <td>0.0000</td>\n",
       "      <td>0.0000</td>\n",
       "      <td>...</td>\n",
       "      <td>0.0000</td>\n",
       "      <td>0.0000</td>\n",
       "      <td>0.0000</td>\n",
       "      <td>0.0000</td>\n",
       "      <td>0.0000</td>\n",
       "      <td>0.0000</td>\n",
       "      <td>0.0000</td>\n",
       "      <td>0.0000</td>\n",
       "      <td>0.0000</td>\n",
       "      <td>0.0000</td>\n",
       "    </tr>\n",
       "  </tbody>\n",
       "</table>\n",
       "<p>9 rows × 126 columns</p>\n",
       "</div>"
      ],
      "text/plain": [
       "   0    1      2       3       4       5       6       7       8       9    \\\n",
       "0  0.0  0.0  0.000  0.0000  0.0000  0.0000  0.0000  0.0000  0.0000  0.0000   \n",
       "1  5.0  4.2  3.656  3.2656  2.9723  2.7434  2.5591  2.4069  2.2787  2.1687   \n",
       "2  5.0  5.0  4.872  4.6979  4.5138  4.3350  4.1673  4.0124  3.8699  3.7386   \n",
       "3  5.0  5.0  5.000  4.9795  4.9377  4.8788  4.8073  4.7269  4.6404  4.5498   \n",
       "4  5.0  5.0  5.000  5.0000  4.9934  4.9756  4.9446  4.9007  4.8451  4.7796   \n",
       "5  5.0  5.0  5.000  4.9795  4.9377  4.8788  4.8073  4.7269  4.6404  4.5498   \n",
       "6  5.0  5.0  4.872  4.6979  4.5138  4.3350  4.1673  4.0124  3.8699  3.7386   \n",
       "7  5.0  4.2  3.656  3.2656  2.9723  2.7434  2.5591  2.4069  2.2787  2.1687   \n",
       "8  0.0  0.0  0.000  0.0000  0.0000  0.0000  0.0000  0.0000  0.0000  0.0000   \n",
       "\n",
       "   ...     116     117     118     119     120     121     122     123  \\\n",
       "0  ...  0.0000  0.0000  0.0000  0.0000  0.0000  0.0000  0.0000  0.0000   \n",
       "1  ...  0.1376  0.1343  0.1310  0.1278  0.1247  0.1217  0.1187  0.1158   \n",
       "2  ...  0.2543  0.2481  0.2421  0.2362  0.2304  0.2248  0.2194  0.2140   \n",
       "3  ...  0.3323  0.3242  0.3163  0.3086  0.3011  0.2938  0.2866  0.2796   \n",
       "4  ...  0.3597  0.3509  0.3424  0.3340  0.3259  0.3180  0.3102  0.3027   \n",
       "5  ...  0.3323  0.3242  0.3163  0.3086  0.3011  0.2938  0.2866  0.2796   \n",
       "6  ...  0.2543  0.2481  0.2421  0.2362  0.2304  0.2248  0.2194  0.2140   \n",
       "7  ...  0.1376  0.1343  0.1310  0.1278  0.1247  0.1217  0.1187  0.1158   \n",
       "8  ...  0.0000  0.0000  0.0000  0.0000  0.0000  0.0000  0.0000  0.0000   \n",
       "\n",
       "      124     125  \n",
       "0  0.0000  0.0000  \n",
       "1  0.1130  0.1102  \n",
       "2  0.2088  0.2037  \n",
       "3  0.2728  0.2662  \n",
       "4  0.2953  0.2881  \n",
       "5  0.2728  0.2662  \n",
       "6  0.2088  0.2037  \n",
       "7  0.1130  0.1102  \n",
       "8  0.0000  0.0000  \n",
       "\n",
       "[9 rows x 126 columns]"
      ]
     },
     "execution_count": 20,
     "metadata": {},
     "output_type": "execute_result"
    }
   ],
   "source": [
    "display(HTML(\"<h4>Tabla de Resultados<h4>\"))\n",
    "pd.DataFrame(np.round(a,4))"
   ]
  },
  {
   "cell_type": "markdown",
   "metadata": {},
   "source": [
    "Gráfico:"
   ]
  },
  {
   "cell_type": "code",
   "execution_count": 12,
   "metadata": {},
   "outputs": [],
   "source": [
    "T, X = np.meshgrid(t, x)"
   ]
  },
  {
   "cell_type": "code",
   "execution_count": 13,
   "metadata": {},
   "outputs": [
    {
     "data": {
      "text/plain": [
       "<matplotlib.colorbar.Colorbar at 0x9bf58e0>"
      ]
     },
     "execution_count": 13,
     "metadata": {},
     "output_type": "execute_result"
    },
    {
     "data": {
      "image/png": "[encoded data removed]",
      "text/plain": [
       "<Figure size 432x288 with 2 Axes>"
      ]
     },
     "metadata": {},
     "output_type": "display_data"
    }
   ],
   "source": [
    "plt.contourf(T, X, a, 50, cmap = 'hot')\n",
    "plt.title(\"Solución de la Ecuación Diferencial\")\n",
    "plt.xlabel('t')\n",
    "plt.ylabel('x')\n",
    "plt.colorbar()"
   ]
  }
 ],
 "metadata": {
  "kernelspec": {
   "display_name": "Python 3",
   "language": "python",
   "name": "python3"
  },
  "language_info": {
   "codemirror_mode": {
    "name": "ipython",
    "version": 3
   },
   "file_extension": ".py",
   "mimetype": "text/x-python",
   "name": "python",
   "nbconvert_exporter": "python",
   "pygments_lexer": "ipython3",
   "version": "3.8.5"
  }
 },
 "nbformat": 4,
 "nbformat_minor": 4
}
