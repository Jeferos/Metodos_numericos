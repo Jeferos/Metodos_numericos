{
 "cells": [
  {
   "cell_type": "markdown",
   "metadata": {},
   "source": [
    "## Ecuaciones Diferenciales Parciales Hiperbólicas\n",
    "#### Problema:"
   ]
  },
  {
   "cell_type": "markdown",
   "metadata": {},
   "source": [
    "Aproxime la solución a la ecuación de onda:\n"
   ]
  },
  {
   "cell_type": "markdown",
   "metadata": {},
   "source": [
    "$$\\frac{\\partial^2u}{\\partial t^2}-\\frac{\\partial^2u}{\\partial x^2} = 0,  \\quad 0 \\leq x \\leq 1;$$"
   ]
  },
  {
   "cell_type": "markdown",
   "metadata": {},
   "source": [
    "Con las siguientes condiciones: $$u(x,0) = sen(2\\pi x);$$"
   ]
  },
  {
   "cell_type": "markdown",
   "metadata": {},
   "source": [
    "$$u(0,t)=u(1,t)=0$$"
   ]
  },
  {
   "cell_type": "markdown",
   "metadata": {},
   "source": [
    "$$\\frac{\\partial u}{\\partial t}(x,0) = 2 \\pi cos(2 \\pi x), \\; \\quad 0 \\leq x \\leq 1;$$"
   ]
  },
  {
   "cell_type": "markdown",
   "metadata": {},
   "source": [
    "Use el método de diferencias finitas y grafique la onda en tres dimensiones para diferentes tiempos."
   ]
  },
  {
   "cell_type": "markdown",
   "metadata": {},
   "source": [
    "#### Solución:"
   ]
  },
  {
   "cell_type": "code",
   "execution_count": 30,
   "metadata": {},
   "outputs": [],
   "source": [
    "# librerías necesarias\n",
    "import numpy as np\n",
    "from archivos.latex_archivos import ltx_matriz\n",
    "import matplotlib.pyplot as plt\n",
    "plt.style.use('dark_background')"
   ]
  },
  {
   "cell_type": "code",
   "execution_count": 21,
   "metadata": {},
   "outputs": [],
   "source": [
    "# Inicialización de variables\n",
    "Δx = 0.1 # valor que asumieremos \n",
    "Δt = 0.05 # valor que asumieremos \n",
    "\n",
    "t0 = 0  # valor inferior de t\n",
    "tf = 3  # valor superior de t   * valor asumido ya que no nos lo dan\n",
    "x0 = 0  # valor inferior de x\n",
    "xf = 1  # valor superior de x\n",
    "\n",
    "c2 = 1 # coeficiente del término cuadrático  de x\n",
    "\n",
    "# Valores que definen la frontera\n",
    "\n",
    "uxI = lambda x: np.sin(2 * np.pi * x)  # función inicial de x\n",
    "\n",
    "utI = 0  # valor inferior de t\n",
    "utS = 0  # valor superior de t\n",
    "\n",
    "gx = lambda x: 2 * np.pi * np.cos(2 * np.pi * x)  # función inicial de x"
   ]
  },
  {
   "cell_type": "markdown",
   "metadata": {},
   "source": [
    "Revisión de los $\\Delta$ iniciales:"
   ]
  },
  {
   "cell_type": "code",
   "execution_count": 22,
   "metadata": {},
   "outputs": [
    {
     "data": {
      "text/plain": [
       "'Hay convergencia'"
      ]
     },
     "execution_count": 22,
     "metadata": {},
     "output_type": "execute_result"
    }
   ],
   "source": [
    "c = np.sqrt(c2)\n",
    "cvg = Δx / c\n",
    "λ = (c *  Δt / (Δx)) ** 2\n",
    "convergencia = \"Hay convergencia\" if cvg > Δt else \"No hay convergencia, cambie el valor de Δt\"  \n",
    "convergencia"
   ]
  },
  {
   "cell_type": "markdown",
   "metadata": {},
   "source": [
    "Cálculo de la matriz inicial:"
   ]
  },
  {
   "cell_type": "code",
   "execution_count": 23,
   "metadata": {},
   "outputs": [],
   "source": [
    "n = int((xf - x0) / Δx + 1)  # número de filas de la matriz\n",
    "m = int((tf - t0) / Δt + 1)  # número de columnas\n",
    "\n",
    "x = np.arange(x0, xf + Δx, Δx)\n",
    "t = np.arange(t0, tf + Δt, Δt)\n",
    "\n",
    "a = np.zeros([n, m])\n",
    "b = np.zeros([n, m])\n",
    "\n",
    "# matriz exterior  \n",
    "for i in range(n):\n",
    "    a[i, 0] = uxI(x[i])     \n",
    "    \n",
    "for i in range(m):\n",
    "    a[0, i] = utI\n",
    "\n",
    "for i in range(m):\n",
    "    a[-1, i] = utS"
   ]
  },
  {
   "cell_type": "code",
   "execution_count": 24,
   "metadata": {},
   "outputs": [
    {
     "data": {
      "text/latex": [
       "$\\displaystyle  Minicial = \\begin{bmatrix}0.0 &0.0 &0.0 &0.0 &0.0 &0.0 &0.0 &0.0 &0.0 &0.0 &0.0 &0.0 &0.0 &0.0 &0.0 &0.0 &0.0 &0.0 &0.0 &0.0 &0.0 &0.0 &0.0 &0.0 &0.0 &0.0 &0.0 &0.0 &0.0 &0.0 &0.0 &0.0 &0.0 &0.0 &0.0 &0.0 &0.0 &0.0 &0.0 &0.0 &0.0 &0.0 &0.0 &0.0 &0.0 &0.0 &0.0 &0.0 &0.0 &0.0 &0.0 &0.0 &0.0 &0.0 &0.0 &0.0 &0.0 &0.0 &0.0 &0.0 &0.0\\\\0.58779 &0.83914 &0.0 &0.0 &0.0 &0.0 &0.0 &0.0 &0.0 &0.0 &0.0 &0.0 &0.0 &0.0 &0.0 &0.0 &0.0 &0.0 &0.0 &0.0 &0.0 &0.0 &0.0 &0.0 &0.0 &0.0 &0.0 &0.0 &0.0 &0.0 &0.0 &0.0 &0.0 &0.0 &0.0 &0.0 &0.0 &0.0 &0.0 &0.0 &0.0 &0.0 &0.0 &0.0 &0.0 &0.0 &0.0 &0.0 &0.0 &0.0 &0.0 &0.0 &0.0 &0.0 &0.0 &0.0 &0.0 &0.0 &0.0 &0.0 &0.0\\\\0.95106 &1.03906 &0.0 &0.0 &0.0 &0.0 &0.0 &0.0 &0.0 &0.0 &0.0 &0.0 &0.0 &0.0 &0.0 &0.0 &0.0 &0.0 &0.0 &0.0 &0.0 &0.0 &0.0 &0.0 &0.0 &0.0 &0.0 &0.0 &0.0 &0.0 &0.0 &0.0 &0.0 &0.0 &0.0 &0.0 &0.0 &0.0 &0.0 &0.0 &0.0 &0.0 &0.0 &0.0 &0.0 &0.0 &0.0 &0.0 &0.0 &0.0 &0.0 &0.0 &0.0 &0.0 &0.0 &0.0 &0.0 &0.0 &0.0 &0.0 &0.0\\\\0.95106 &0.84035 &0.0 &0.0 &0.0 &0.0 &0.0 &0.0 &0.0 &0.0 &0.0 &0.0 &0.0 &0.0 &0.0 &0.0 &0.0 &0.0 &0.0 &0.0 &0.0 &0.0 &0.0 &0.0 &0.0 &0.0 &0.0 &0.0 &0.0 &0.0 &0.0 &0.0 &0.0 &0.0 &0.0 &0.0 &0.0 &0.0 &0.0 &0.0 &0.0 &0.0 &0.0 &0.0 &0.0 &0.0 &0.0 &0.0 &0.0 &0.0 &0.0 &0.0 &0.0 &0.0 &0.0 &0.0 &0.0 &0.0 &0.0 &0.0 &0.0\\\\0.58779 &0.3224 &0.0 &0.0 &0.0 &0.0 &0.0 &0.0 &0.0 &0.0 &0.0 &0.0 &0.0 &0.0 &0.0 &0.0 &0.0 &0.0 &0.0 &0.0 &0.0 &0.0 &0.0 &0.0 &0.0 &0.0 &0.0 &0.0 &0.0 &0.0 &0.0 &0.0 &0.0 &0.0 &0.0 &0.0 &0.0 &0.0 &0.0 &0.0 &0.0 &0.0 &0.0 &0.0 &0.0 &0.0 &0.0 &0.0 &0.0 &0.0 &0.0 &0.0 &0.0 &0.0 &0.0 &0.0 &0.0 &0.0 &0.0 &0.0 &0.0\\\\0.0 &-0.31416 &0.0 &0.0 &0.0 &0.0 &0.0 &0.0 &0.0 &0.0 &0.0 &0.0 &0.0 &0.0 &0.0 &0.0 &0.0 &0.0 &0.0 &0.0 &0.0 &0.0 &0.0 &0.0 &0.0 &0.0 &0.0 &0.0 &0.0 &0.0 &0.0 &0.0 &0.0 &0.0 &0.0 &0.0 &0.0 &0.0 &0.0 &0.0 &0.0 &0.0 &0.0 &0.0 &0.0 &0.0 &0.0 &0.0 &0.0 &0.0 &0.0 &0.0 &0.0 &0.0 &0.0 &0.0 &0.0 &0.0 &0.0 &0.0 &0.0\\\\-0.58779 &-0.82511 &0.0 &0.0 &0.0 &0.0 &0.0 &0.0 &0.0 &0.0 &0.0 &0.0 &0.0 &0.0 &0.0 &0.0 &0.0 &0.0 &0.0 &0.0 &0.0 &0.0 &0.0 &0.0 &0.0 &0.0 &0.0 &0.0 &0.0 &0.0 &0.0 &0.0 &0.0 &0.0 &0.0 &0.0 &0.0 &0.0 &0.0 &0.0 &0.0 &0.0 &0.0 &0.0 &0.0 &0.0 &0.0 &0.0 &0.0 &0.0 &0.0 &0.0 &0.0 &0.0 &0.0 &0.0 &0.0 &0.0 &0.0 &0.0 &0.0\\\\-0.95106 &-1.01635 &0.0 &0.0 &0.0 &0.0 &0.0 &0.0 &0.0 &0.0 &0.0 &0.0 &0.0 &0.0 &0.0 &0.0 &0.0 &0.0 &0.0 &0.0 &0.0 &0.0 &0.0 &0.0 &0.0 &0.0 &0.0 &0.0 &0.0 &0.0 &0.0 &0.0 &0.0 &0.0 &0.0 &0.0 &0.0 &0.0 &0.0 &0.0 &0.0 &0.0 &0.0 &0.0 &0.0 &0.0 &0.0 &0.0 &0.0 &0.0 &0.0 &0.0 &0.0 &0.0 &0.0 &0.0 &0.0 &0.0 &0.0 &0.0 &0.0\\\\-0.95106 &-0.81765 &0.0 &0.0 &0.0 &0.0 &0.0 &0.0 &0.0 &0.0 &0.0 &0.0 &0.0 &0.0 &0.0 &0.0 &0.0 &0.0 &0.0 &0.0 &0.0 &0.0 &0.0 &0.0 &0.0 &0.0 &0.0 &0.0 &0.0 &0.0 &0.0 &0.0 &0.0 &0.0 &0.0 &0.0 &0.0 &0.0 &0.0 &0.0 &0.0 &0.0 &0.0 &0.0 &0.0 &0.0 &0.0 &0.0 &0.0 &0.0 &0.0 &0.0 &0.0 &0.0 &0.0 &0.0 &0.0 &0.0 &0.0 &0.0 &0.0\\\\-0.58779 &-0.30837 &0.0 &0.0 &0.0 &0.0 &0.0 &0.0 &0.0 &0.0 &0.0 &0.0 &0.0 &0.0 &0.0 &0.0 &0.0 &0.0 &0.0 &0.0 &0.0 &0.0 &0.0 &0.0 &0.0 &0.0 &0.0 &0.0 &0.0 &0.0 &0.0 &0.0 &0.0 &0.0 &0.0 &0.0 &0.0 &0.0 &0.0 &0.0 &0.0 &0.0 &0.0 &0.0 &0.0 &0.0 &0.0 &0.0 &0.0 &0.0 &0.0 &0.0 &0.0 &0.0 &0.0 &0.0 &0.0 &0.0 &0.0 &0.0 &0.0\\\\0.0 &0.0 &0.0 &0.0 &0.0 &0.0 &0.0 &0.0 &0.0 &0.0 &0.0 &0.0 &0.0 &0.0 &0.0 &0.0 &0.0 &0.0 &0.0 &0.0 &0.0 &0.0 &0.0 &0.0 &0.0 &0.0 &0.0 &0.0 &0.0 &0.0 &0.0 &0.0 &0.0 &0.0 &0.0 &0.0 &0.0 &0.0 &0.0 &0.0 &0.0 &0.0 &0.0 &0.0 &0.0 &0.0 &0.0 &0.0 &0.0 &0.0 &0.0 &0.0 &0.0 &0.0 &0.0 &0.0 &0.0 &0.0 &0.0 &0.0 &0.0\\\\\\end{bmatrix}$"
      ],
      "text/plain": [
       "<IPython.core.display.Math object>"
      ]
     },
     "metadata": {},
     "output_type": "display_data"
    }
   ],
   "source": [
    "for i in range(n - 2):\n",
    "    a[i + 1, 1] = a[i + 1, 0] + gx(x[i + 1]) * Δt + (λ / 2) * x[i + 1] * (a[i, 0] - 2 * a[i + 1, 0] + a[i + 2, 0])  \n",
    "ltx_matriz(np.round(a,5),\"Minicial\")"
   ]
  },
  {
   "cell_type": "markdown",
   "metadata": {},
   "source": [
    "Iterraciones:"
   ]
  },
  {
   "cell_type": "code",
   "execution_count": 25,
   "metadata": {},
   "outputs": [
    {
     "data": {
      "text/latex": [
       "$\\displaystyle  Msol = \\begin{bmatrix}0.0 &0.0 &0.0 &0.0 &0.0 &0.0 &0.0 &0.0 &0.0 &0.0 &0.0 &0.0 &0.0 &0.0 &0.0 &0.0 &0.0 &0.0 &0.0 &0.0 &0.0 &0.0 &0.0 &0.0 &0.0 &0.0 &0.0 &0.0 &0.0 &0.0 &0.0 &0.0 &0.0 &0.0 &0.0 &0.0 &0.0 &0.0 &0.0 &0.0 &0.0 &0.0 &0.0 &0.0 &0.0 &0.0 &0.0 &0.0 &0.0 &0.0 &0.0 &0.0 &0.0 &0.0 &0.0 &0.0 &0.0 &0.0 &0.0 &0.0 &0.0\\\\0.5878 &0.8391 &0.9307 &0.8137 &0.5142 &0.1129 &-0.2975 &-0.6501 &-0.9159 &-1.0905 &-1.1729 &-1.1544 &-1.0248 &-0.7865 &-0.464 &-0.0997 &0.2562 &0.5573 &0.7651 &0.8501 &0.7974 &0.6163 &0.3496 &0.0698 &-0.1415 &-0.2269 &-0.18 &-0.0491 &0.0863 &0.156 &0.1332 &0.0439 &-0.0537 &-0.1061 &-0.0939 &-0.0367 &0.0276 &0.0735 &0.1071 &0.1592 &0.2594 &0.4076 &0.5642 &0.6644 &0.6481 &0.4862 &0.1898 &-0.1968 &-0.6113 &-0.9849 &-1.2508 &-1.3538 &-1.2652 &-0.9993 &-0.6163 &-0.2046 &0.1543 &0.4173 &0.588 &0.6956 &0.7605\\\\0.9511 &1.0391 &1.0274 &0.8972 &0.6213 &0.1895 &-0.3638 &-0.953 &-1.4671 &-1.812 &-1.9422 &-1.8643 &-1.6151 &-1.2356 &-0.7614 &-0.2326 &0.2932 &0.7411 &1.0395 &1.1492 &1.0813 &0.8899 &0.6473 &0.4134 &0.2204 &0.0757 &-0.0241 &-0.0802 &-0.0904 &-0.0578 &0.0005 &0.0543 &0.0734 &0.0463 &-0.0079 &-0.0452 &-0.0182 &0.0974 &0.2884 &0.5107 &0.7109 &0.8485 &0.9028 &0.8629 &0.7135 &0.4346 &0.0185 &-0.5049 &-1.0592 &-1.5391 &-1.8496 &-1.9415 &-1.8211 &-1.5304 &-1.1176 &-0.6204 &-0.0751 &0.4653 &0.9239 &1.2202 &1.3064\\\\0.9511 &0.8404 &0.6498 &0.3981 &0.1046 &-0.2197 &-0.5738 &-0.9556 &-1.3413 &-1.6748 &-1.8792 &-1.8888 &-1.6841 &-1.3063 &-0.8402 &-0.3775 &0.0184 &0.3269 &0.5594 &0.7372 &0.8718 &0.9582 &0.98 &0.9207 &0.7752 &0.5582 &0.3067 &0.072 &-0.0959 &-0.1685 &-0.1502 &-0.0743 &0.0159 &0.0903 &0.146 &0.2034 &0.2904 &0.4231 &0.5947 &0.7739 &0.9122 &0.9562 &0.8643 &0.6238 &0.2606 &-0.1654 &-0.5825 &-0.9363 &-1.2095 &-1.4157 &-1.5741 &-1.6799 &-1.6961 &-1.5727 &-1.2818 &-0.8433 &-0.3244 &0.1861 &0.6108 &0.9043 &1.0559\\\\0.5878 &0.3224 &0.0274 &-0.2681 &-0.535 &-0.7485 &-0.8942 &-0.974 &-1.007 &-1.021 &-1.037 &-1.0563 &-1.0604 &-1.0241 &-0.9326 &-0.7892 &-0.6063 &-0.3911 &-0.1395 &0.1524 &0.4696 &0.7682 &0.9882 &1.0831 &1.0443 &0.9023 &0.705 &0.491 &0.2799 &0.0846 &-0.0707 &-0.1459 &-0.1045 &0.0592 &0.3069 &0.5701 &0.782 &0.9043 &0.9315 &0.8733 &0.7365 &0.5206 &0.2311 &-0.1061 &-0.4435 &-0.7295 &-0.9308 &-1.0447 &-1.0923 &-1.1008 &-1.0883 &-1.0598 &-1.0128 &-0.9449 &-0.8557 &-0.7445 &-0.6071 &-0.4365 &-0.227 &0.0208 &0.2961\\\\0.0 &-0.3142 &-0.5969 &-0.82 &-0.9611 &-1.0061 &-0.951 &-0.8053 &-0.5967 &-0.3751 &-0.2081 &-0.1628 &-0.2749 &-0.5216 &-0.817 &-1.0429 &-1.1018 &-0.9639 &-0.6768 &-0.3313 &-0.0073 &0.264 &0.496 &0.7106 &0.9008 &1.0251 &1.0365 &0.9218 &0.7186 &0.4981 &0.3288 &0.249 &0.2645 &0.364 &0.5297 &0.7316 &0.9156 &1.0045 &0.927 &0.6581 &0.2446 &-0.2097 &-0.5928 &-0.837 &-0.9418 &-0.955 &-0.9294 &-0.8878 &-0.8188 &-0.7019 &-0.5383 &-0.3659 &-0.2458 &-0.2321 &-0.3415 &-0.5409 &-0.7571 &-0.9035 &-0.9114 &-0.7527 &-0.4468\\\\-0.5878 &-0.8251 &-0.9825 &-1.0439 &-1.0027 &-0.8634 &-0.6453 &-0.385 &-0.1343 &0.0522 &0.1341 &0.1009 &-0.0276 &-0.2142 &-0.4232 &-0.6287 &-0.8101 &-0.9397 &-0.9807 &-0.9009 &-0.6952 &-0.397 &-0.066 &0.2405 &0.4938 &0.6964 &0.8634 &0.9986 &1.0882 &1.1164 &1.0861 &1.0254 &0.9695 &0.9333 &0.8977 &0.8211 &0.6692 &0.4386 &0.1573 &-0.1355 &-0.4106 &-0.6551 &-0.8611 &-1.0104 &-1.0736 &-1.0252 &-0.8639 &-0.6216 &-0.3533 &-0.1166 &0.0472 &0.1186 &0.0959 &-0.0118 &-0.1873 &-0.4045 &-0.628 &-0.8164 &-0.9296 &-0.9373 &-0.8261\\\\-0.9511 &-1.0164 &-0.9842 &-0.8572 &-0.6521 &-0.4055 &-0.171 &-0.0026 &0.0708 &0.0615 &0.0156 &-0.0164 &-0.013 &0.0041 &-0.0158 &-0.1179 &-0.3114 &-0.5609 &-0.8016 &-0.967 &-1.0129 &-0.9271 &-0.7257 &-0.4427 &-0.1156 &0.2251 &0.563 &0.8933 &1.2119 &1.501 &1.7216 &1.821 &1.7536 &1.5047 &1.1019 &0.6095 &0.108 &-0.3304 &-0.658 &-0.8583 &-0.9437 &-0.9462 &-0.9028 &-0.8394 &-0.7589 &-0.6439 &-0.4742 &-0.2517 &-0.0138 &0.1767 &0.2631 &0.2267 &0.0978 &-0.0628 &-0.2001 &-0.2932 &-0.3583 &-0.4285 &-0.5259 &-0.646 &-0.7599\\\\-0.9511 &-0.8176 &-0.6066 &-0.3581 &-0.1353 &0.0037 &0.0391 &-0.0 &-0.055 &-0.0756 &-0.0473 &0.0081 &0.056 &0.0748 &0.0629 &0.0271 &-0.0366 &-0.1467 &-0.3215 &-0.555 &-0.8035 &-0.9953 &-1.0585 &-0.95 &-0.6704 &-0.2575 &0.2322 &0.7411 &1.2174 &1.6117 &1.8723 &1.9496 &1.8112 &1.4607 &0.948 &0.361 &-0.2006 &-0.6561 &-0.9643 &-1.1216 &-1.1451 &-1.0539 &-0.8643 &-0.6003 &-0.306 &-0.0439 &0.1268 &0.1797 &0.1364 &0.0534 &-0.0123 &-0.0349 &-0.0272 &-0.0206 &-0.0359 &-0.0703 &-0.1089 &-0.1494 &-0.2129 &-0.3301 &-0.5094\\\\-0.5878 &-0.3084 &-0.0792 &0.038 &0.0466 &-0.0019 &-0.0485 &-0.0611 &-0.0431 &-0.0174 &-0.0018 &0.0028 &0.0081 &0.0233 &0.0455 &0.0608 &0.0524 &0.0087 &-0.0761 &-0.2031 &-0.3674 &-0.5488 &-0.7047 &-0.7728 &-0.692 &-0.4328 &-0.0216 &0.4585 &0.8946 &1.1878 &1.29 &1.2152 &1.0203 &0.768 &0.4969 &0.2143 &-0.0852 &-0.3922 &-0.6672 &-0.8496 &-0.8877 &-0.7681 &-0.528 &-0.24 &0.018 &0.1904 &0.2567 &0.2263 &0.1277 &-0.0007 &-0.1154 &-0.1754 &-0.1565 &-0.0661 &0.0521 &0.1354 &0.1333 &0.0374 &-0.1146 &-0.2625 &-0.3617\\\\0.0 &0.0 &0.0 &0.0 &0.0 &0.0 &0.0 &0.0 &0.0 &0.0 &0.0 &0.0 &0.0 &0.0 &0.0 &0.0 &0.0 &0.0 &0.0 &0.0 &0.0 &0.0 &0.0 &0.0 &0.0 &0.0 &0.0 &0.0 &0.0 &0.0 &0.0 &0.0 &0.0 &0.0 &0.0 &0.0 &0.0 &0.0 &0.0 &0.0 &0.0 &0.0 &0.0 &0.0 &0.0 &0.0 &0.0 &0.0 &0.0 &0.0 &0.0 &0.0 &0.0 &0.0 &0.0 &0.0 &0.0 &0.0 &0.0 &0.0 &0.0\\\\\\end{bmatrix}$"
      ],
      "text/plain": [
       "<IPython.core.display.Math object>"
      ]
     },
     "metadata": {},
     "output_type": "display_data"
    }
   ],
   "source": [
    "for j in range(m - 2):\n",
    "    for i in range(n - 2):\n",
    "        a[i + 1, j + 2 ] = 2 * (1 - λ) * a[i + 1, j + 1] + λ * (a[i + 2, j + 1] + a[i, j + 1]) - a[i + 1, j]\n",
    "\n",
    "ltx_matriz(np.round(a,4),\"Msol\")"
   ]
  },
  {
   "cell_type": "markdown",
   "metadata": {},
   "source": [
    "Gráfico:"
   ]
  },
  {
   "cell_type": "code",
   "execution_count": 28,
   "metadata": {},
   "outputs": [],
   "source": [
    "T, X = np.meshgrid(t, x)\n",
    "a = a[:: -1]"
   ]
  },
  {
   "cell_type": "code",
   "execution_count": 29,
   "metadata": {},
   "outputs": [
    {
     "data": {
      "text/plain": [
       "<matplotlib.colorbar.Colorbar at 0x7dc60a0>"
      ]
     },
     "execution_count": 29,
     "metadata": {},
     "output_type": "execute_result"
    },
    {
     "data": {
      "image/png": "[encoded data removed]",
      "text/plain": [
       "<Figure size 432x288 with 2 Axes>"
      ]
     },
     "metadata": {},
     "output_type": "display_data"
    }
   ],
   "source": [
    "plt.contourf(T, X, a, 50, cmap = 'hot')\n",
    "plt.title(\"Solución de la Ecuación Diferencial\")\n",
    "plt.xlabel('t')\n",
    "plt.ylabel('x')\n",
    "plt.colorbar()"
   ]
  }
 ],
 "metadata": {
  "kernelspec": {
   "display_name": "Python 3",
   "language": "python",
   "name": "python3"
  },
  "language_info": {
   "codemirror_mode": {
    "name": "ipython",
    "version": 3
   },
   "file_extension": ".py",
   "mimetype": "text/x-python",
   "name": "python",
   "nbconvert_exporter": "python",
   "pygments_lexer": "ipython3",
   "version": "3.8.5"
  }
 },
 "nbformat": 4,
 "nbformat_minor": 4
}
