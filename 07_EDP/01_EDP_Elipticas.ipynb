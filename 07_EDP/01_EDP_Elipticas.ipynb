{
 "cells": [
  {
   "cell_type": "markdown",
   "metadata": {},
   "source": [
    "## Ecuaciones Diferenciales Parciales Elípticas\n",
    "#### Problema:"
   ]
  },
  {
   "cell_type": "markdown",
   "metadata": {},
   "source": [
    "Aproxime la solución de la ecuación diferencial parcial elíptica:\n"
   ]
  },
  {
   "cell_type": "markdown",
   "metadata": {},
   "source": [
    "$$\\frac{\\partial^2u}{\\partial x^2}+\\frac{\\partial^2u}{\\partial y^2} = 4, \\quad 0<x<1, \\quad 0<y<2;$$"
   ]
  },
  {
   "cell_type": "markdown",
   "metadata": {},
   "source": [
    "$$u(x,0) = x^2, \\quad u(x,2) = (x-2)^2,\\quad 0 \\leq x \\leq 1;$$\n",
    "$$u(0,y) = y^2, \\quad u(1,y) = (y-1)^2,\\quad 0 \\leq y \\leq 2;$$"
   ]
  },
  {
   "cell_type": "markdown",
   "metadata": {},
   "source": [
    "Use $h=k=\\frac{1}{4}$"
   ]
  },
  {
   "cell_type": "markdown",
   "metadata": {},
   "source": [
    "#### Solución:"
   ]
  },
  {
   "cell_type": "code",
   "execution_count": 126,
   "metadata": {},
   "outputs": [],
   "source": [
    "# librerías necesarias\n",
    "import numpy as np\n",
    "import copy\n",
    "from archivos.latex_archivos import ltx_matriz\n",
    "from IPython.display import Latex\n",
    "import matplotlib.pyplot as plt\n",
    "plt.style.use('dark_background')"
   ]
  },
  {
   "cell_type": "code",
   "execution_count": 130,
   "metadata": {},
   "outputs": [],
   "source": [
    "# Inicialización de variables\n",
    "\n",
    "h = 0.25 # h = k = 0.25\n",
    "\n",
    "x0 = 0  # valor inferior de x\n",
    "xf = 1  # valor superior de x\n",
    "y0 = 0  # valor inferior de y\n",
    "yf = 2  # valor superior de y\n",
    "\n",
    "maxIter = 50  # Número máximo de iteraciones\n",
    "error = 0.0001    # Error considerado\n",
    "\n",
    "c = lambda x, y: 4  # Función \n",
    "\n",
    "# Funciones que definen la frontera\n",
    "uxI = lambda x, y: x ** 2  # función inferior de x\n",
    "uxS = lambda x, y: (x - 2) ** 2  # función superior de x\n",
    "uyI = lambda x, y: y ** 2  # función inferior de y\n",
    "uyS = lambda x, y: (y - 1) ** 2  # función superior de y"
   ]
  },
  {
   "cell_type": "markdown",
   "metadata": {},
   "source": [
    "Cálculo las matrices iniciales:"
   ]
  },
  {
   "cell_type": "code",
   "execution_count": 131,
   "metadata": {},
   "outputs": [
    {
     "data": {
      "text/latex": [
       "$\\displaystyle  Mext = \\begin{bmatrix}4.0 &3.0625 &2.25 &1.5625 &1.0\\\\3.0625 &0.0 &0.0 &0.0 &0.5625\\\\2.25 &0.0 &0.0 &0.0 &0.25\\\\1.5625 &0.0 &0.0 &0.0 &0.0625\\\\1.0 &0.0 &0.0 &0.0 &0.0\\\\0.5625 &0.0 &0.0 &0.0 &0.0625\\\\0.25 &0.0 &0.0 &0.0 &0.25\\\\0.0625 &0.0 &0.0 &0.0 &0.5625\\\\0.0 &0.0625 &0.25 &0.5625 &1.0\\\\\\end{bmatrix}$"
      ],
      "text/plain": [
       "<IPython.core.display.Math object>"
      ]
     },
     "metadata": {},
     "output_type": "display_data"
    },
    {
     "data": {
      "text/latex": [
       "$\\displaystyle  Mint = \\begin{bmatrix}0.0 &0.0 &0.0 &0.0 &0.0\\\\0.0 &4.0 &4.0 &4.0 &0.0\\\\0.0 &4.0 &4.0 &4.0 &0.0\\\\0.0 &4.0 &4.0 &4.0 &0.0\\\\0.0 &4.0 &4.0 &4.0 &0.0\\\\0.0 &4.0 &4.0 &4.0 &0.0\\\\0.0 &4.0 &4.0 &4.0 &0.0\\\\0.0 &4.0 &4.0 &4.0 &0.0\\\\0.0 &0.0 &0.0 &0.0 &0.0\\\\\\end{bmatrix}$"
      ],
      "text/plain": [
       "<IPython.core.display.Math object>"
      ]
     },
     "metadata": {},
     "output_type": "display_data"
    }
   ],
   "source": [
    "n = int((yf - y0) / h + 1)  # número de filas de la matriz\n",
    "m = int((xf - x0) / h + 1)  # número de columnas\n",
    "\n",
    "x = np.arange(x0, xf + h, h)\n",
    "y = np.arange(y0, yf + h, h)\n",
    "\n",
    "a = np.zeros([n, m])\n",
    "b = np.zeros([n, m])\n",
    "\n",
    "# matriz exterior  \n",
    "for i in range(n):\n",
    "    a[i, 0] = uyI(x[0], i * h) \n",
    "    \n",
    "for i in range(n):\n",
    "    a[i, -1] = uyS(x[-1], i * h) \n",
    "\n",
    "for i in range(m):\n",
    "    a[0, i] = uxI(i * h, y[0]) \n",
    "    \n",
    "for i in range(m):\n",
    "    a[-1, i] = uxS(i * h, y[-1]) \n",
    "    \n",
    "# matriz interior      \n",
    "for j in range(n-2):\n",
    "\tfor i in range(m-2):\n",
    "\t\tb[j + 1, i + 1] = c((j + 1) * h, (i + 1) * h)\n",
    "a = a[:: -1]\n",
    "b = b[:: -1]\n",
    "ltx_matriz(a,\"Mext\")\n",
    "ltx_matriz(np.round(b,4),\"Mint\")"
   ]
  },
  {
   "cell_type": "markdown",
   "metadata": {},
   "source": [
    "Iterraciones:"
   ]
  },
  {
   "cell_type": "code",
   "execution_count": 132,
   "metadata": {},
   "outputs": [
    {
     "name": "stdout",
     "output_type": "stream",
     "text": [
      "El número de iteraciones es: 17\n"
     ]
    },
    {
     "data": {
      "text/latex": [
       "$\\displaystyle  Msolución = \\begin{bmatrix}4.0 &3.0625 &2.25 &1.5625 &1.0\\\\3.0625 &2.2498 &1.5622 &0.9998 &0.5625\\\\2.25 &1.5622 &0.9996 &0.5623 &0.25\\\\1.5625 &0.9996 &0.5621 &0.2498 &0.0625\\\\1.0 &0.5622 &0.2496 &0.0623 &0.0\\\\0.5625 &0.2498 &0.0622 &-0.0002 &0.0625\\\\0.25 &0.0623 &-0.0002 &0.0624 &0.25\\\\0.0625 &-0.0001 &0.0624 &0.25 &0.5625\\\\0.0 &0.0625 &0.25 &0.5625 &1.0\\\\\\end{bmatrix}$"
      ],
      "text/plain": [
       "<IPython.core.display.Math object>"
      ]
     },
     "metadata": {},
     "output_type": "display_data"
    }
   ],
   "source": [
    "k = 0\n",
    "conve = 0\n",
    "while k < maxIter and conve == 0:\n",
    "    k = k + 1\n",
    "    t = copy.copy(a)\n",
    "    for j in range(n - 2):\n",
    "        for i in range(m - 2):\n",
    "            a[j + 1, i + 1] = (a[j, i + 1] + a[j + 1, i] + a[j + 2, i + 1] + a[j + 1, i + 2] - b[j + 1, i + 1] * h ** 2) / 4    \n",
    "    \n",
    "    if (np.linalg.norm(a - t)) / (np.linalg.norm(a)) < error:\n",
    "    \tconve = 1\n",
    "if conve == 1:\n",
    "    print(\"El número de iteraciones es: %s\" %k)\n",
    "else:\n",
    "    print(\"El sistema no converge\")\n",
    "\n",
    "ltx_matriz(np.round(a,4),\"Msolución\")\n"
   ]
  },
  {
   "cell_type": "markdown",
   "metadata": {},
   "source": [
    "Gráfico:"
   ]
  },
  {
   "cell_type": "code",
   "execution_count": 133,
   "metadata": {},
   "outputs": [],
   "source": [
    "X, Y = np.meshgrid(x, y)\n",
    "a = a[:: -1]"
   ]
  },
  {
   "cell_type": "code",
   "execution_count": 134,
   "metadata": {},
   "outputs": [
    {
     "data": {
      "text/plain": [
       "<matplotlib.colorbar.Colorbar at 0x112969d0>"
      ]
     },
     "execution_count": 134,
     "metadata": {},
     "output_type": "execute_result"
    },
    {
     "data": {
      "image/png": "[encoded data removed]",
      "text/plain": [
       "<Figure size 432x288 with 2 Axes>"
      ]
     },
     "metadata": {},
     "output_type": "display_data"
    }
   ],
   "source": [
    "plt.contourf(X, Y, a, 50, cmap = 'hot')\n",
    "plt.title(\"Solución de la Ecuación Diferencial\")\n",
    "plt.xlabel('x')\n",
    "plt.ylabel('y')\n",
    "plt.colorbar()"
   ]
  }
 ],
 "metadata": {
  "kernelspec": {
   "display_name": "Python 3",
   "language": "python",
   "name": "python3"
  },
  "language_info": {
   "codemirror_mode": {
    "name": "ipython",
    "version": 3
   },
   "file_extension": ".py",
   "mimetype": "text/x-python",
   "name": "python",
   "nbconvert_exporter": "python",
   "pygments_lexer": "ipython3",
   "version": "3.8.5"
  }
 },
 "nbformat": 4,
 "nbformat_minor": 4
}
