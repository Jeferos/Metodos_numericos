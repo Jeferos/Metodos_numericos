{
 "cells": [
  {
   "cell_type": "markdown",
   "metadata": {},
   "source": [
    "# Aproximación Multilineal con Mínimos Cuadrados\n",
    "\n",
    "### Ejercicio:"
   ]
  },
  {
   "cell_type": "markdown",
   "metadata": {},
   "source": [
    "A partir de un estudio experimental acerca de la estabilización de arcilla muy plástica, se observó que el contenido de agua para moldeo con densidad óptima dependía linealmente de los porcentajes de cal y puzolana mezclados con la arcilla. Se tuvieron así los resultados que se dan abajo. Ajuste una ecuación de la forma:\n",
    "\n",
    "$$ y = a_0 + a_1u + a_2v$$"
   ]
  },
  {
   "cell_type": "code",
   "execution_count": 1,
   "metadata": {
    "hideCode": true
   },
   "outputs": [],
   "source": [
    "# importamos las librerias necesarias\n",
    "import pandas as pd\n",
    "import numpy as np\n",
    "import matplotlib.pyplot as plt\n",
    "from IPython.display import Latex as lt"
   ]
  },
  {
   "cell_type": "code",
   "execution_count": 8,
   "metadata": {
    "hideCode": true
   },
   "outputs": [],
   "source": [
    "y = np.array([27.5, 28, 28.8, 29.1, 30, 31, 32])\n",
    "u = np.array([2, 3.5, 4.5, 2.5, 8.5, 10.5, 13.5])\n",
    "v = np.array([18, 16.5, 10.5, 2.5, 9, 4.5, 1.5])\n"
   ]
  },
  {
   "cell_type": "markdown",
   "metadata": {},
   "source": [
    "La tabla es la siguiente:"
   ]
  },
  {
   "cell_type": "code",
   "execution_count": 21,
   "metadata": {
    "hideCode": true
   },
   "outputs": [
    {
     "data": {
      "text/html": [
       "<div>\n",
       "<style scoped>\n",
       "    .dataframe tbody tr th:only-of-type {\n",
       "        vertical-align: middle;\n",
       "    }\n",
       "\n",
       "    .dataframe tbody tr th {\n",
       "        vertical-align: top;\n",
       "    }\n",
       "\n",
       "    .dataframe thead th {\n",
       "        text-align: right;\n",
       "    }\n",
       "</style>\n",
       "<table border=\"1\" class=\"dataframe\">\n",
       "  <thead>\n",
       "    <tr style=\"text-align: right;\">\n",
       "      <th></th>\n",
       "      <th>Agua (%): $y$</th>\n",
       "      <th>Cal (%): $u$</th>\n",
       "      <th>Puzolana (%): $v$</th>\n",
       "    </tr>\n",
       "  </thead>\n",
       "  <tbody>\n",
       "    <tr>\n",
       "      <th>0</th>\n",
       "      <td>27.5</td>\n",
       "      <td>2.0</td>\n",
       "      <td>18.0</td>\n",
       "    </tr>\n",
       "    <tr>\n",
       "      <th>1</th>\n",
       "      <td>28.0</td>\n",
       "      <td>3.5</td>\n",
       "      <td>16.5</td>\n",
       "    </tr>\n",
       "    <tr>\n",
       "      <th>2</th>\n",
       "      <td>28.8</td>\n",
       "      <td>4.5</td>\n",
       "      <td>10.5</td>\n",
       "    </tr>\n",
       "    <tr>\n",
       "      <th>3</th>\n",
       "      <td>29.1</td>\n",
       "      <td>2.5</td>\n",
       "      <td>2.5</td>\n",
       "    </tr>\n",
       "    <tr>\n",
       "      <th>4</th>\n",
       "      <td>30.0</td>\n",
       "      <td>8.5</td>\n",
       "      <td>9.0</td>\n",
       "    </tr>\n",
       "    <tr>\n",
       "      <th>5</th>\n",
       "      <td>31.0</td>\n",
       "      <td>10.5</td>\n",
       "      <td>4.5</td>\n",
       "    </tr>\n",
       "    <tr>\n",
       "      <th>6</th>\n",
       "      <td>32.0</td>\n",
       "      <td>13.5</td>\n",
       "      <td>1.5</td>\n",
       "    </tr>\n",
       "  </tbody>\n",
       "</table>\n",
       "</div>"
      ],
      "text/plain": [
       "   Agua (%): $y$  Cal (%): $u$  Puzolana (%): $v$\n",
       "0           27.5           2.0               18.0\n",
       "1           28.0           3.5               16.5\n",
       "2           28.8           4.5               10.5\n",
       "3           29.1           2.5                2.5\n",
       "4           30.0           8.5                9.0\n",
       "5           31.0          10.5                4.5\n",
       "6           32.0          13.5                1.5"
      ]
     },
     "execution_count": 21,
     "metadata": {},
     "output_type": "execute_result"
    }
   ],
   "source": [
    "pd.DataFrame({\"Agua (%): $y$\":y ,'Cal (%): $u$':u,'Puzolana (%): $v$':v})"
   ]
  },
  {
   "cell_type": "markdown",
   "metadata": {},
   "source": [
    "#### Solución:"
   ]
  },
  {
   "cell_type": "markdown",
   "metadata": {},
   "source": [
    "Algunos cálculos:"
   ]
  },
  {
   "cell_type": "code",
   "execution_count": 11,
   "metadata": {
    "hideCode": true
   },
   "outputs": [],
   "source": [
    "n = y.shape[0] # número de datos del agua\n",
    "u2 = u * u\n",
    "uv = u * v\n",
    "v2 = v * v\n",
    "uy = u * y\n",
    "vy = v * y\n",
    "\n",
    "su = np.sum(u)\n",
    "sv = np.sum(v)\n",
    "su2 = np.sum(u2)\n",
    "suv = np.sum(uv)\n",
    "sv2 = np.sum(v2)\n",
    "\n",
    "sy = np.sum(y)\n",
    "suy = np.sum(uy)\n",
    "svy = np.sum(vy)"
   ]
  },
  {
   "cell_type": "markdown",
   "metadata": {},
   "source": [
    "Construimos la siguiente tabla:"
   ]
  },
  {
   "cell_type": "code",
   "execution_count": 20,
   "metadata": {
    "hideCode": true
   },
   "outputs": [
    {
     "data": {
      "text/html": [
       "<div>\n",
       "<style scoped>\n",
       "    .dataframe tbody tr th:only-of-type {\n",
       "        vertical-align: middle;\n",
       "    }\n",
       "\n",
       "    .dataframe tbody tr th {\n",
       "        vertical-align: top;\n",
       "    }\n",
       "\n",
       "    .dataframe thead th {\n",
       "        text-align: right;\n",
       "    }\n",
       "</style>\n",
       "<table border=\"1\" class=\"dataframe\">\n",
       "  <thead>\n",
       "    <tr style=\"text-align: right;\">\n",
       "      <th></th>\n",
       "      <th>$u$</th>\n",
       "      <th>$v$</th>\n",
       "      <th>$y$</th>\n",
       "      <th>$u^2$</th>\n",
       "      <th>$u*v$</th>\n",
       "      <th>$v^2$</th>\n",
       "      <th>$u*y$</th>\n",
       "      <th>$v*y$</th>\n",
       "    </tr>\n",
       "  </thead>\n",
       "  <tbody>\n",
       "    <tr>\n",
       "      <th>0</th>\n",
       "      <td>2.0</td>\n",
       "      <td>18.0</td>\n",
       "      <td>27.5</td>\n",
       "      <td>4.00</td>\n",
       "      <td>36.00</td>\n",
       "      <td>324.00</td>\n",
       "      <td>55.00</td>\n",
       "      <td>495.00</td>\n",
       "    </tr>\n",
       "    <tr>\n",
       "      <th>1</th>\n",
       "      <td>3.5</td>\n",
       "      <td>16.5</td>\n",
       "      <td>28.0</td>\n",
       "      <td>12.25</td>\n",
       "      <td>57.75</td>\n",
       "      <td>272.25</td>\n",
       "      <td>98.00</td>\n",
       "      <td>462.00</td>\n",
       "    </tr>\n",
       "    <tr>\n",
       "      <th>2</th>\n",
       "      <td>4.5</td>\n",
       "      <td>10.5</td>\n",
       "      <td>28.8</td>\n",
       "      <td>20.25</td>\n",
       "      <td>47.25</td>\n",
       "      <td>110.25</td>\n",
       "      <td>129.60</td>\n",
       "      <td>302.40</td>\n",
       "    </tr>\n",
       "    <tr>\n",
       "      <th>3</th>\n",
       "      <td>2.5</td>\n",
       "      <td>2.5</td>\n",
       "      <td>29.1</td>\n",
       "      <td>6.25</td>\n",
       "      <td>6.25</td>\n",
       "      <td>6.25</td>\n",
       "      <td>72.75</td>\n",
       "      <td>72.75</td>\n",
       "    </tr>\n",
       "    <tr>\n",
       "      <th>4</th>\n",
       "      <td>8.5</td>\n",
       "      <td>9.0</td>\n",
       "      <td>30.0</td>\n",
       "      <td>72.25</td>\n",
       "      <td>76.50</td>\n",
       "      <td>81.00</td>\n",
       "      <td>255.00</td>\n",
       "      <td>270.00</td>\n",
       "    </tr>\n",
       "    <tr>\n",
       "      <th>5</th>\n",
       "      <td>10.5</td>\n",
       "      <td>4.5</td>\n",
       "      <td>31.0</td>\n",
       "      <td>110.25</td>\n",
       "      <td>47.25</td>\n",
       "      <td>20.25</td>\n",
       "      <td>325.50</td>\n",
       "      <td>139.50</td>\n",
       "    </tr>\n",
       "    <tr>\n",
       "      <th>6</th>\n",
       "      <td>13.5</td>\n",
       "      <td>1.5</td>\n",
       "      <td>32.0</td>\n",
       "      <td>182.25</td>\n",
       "      <td>20.25</td>\n",
       "      <td>2.25</td>\n",
       "      <td>432.00</td>\n",
       "      <td>48.00</td>\n",
       "    </tr>\n",
       "    <tr>\n",
       "      <th>Suma</th>\n",
       "      <td>45.0</td>\n",
       "      <td>62.5</td>\n",
       "      <td>206.4</td>\n",
       "      <td>407.50</td>\n",
       "      <td>291.25</td>\n",
       "      <td>816.25</td>\n",
       "      <td>1367.85</td>\n",
       "      <td>1789.65</td>\n",
       "    </tr>\n",
       "  </tbody>\n",
       "</table>\n",
       "</div>"
      ],
      "text/plain": [
       "       $u$   $v$    $y$   $u^2$   $u*v$   $v^2$    $u*y$    $v*y$\n",
       "0      2.0  18.0   27.5    4.00   36.00  324.00    55.00   495.00\n",
       "1      3.5  16.5   28.0   12.25   57.75  272.25    98.00   462.00\n",
       "2      4.5  10.5   28.8   20.25   47.25  110.25   129.60   302.40\n",
       "3      2.5   2.5   29.1    6.25    6.25    6.25    72.75    72.75\n",
       "4      8.5   9.0   30.0   72.25   76.50   81.00   255.00   270.00\n",
       "5     10.5   4.5   31.0  110.25   47.25   20.25   325.50   139.50\n",
       "6     13.5   1.5   32.0  182.25   20.25    2.25   432.00    48.00\n",
       "Suma  45.0  62.5  206.4  407.50  291.25  816.25  1367.85  1789.65"
      ]
     },
     "execution_count": 20,
     "metadata": {},
     "output_type": "execute_result"
    }
   ],
   "source": [
    "df = pd.DataFrame({'$u$':u ,'$v$':v,'$y$':y ,'$u^2$':u2 ,'$u*v$':uv ,'$v^2$':v2,'$u*y$':uy, '$v*y$':vy})\n",
    "df.loc['Suma'] = df.sum(axis = 0)\n",
    "df"
   ]
  },
  {
   "cell_type": "code",
   "execution_count": 13,
   "metadata": {
    "hideCode": true
   },
   "outputs": [],
   "source": [
    "Coef = np.matrix([[n, su, sv], [su, su2, suv], [sv, suv, sv2]])\n",
    "Ter_i = np.matrix([[sy], [suy], [svy]])\n",
    "\n",
    "Sol = Coef**-1 * Ter_i\n",
    "a2 = Sol[2,0]\n",
    "a1 = Sol[1,0]\n",
    "a0 = Sol[0,0]"
   ]
  },
  {
   "cell_type": "markdown",
   "metadata": {},
   "source": [
    "De donde obtenemos: "
   ]
  },
  {
   "cell_type": "code",
   "execution_count": 15,
   "metadata": {
    "hideCode": true
   },
   "outputs": [
    {
     "data": {
      "text/latex": [
       "$a_0: 28.692 \\\\a_1: 0.257 \\\\a_2: -0.096 $"
      ],
      "text/plain": [
       "<IPython.core.display.Latex object>"
      ]
     },
     "execution_count": 15,
     "metadata": {},
     "output_type": "execute_result"
    }
   ],
   "source": [
    "lt(r\"$a_0: %s \\\\a_1: %s \\\\a_2: %s $\" %(round(a0,3),round(a1,3),round(a2,3)))"
   ]
  },
  {
   "cell_type": "markdown",
   "metadata": {},
   "source": [
    "Al sustituir estos valores se tiene:"
   ]
  },
  {
   "cell_type": "code",
   "execution_count": 17,
   "metadata": {
    "hideCode": true
   },
   "outputs": [
    {
     "data": {
      "text/latex": [
       "$y = 28.692 + 0.257 \\hspace{0.1cm}u + -0.096 \\hspace{0.1cm}v$"
      ],
      "text/plain": [
       "<IPython.core.display.Latex object>"
      ]
     },
     "execution_count": 17,
     "metadata": {},
     "output_type": "execute_result"
    }
   ],
   "source": [
    "lt(r\"$y = %s + %s \\hspace{0.1cm}u + %s \\hspace{0.1cm}v$\" %(round(a0,3),round(a1,3),round(a2,3)))"
   ]
  }
 ],
 "metadata": {
  "kernelspec": {
   "display_name": "Python 3",
   "language": "python",
   "name": "python3"
  },
  "language_info": {
   "codemirror_mode": {
    "name": "ipython",
    "version": 3
   },
   "file_extension": ".py",
   "mimetype": "text/x-python",
   "name": "python",
   "nbconvert_exporter": "python",
   "pygments_lexer": "ipython3",
   "version": "3.8.5"
  }
 },
 "nbformat": 4,
 "nbformat_minor": 4
}
