{
 "cells": [
  {
   "cell_type": "markdown",
   "metadata": {},
   "source": [
    "# Aproximación polinominal de Newton\n",
    "### Ejercicio:"
   ]
  },
  {
   "cell_type": "markdown",
   "metadata": {},
   "source": [
    "Elabore una aproximación polinomial de Newton para la información tabular de las presiones de vapor de la acetona mostradas en la tabla e interpole la temperatura para una presión de 2 atm."
   ]
  },
  {
   "cell_type": "markdown",
   "metadata": {},
   "source": [
    "<img src=\"img/fig_1.png\">"
   ]
  },
  {
   "cell_type": "code",
   "execution_count": 23,
   "metadata": {},
   "outputs": [],
   "source": [
    "# importamos las librerias necesarias\n",
    "import pandas as pd  \n",
    "import numpy as np\n",
    "from sympy import *\n",
    "from IPython.display import HTML"
   ]
  },
  {
   "cell_type": "code",
   "execution_count": 24,
   "metadata": {},
   "outputs": [],
   "source": [
    "# iniciamos las variables\n",
    "x_ = np.array([1, 5, 20, 40])\n",
    "fx_ = np.array([56.5, 113, 181, 214.5])\n",
    "xi = 2 # valor que se interpolará"
   ]
  },
  {
   "cell_type": "markdown",
   "metadata": {},
   "source": [
    "Cálculo de las diferencias divididas:"
   ]
  },
  {
   "cell_type": "code",
   "execution_count": 26,
   "metadata": {},
   "outputs": [],
   "source": [
    "n = np.size(x_) - 1\n",
    "T = np.zeros([n, n])\n",
    "for i in range(n):\n",
    "    T[i, 0] = (fx_[i + 1] - fx_[i]) / (x_[i + 1] - x_[i])\n",
    "\n",
    "for j in range(1, n):\n",
    "    for i in range(j, n):\n",
    "        T[i, j] = (T[i, j - 1] - T[i - 1, j - 1]) / (x_[i + 1] - x_[i - j])"
   ]
  },
  {
   "cell_type": "code",
   "execution_count": 28,
   "metadata": {},
   "outputs": [
    {
     "data": {
      "text/html": [
       "<h5>Tabla de Diferencias Divididas</h5>"
      ],
      "text/plain": [
       "<IPython.core.display.HTML object>"
      ]
     },
     "metadata": {},
     "output_type": "display_data"
    },
    {
     "data": {
      "text/html": [
       "<div>\n",
       "<style scoped>\n",
       "    .dataframe tbody tr th:only-of-type {\n",
       "        vertical-align: middle;\n",
       "    }\n",
       "\n",
       "    .dataframe tbody tr th {\n",
       "        vertical-align: top;\n",
       "    }\n",
       "\n",
       "    .dataframe thead th {\n",
       "        text-align: right;\n",
       "    }\n",
       "</style>\n",
       "<table border=\"1\" class=\"dataframe\">\n",
       "  <thead>\n",
       "    <tr style=\"text-align: right;\">\n",
       "      <th></th>\n",
       "      <th>0</th>\n",
       "      <th>1</th>\n",
       "      <th>2</th>\n",
       "    </tr>\n",
       "  </thead>\n",
       "  <tbody>\n",
       "    <tr>\n",
       "      <th>0</th>\n",
       "      <td>14.125000</td>\n",
       "      <td>0.000000</td>\n",
       "      <td>0.00000</td>\n",
       "    </tr>\n",
       "    <tr>\n",
       "      <th>1</th>\n",
       "      <td>4.533333</td>\n",
       "      <td>-0.504825</td>\n",
       "      <td>0.00000</td>\n",
       "    </tr>\n",
       "    <tr>\n",
       "      <th>2</th>\n",
       "      <td>1.675000</td>\n",
       "      <td>-0.081667</td>\n",
       "      <td>0.01085</td>\n",
       "    </tr>\n",
       "  </tbody>\n",
       "</table>\n",
       "</div>"
      ],
      "text/plain": [
       "           0         1        2\n",
       "0  14.125000  0.000000  0.00000\n",
       "1   4.533333 -0.504825  0.00000\n",
       "2   1.675000 -0.081667  0.01085"
      ]
     },
     "execution_count": 28,
     "metadata": {},
     "output_type": "execute_result"
    }
   ],
   "source": [
    "display(HTML(\"<h5>Tabla de Diferencias Divididas</h5>\"))\n",
    "pd.DataFrame(T)"
   ]
  },
  {
   "cell_type": "markdown",
   "metadata": {},
   "source": [
    "Cálculo de lo polinomios y resultados:"
   ]
  },
  {
   "cell_type": "code",
   "execution_count": 30,
   "metadata": {},
   "outputs": [
    {
     "name": "stdout",
     "output_type": "stream",
     "text": [
      "Para n = 1, la ecuación es f(x) = 56.5 + (x - 1)*14.125\n",
      "Si x = 2, entonces f(2) = 70.625 \n",
      "\n",
      "Para n = 2, la ecuación es f(x) = 56.5 + (x - 1)*14.125 + (x - 1) * (x - 5)*-0.5048\n",
      "Si x = 2, entonces f(2) = 72.139 \n",
      "\n",
      "Para n = 3, la ecuación es f(x) = 56.5 + (x - 1)*14.125 + (x - 1) * (x - 5)*-0.5048 + (x - 1) * (x - 5) * (x - 20)*0.0109\n",
      "Si x = 2, entonces f(2) = 72.728 \n",
      "\n"
     ]
    }
   ],
   "source": [
    "eq = \"\"\n",
    "L = []\n",
    "ecuacion = str(fx_[0]) + \" + \"\n",
    "a = np.diag(T)\n",
    "\n",
    "for i in range(n):\n",
    "    eq = eq + \"(x - \" + str(x_[i]) + \") * \"\n",
    "    eq_1 = eq.rstrip(\"* \")\n",
    "    L.append(eq_1)\n",
    "\n",
    "for i in range(n):\n",
    "\n",
    "    ecuacion = ecuacion + L[i] + \"*\" + str(round(a[i], 4)) + \" + \"\n",
    "    ecuacion1 = ecuacion.rstrip(\"+ \")\n",
    "    x = Symbol('x')\n",
    "    ec_sym = sympify(ecuacion1)\n",
    "    print(\"Para n = %s, la ecuación es f(x) = %s\" % (i + 1, ecuacion1))        \n",
    "    print(\"Si x = %s, entonces f(%s) = %s \\n\" % (xi, xi, round(ec_sym.subs(x, xi),3)))"
   ]
  }
 ],
 "metadata": {
  "kernelspec": {
   "display_name": "Python 3",
   "language": "python",
   "name": "python3"
  },
  "language_info": {
   "codemirror_mode": {
    "name": "ipython",
    "version": 3
   },
   "file_extension": ".py",
   "mimetype": "text/x-python",
   "name": "python",
   "nbconvert_exporter": "python",
   "pygments_lexer": "ipython3",
   "version": "3.8.5"
  }
 },
 "nbformat": 4,
 "nbformat_minor": 4
}
