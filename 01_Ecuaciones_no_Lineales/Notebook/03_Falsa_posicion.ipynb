{
 "cells": [
  {
   "cell_type": "markdown",
   "metadata": {},
   "source": [
    "## Método de Posición Falsa\n",
    "- El método requiere dos puntos para su evaluación\n",
    "- El método requiere que se cumpla el teorema de Bolzano\n",
    "- Si los puntos estan muy alejados el numero de iteraciones aumentará comsiderablemente"
   ]
  },
  {
   "cell_type": "markdown",
   "metadata": {},
   "source": [
    "#### Ejemplo: \n",
    "Use el método de la posición falsa para encontrar una raíz real de la ecuación polinomial:\n",
    "$$ f(x) = x^3 + 2x^2 + 10x -20 = 0 $$\n",
    "para: $\\quad x_I=0,\\quad x_D=2,\\quad \\epsilon = 10^{-3}$\n",
    "##### Solucion:"
   ]
  },
  {
   "cell_type": "code",
   "execution_count": 1,
   "metadata": {},
   "outputs": [],
   "source": [
    "xI = 0; xD = 2; error = 10e-3;"
   ]
  },
  {
   "cell_type": "code",
   "execution_count": 2,
   "metadata": {},
   "outputs": [],
   "source": [
    "# Definimos la función\n",
    "def f(x):\n",
    "    return x**3 + 2*x**2 + 10*x - 20"
   ]
  },
  {
   "cell_type": "markdown",
   "metadata": {},
   "source": [
    "Consultamos si cumple el teorema de Bolzano"
   ]
  },
  {
   "cell_type": "code",
   "execution_count": 3,
   "metadata": {},
   "outputs": [
    {
     "name": "stdout",
     "output_type": "stream",
     "text": [
      "Cumple el Teorema de Bolzano\n"
     ]
    }
   ],
   "source": [
    "if f(xI)*f(xD)<0:\n",
    "\tprint('Cumple el Teorema de Bolzano')\n",
    "else:\n",
    "\tprint('No cumple el Teorema de Bolzano, asignar otros valores para xI y xD')"
   ]
  },
  {
   "cell_type": "markdown",
   "metadata": {},
   "source": [
    "Ecuación del método de Posición Falsa: \n",
    "$$ x_{M} = x_D - \\frac{(x_D-x_{I})\\times f(x_D)}{f(x_D)-f(x_I)}$$\n"
   ]
  },
  {
   "cell_type": "code",
   "execution_count": 20,
   "metadata": {},
   "outputs": [
    {
     "name": "stdout",
     "output_type": "stream",
     "text": [
      "raíz: 1.36881\n"
     ]
    }
   ],
   "source": [
    "# Iteramos\n",
    "condicion = True\n",
    "xMi = xD - ((xD - xI)*f(xD))/(f(xD) - f(xI))  # Ecuación de la falsa posición\n",
    "\n",
    "while condicion:\n",
    "    if f(xMi)<0:\n",
    "        xI=xMi\n",
    "    else:\n",
    "        xD=xMi\n",
    "    xM = xD - ((xD - xI)*f(xD))/(f(xD) - f(xI)) \n",
    "    \n",
    "    if abs(xM - xMi) < error:\n",
    "        condicion = False\n",
    "    else:        \n",
    "        xMi = xM\n",
    "        \n",
    "print(\"raíz: %s\" %(round(xM,5)))\n"
   ]
  }
 ],
 "metadata": {
  "kernelspec": {
   "display_name": "Python 3",
   "language": "python",
   "name": "python3"
  },
  "language_info": {
   "codemirror_mode": {
    "name": "ipython",
    "version": 3
   },
   "file_extension": ".py",
   "mimetype": "text/x-python",
   "name": "python",
   "nbconvert_exporter": "python",
   "pygments_lexer": "ipython3",
   "version": "3.8.5"
  }
 },
 "nbformat": 4,
 "nbformat_minor": 4
}
