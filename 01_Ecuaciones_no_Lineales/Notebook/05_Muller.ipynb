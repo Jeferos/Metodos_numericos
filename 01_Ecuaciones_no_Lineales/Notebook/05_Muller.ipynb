{
 "cells": [
  {
   "cell_type": "markdown",
   "metadata": {},
   "source": [
    "## Método de Muller"
   ]
  },
  {
   "cell_type": "markdown",
   "metadata": {},
   "source": [
    "#### Ejemplo: \n",
    "Use el método de Muller para encontrar una raíz real de la ecuación polinomial:\n",
    "$$ f(x) = x^3 + 2x^2 + 10x -20 = 0 $$\n",
    "para: $\\quad x_0=0,\\quad x_1=1,\\quad x_2=2,\\quad \\epsilon = 10^{-3}$\n",
    "##### Solucion:"
   ]
  },
  {
   "cell_type": "code",
   "execution_count": 13,
   "metadata": {},
   "outputs": [],
   "source": [
    "x0 = 0; x1 = 1; x2 = 2; error = 10e-3;"
   ]
  },
  {
   "cell_type": "code",
   "execution_count": 11,
   "metadata": {},
   "outputs": [],
   "source": [
    "# Definimos la función\n",
    "def f(x):\n",
    "    return x**3 + 2*x**2 + 10*x - 20"
   ]
  },
  {
   "cell_type": "markdown",
   "metadata": {},
   "source": [
    "Ecuación para hallar la raiz: \n",
    "$$ x_{3} = x_2 - \\frac{-2c}{b\\pm\\sqrt{b^2-4ac}}$$\n"
   ]
  },
  {
   "cell_type": "code",
   "execution_count": 23,
   "metadata": {},
   "outputs": [
    {
     "name": "stdout",
     "output_type": "stream",
     "text": [
      "raíz: 1.36881\n"
     ]
    }
   ],
   "source": [
    "# Iteramos\n",
    "e = 0.0001 # Error considerado \n",
    "condicion = True # variable de control\n",
    "while condicion:\n",
    "    f0 = f(x0); f1 = f(x1); f2 = f(x2);\n",
    "    h0 = x1 - x0; h1 = x2 - x1;\n",
    "    d0 = (f1 - f0)/(x1 - x0); d1 = (f2 - f1)/(x2 - x1);\n",
    "\n",
    "    a = (d1 - d0)/(h1 + h0) \n",
    "    b = a*(h1) + d1\n",
    "    c = f2\n",
    "\n",
    "    disc = (b**2 - 4*a*c)**0.5 # discriminante\n",
    "    \n",
    "    if abs(b + disc) > abs(b - disc):\n",
    "        x3 = x2 + (-2*c)/(b + disc)\n",
    "    else:\n",
    "        x3 = x2 + (-2*c)/(b - disc)\t\n",
    "    error = abs((x3 - x2)/x3) * 100 # error calculado en porcentaje\n",
    "    \n",
    "    if abs(x3-x2)<e:\n",
    "        condicion = False\n",
    "    else:\n",
    "        x0 = x1\n",
    "        x1 = x2\n",
    "        x2 = x3\n",
    "        \n",
    "print(\"raíz: %s\" %(round(x3,5)))"
   ]
  },
  {
   "cell_type": "code",
   "execution_count": null,
   "metadata": {},
   "outputs": [],
   "source": []
  }
 ],
 "metadata": {
  "kernelspec": {
   "display_name": "Python 3",
   "language": "python",
   "name": "python3"
  },
  "language_info": {
   "codemirror_mode": {
    "name": "ipython",
    "version": 3
   },
   "file_extension": ".py",
   "mimetype": "text/x-python",
   "name": "python",
   "nbconvert_exporter": "python",
   "pygments_lexer": "ipython3",
   "version": "3.8.5"
  }
 },
 "nbformat": 4,
 "nbformat_minor": 4
}
