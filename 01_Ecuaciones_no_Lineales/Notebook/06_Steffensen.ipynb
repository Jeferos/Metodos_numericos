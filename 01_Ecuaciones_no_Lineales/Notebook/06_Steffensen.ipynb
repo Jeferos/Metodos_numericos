{
 "cells": [
  {
   "cell_type": "markdown",
   "metadata": {},
   "source": [
    "## Método de Steffensen"
   ]
  },
  {
   "cell_type": "markdown",
   "metadata": {},
   "source": [
    "#### Ejemplo: \n",
    "Encuentre una raíz real de la ecuación:\n",
    "$$ f(x) = x^3 + 2x^2 + 10x -20 = 0 $$\n",
    "con el método de Steffensen\n",
    "para: $\\quad x_0=1,\\quad \\epsilon = 10^{-3}$\n",
    "##### Solucion:"
   ]
  },
  {
   "cell_type": "code",
   "execution_count": 6,
   "metadata": {},
   "outputs": [],
   "source": [
    "x0 = 1; error = 10e-3;"
   ]
  },
  {
   "cell_type": "code",
   "execution_count": 7,
   "metadata": {},
   "outputs": [],
   "source": [
    "# Definimos la función\n",
    "def f(x):\n",
    "    return x**3 + 2*x**2 + 10*x - 20"
   ]
  },
  {
   "cell_type": "markdown",
   "metadata": {},
   "source": [
    "Se pasa la ecuación $f(x) = 0$ a la forma $g(x) = x$."
   ]
  },
  {
   "cell_type": "markdown",
   "metadata": {},
   "source": [
    "$$ x= g(x) = \\frac{20}{x^2+2x+10}$$"
   ]
  },
  {
   "cell_type": "markdown",
   "metadata": {},
   "source": [
    "Aceleraremos la convergencia con el Algoritmo de Aitken:"
   ]
  },
  {
   "cell_type": "markdown",
   "metadata": {},
   "source": [
    "$$ x'_i=x_i-\\frac{(x_{i+1}-x_i)^2}{x_{i+2}-2x_{i+1}+x_i} \\quad i\\geq 0$$"
   ]
  },
  {
   "cell_type": "code",
   "execution_count": 8,
   "metadata": {},
   "outputs": [],
   "source": [
    "# Definimos la función g(x)\n",
    "def g(x):\n",
    "    return 20/(x**2 + 2*x + 10)"
   ]
  },
  {
   "cell_type": "code",
   "execution_count": 10,
   "metadata": {},
   "outputs": [
    {
     "name": "stdout",
     "output_type": "stream",
     "text": [
      "raíz: 1.36881\n"
     ]
    }
   ],
   "source": [
    "condicion = True # variable de control\n",
    "\n",
    "while condicion:\n",
    "\tx1 = g(x0)\n",
    "\tx2 = g(x1)\t \n",
    "\tx3 = x0 - (x1 - x0)**2/(x2 - 2*(x1) + x0)  # Algoritmo de Aitken\n",
    "\tif abs(f(x3)) < error:\n",
    "\t\tcondicion = False\n",
    "\telse:\n",
    "\t\tx0 = x3\n",
    "        \n",
    "print(\"raíz: %s\" %(round(x3,5)))"
   ]
  }
 ],
 "metadata": {
  "kernelspec": {
   "display_name": "Python 3",
   "language": "python",
   "name": "python3"
  },
  "language_info": {
   "codemirror_mode": {
    "name": "ipython",
    "version": 3
   },
   "file_extension": ".py",
   "mimetype": "text/x-python",
   "name": "python",
   "nbconvert_exporter": "python",
   "pygments_lexer": "ipython3",
   "version": "3.8.5"
  }
 },
 "nbformat": 4,
 "nbformat_minor": 4
}
