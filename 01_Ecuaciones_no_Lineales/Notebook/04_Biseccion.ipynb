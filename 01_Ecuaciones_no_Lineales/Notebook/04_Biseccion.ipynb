{
 "cells": [
  {
   "cell_type": "markdown",
   "metadata": {},
   "source": [
    "## Método de la Bisección"
   ]
  },
  {
   "cell_type": "markdown",
   "metadata": {},
   "source": [
    "#### Ejemplo: \n",
    "Encuentre la raíz real de la ecuación:\n",
    "$$ f(x) = x^3 + 2x^2 + 10x -20 $$\n",
    "para: $\\quad x_I=2,\\quad x_D=1,\\quad \\epsilon = 10^{-3}$\n",
    "##### Solucion:"
   ]
  },
  {
   "cell_type": "code",
   "execution_count": 1,
   "metadata": {},
   "outputs": [],
   "source": [
    "xI = 2; xD = 1; error = 10e-3;"
   ]
  },
  {
   "cell_type": "code",
   "execution_count": 2,
   "metadata": {},
   "outputs": [],
   "source": [
    "# Definimos la función\n",
    "def f(x):\n",
    "    return x**3 + 2*x**2 + 10*x - 20"
   ]
  },
  {
   "cell_type": "markdown",
   "metadata": {},
   "source": [
    "Ecuación del método de la Bisección: \n",
    "$$ x_{M} = \\frac{x_I+x_D}{2}$$\n"
   ]
  },
  {
   "cell_type": "code",
   "execution_count": 3,
   "metadata": {},
   "outputs": [
    {
     "name": "stdout",
     "output_type": "stream",
     "text": [
      "Cumple el Teorema de Bolzano\n",
      "raiz: 1.359375\n"
     ]
    }
   ],
   "source": [
    "# Empleamos el método, \n",
    "condicion = True\n",
    "if f(xI)*f(xD) < 0:\n",
    "    print('Cumple el Teorema de Bolzano')\t\n",
    "    xM = (xI + xD)/2\t\n",
    "    while condicion:\t\t\t\t\t\t\t\n",
    "        if f(xM)*f(xI) < 0:\n",
    "            xD = xM\n",
    "        else:\n",
    "            xI = xM            \n",
    "        if (abs(xM - (xI + xD)/2) < error):\n",
    "            condicion = False\n",
    "        else:\n",
    "            xM = (xI + xD)/2  # Ecuación de La Bisección\n",
    "    print(\"raiz: %s\" %xM)\t\t\n",
    "else:\n",
    "\tprint('No cumple el Teorema de Bolzano, ingrese otros valores iniciales')\n"
   ]
  },
  {
   "cell_type": "code",
   "execution_count": null,
   "metadata": {},
   "outputs": [],
   "source": []
  }
 ],
 "metadata": {
  "kernelspec": {
   "display_name": "Python 3",
   "language": "python",
   "name": "python3"
  },
  "language_info": {
   "codemirror_mode": {
    "name": "ipython",
    "version": 3
   },
   "file_extension": ".py",
   "mimetype": "text/x-python",
   "name": "python",
   "nbconvert_exporter": "python",
   "pygments_lexer": "ipython3",
   "version": "3.8.5"
  }
 },
 "nbformat": 4,
 "nbformat_minor": 4
}
