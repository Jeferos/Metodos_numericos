{
 "cells": [
  {
   "cell_type": "markdown",
   "metadata": {},
   "source": [
    "## Método de Newton Raphson"
   ]
  },
  {
   "cell_type": "markdown",
   "metadata": {},
   "source": [
    "#### Ejemplo: \n",
    "Encuentre la raíz real de la ecuación:\n",
    "$$ f(x) = x^3 + 2x^2 + 10x -20 $$\n",
    "para: $\\quad x_0=1,\\quad \\epsilon = 10^{-3}$\n",
    "##### Solucion:"
   ]
  },
  {
   "cell_type": "code",
   "execution_count": 4,
   "metadata": {
    "hideCode": true,
    "hideOutput": false
   },
   "outputs": [],
   "source": [
    "# Importamos numpy para hacer cálculos matemáticos\n",
    "import numpy as np"
   ]
  },
  {
   "cell_type": "code",
   "execution_count": 5,
   "metadata": {
    "hideCode": false,
    "hideOutput": false,
    "scrolled": true
   },
   "outputs": [],
   "source": [
    "x0 = 1; error = 10e-3;"
   ]
  },
  {
   "cell_type": "code",
   "execution_count": 6,
   "metadata": {
    "hideCode": false,
    "hideOutput": false,
    "scrolled": true
   },
   "outputs": [],
   "source": [
    "# Definimos la función\n",
    "def f(x):\n",
    "    return x**3 + 2*x**2 + 10*x - 20"
   ]
  },
  {
   "cell_type": "code",
   "execution_count": 7,
   "metadata": {
    "hideCode": false,
    "hideOutput": false
   },
   "outputs": [],
   "source": [
    "# Aproximamos la derivada\n",
    "def dx(x):\n",
    "    h = 10e-9\n",
    "    return (f(x + h) - f(x))/h"
   ]
  },
  {
   "cell_type": "markdown",
   "metadata": {},
   "source": [
    "Ecuación del método de Newton-Raphson: \n",
    "$$ x_{i+1} = x_i - \\frac{f(x_i)}{f'(x_i)}$$\n"
   ]
  },
  {
   "cell_type": "code",
   "execution_count": 8,
   "metadata": {
    "hideCode": false,
    "hideOutput": false
   },
   "outputs": [
    {
     "name": "stdout",
     "output_type": "stream",
     "text": [
      "raíz: 1.36881\n"
     ]
    }
   ],
   "source": [
    "# Empleamos el método\n",
    "condicion = True\n",
    "while condicion:\n",
    "    x = x0 - f(x0)/dx(x0) # Ecuación de Newton-Raphson\n",
    "    if abs(x0-x) < error:\n",
    "        condicion = False\n",
    "    else:        \n",
    "        x0=x\t\t\t\n",
    "print(\"raíz: {}\".format(round(x,5)))\n"
   ]
  }
 ],
 "metadata": {
  "kernelspec": {
   "display_name": "Python 3",
   "language": "python",
   "name": "python3"
  },
  "language_info": {
   "codemirror_mode": {
    "name": "ipython",
    "version": 3
   },
   "file_extension": ".py",
   "mimetype": "text/x-python",
   "name": "python",
   "nbconvert_exporter": "python",
   "pygments_lexer": "ipython3",
   "version": "3.8.5"
  }
 },
 "nbformat": 4,
 "nbformat_minor": 4
}
