{
 "cells": [
  {
   "cell_type": "markdown",
   "metadata": {},
   "source": [
    "## Método de la Secante\n"
   ]
  },
  {
   "cell_type": "markdown",
   "metadata": {},
   "source": [
    "#### Ejemplo: \n",
    "Use el método de la secante para encontrar una raíz real de la ecuación polinomial:\n",
    "$$ f(x) = x^3 + 2x^2 + 10x -20 = 0 $$\n",
    "para: $\\quad x_0=0,\\quad x_1=1,\\quad \\epsilon = 10^{-3}$\n",
    "##### Solucion:"
   ]
  },
  {
   "cell_type": "code",
   "execution_count": 19,
   "metadata": {},
   "outputs": [],
   "source": [
    "# Importamos la libreria numpy para hacer cálculos matemáticos\n",
    "import numpy as np"
   ]
  },
  {
   "cell_type": "code",
   "execution_count": 3,
   "metadata": {},
   "outputs": [],
   "source": [
    "x0 = 0; x1 = 1; error = 10e-3;"
   ]
  },
  {
   "cell_type": "code",
   "execution_count": 4,
   "metadata": {},
   "outputs": [],
   "source": [
    "# Definimos la función\n",
    "def f(x):\n",
    "    return x**3 + 2*x**2 + 10*x - 20"
   ]
  },
  {
   "cell_type": "markdown",
   "metadata": {},
   "source": [
    "Ecuación del método de la Secante: \n",
    "$$ x_{i+1} = x_i - \\frac{(x_i-x_{i-1})\\times f(x_i)}{f(x_i)-f(x_{i-1})}$$\n"
   ]
  },
  {
   "cell_type": "code",
   "execution_count": 9,
   "metadata": {},
   "outputs": [
    {
     "name": "stdout",
     "output_type": "stream",
     "text": [
      "raíz: 1.36881\n"
     ]
    }
   ],
   "source": [
    "# Iteramos\n",
    "condicion = True\n",
    "while condicion:\n",
    "    x = x1 - ((x1 - x0)*f(x1))/(f(x1) - f(x0))  # Ecuación de la Secante\n",
    "    if abs(x1 - x) < error:\n",
    "        condicion = False\n",
    "    else:        \n",
    "        x0 = x1\n",
    "        x1 = x\n",
    "        \n",
    "print(\"raíz: %s\" %(round(x,5)))\n"
   ]
  }
 ],
 "metadata": {
  "kernelspec": {
   "display_name": "Python 3",
   "language": "python",
   "name": "python3"
  },
  "language_info": {
   "codemirror_mode": {
    "name": "ipython",
    "version": 3
   },
   "file_extension": ".py",
   "mimetype": "text/x-python",
   "name": "python",
   "nbconvert_exporter": "python",
   "pygments_lexer": "ipython3",
   "version": "3.8.5"
  }
 },
 "nbformat": 4,
 "nbformat_minor": 4
}
