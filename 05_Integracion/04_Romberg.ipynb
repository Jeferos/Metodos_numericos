{
 "cells": [
  {
   "cell_type": "markdown",
   "metadata": {},
   "source": [
    "<h2>Integración de Romberg - Extrapolación de Richardson</h2>"
   ]
  },
  {
   "cell_type": "markdown",
   "metadata": {},
   "source": [
    "<h4>Ejercicio</h4>"
   ]
  },
  {
   "cell_type": "markdown",
   "metadata": {},
   "source": [
    "Integre numericamente la siguiente ecuación:\n",
    "$$f(x)=0.2+25x-200x^2+675x^3-900x^4+400x^5$$\n",
    "\n",
    "desde $a = 0$ hasta $b = 0.8$. con $10$ intervalos."
   ]
  },
  {
   "cell_type": "markdown",
   "metadata": {},
   "source": [
    "<h4>Solución:</h4>"
   ]
  },
  {
   "cell_type": "markdown",
   "metadata": {},
   "source": [
    "Ecuación del Romberg:\n",
    "\n",
    "$$I_k^{(m)}=\\frac{4^mI_{k+1}^{m-1}-I_k^{m-1}}{4^m-1}$$"
   ]
  },
  {
   "cell_type": "code",
   "execution_count": 50,
   "metadata": {},
   "outputs": [],
   "source": [
    "import pandas as pd # librería para mostrar tablas\n",
    "import copy"
   ]
  },
  {
   "cell_type": "code",
   "execution_count": 96,
   "metadata": {},
   "outputs": [],
   "source": [
    "# Iniciamos variables:\n",
    "a = 0.0 # Límite inferior\n",
    "b = 0.8 # Límite superior\n",
    "n = [1, 2, 4, 8, 12] # Número de subintervalos\n",
    "f = lambda x: 0.2 + 25 * x - 200 * x ** 2 + 675 * x ** 3 - 900 * x ** 4 + 400 * x ** 5 # Ecuación a integrar"
   ]
  },
  {
   "cell_type": "markdown",
   "metadata": {},
   "source": [
    "Cálculo de Integrales según el número de subintervalos:"
   ]
  },
  {
   "cell_type": "code",
   "execution_count": 97,
   "metadata": {},
   "outputs": [],
   "source": [
    "Il = [] # Lista donde se almacenarán las integrales\n",
    "a1 = a\n",
    "b1 = b\n",
    "for i in n:\n",
    "    k = (b1 - a1) / i  # Tamaño de subintervalo    \n",
    "    I = 0\n",
    "    for j in range(i): \n",
    "        I = I + k * (f(a1) + f(a1 + k)) / 2 # Ecuación del Trapecio (se puede utilizar otras ecuaciones como la de Simpson) \t\n",
    "        a1 += k\n",
    "    Il.append(I)\n",
    "    a1 = a\n",
    "    b1 = b"
   ]
  },
  {
   "cell_type": "markdown",
   "metadata": {},
   "source": [
    "Tabla de Integrales:"
   ]
  },
  {
   "cell_type": "code",
   "execution_count": 98,
   "metadata": {},
   "outputs": [
    {
     "data": {
      "text/html": [
       "<div>\n",
       "<style scoped>\n",
       "    .dataframe tbody tr th:only-of-type {\n",
       "        vertical-align: middle;\n",
       "    }\n",
       "\n",
       "    .dataframe tbody tr th {\n",
       "        vertical-align: top;\n",
       "    }\n",
       "\n",
       "    .dataframe thead th {\n",
       "        text-align: right;\n",
       "    }\n",
       "</style>\n",
       "<table border=\"1\" class=\"dataframe\">\n",
       "  <thead>\n",
       "    <tr style=\"text-align: right;\">\n",
       "      <th></th>\n",
       "      <th>n°</th>\n",
       "      <th>$I_0$</th>\n",
       "    </tr>\n",
       "  </thead>\n",
       "  <tbody>\n",
       "    <tr>\n",
       "      <th>0</th>\n",
       "      <td>1</td>\n",
       "      <td>0.172800</td>\n",
       "    </tr>\n",
       "    <tr>\n",
       "      <th>1</th>\n",
       "      <td>2</td>\n",
       "      <td>1.068800</td>\n",
       "    </tr>\n",
       "    <tr>\n",
       "      <th>2</th>\n",
       "      <td>4</td>\n",
       "      <td>1.484800</td>\n",
       "    </tr>\n",
       "    <tr>\n",
       "      <th>3</th>\n",
       "      <td>8</td>\n",
       "      <td>1.600800</td>\n",
       "    </tr>\n",
       "    <tr>\n",
       "      <th>4</th>\n",
       "      <td>12</td>\n",
       "      <td>1.622808</td>\n",
       "    </tr>\n",
       "  </tbody>\n",
       "</table>\n",
       "</div>"
      ],
      "text/plain": [
       "   n°     $I_0$\n",
       "0   1  0.172800\n",
       "1   2  1.068800\n",
       "2   4  1.484800\n",
       "3   8  1.600800\n",
       "4  12  1.622808"
      ]
     },
     "execution_count": 98,
     "metadata": {},
     "output_type": "execute_result"
    }
   ],
   "source": [
    "pd.DataFrame({\"n°\":n, \"$I_0$\":Il}) "
   ]
  },
  {
   "cell_type": "markdown",
   "metadata": {},
   "source": [
    "Extrapolación de Richardson:"
   ]
  },
  {
   "cell_type": "code",
   "execution_count": 99,
   "metadata": {},
   "outputs": [],
   "source": [
    "ne = len(Il)  \n",
    "LL = {\"n°\":n,\"$I_0$\":Il}\n",
    "for i in range(1, ne):\n",
    "    Irl = []    \n",
    "    ne = len(Il)\n",
    "    for j in range(ne - 1):\n",
    "        Ir = (4 ** i * Il[j + 1] - Il[j]) / (4 ** i - 1)\n",
    "        Irl.append(Ir)\n",
    "    LI = copy.copy(Irl)\n",
    "    for k in range(i):\n",
    "        LI.append(\"\")\n",
    "    LL['$I_' + str(i) + '$'] = LI    \n",
    "    Il = Irl"
   ]
  },
  {
   "cell_type": "markdown",
   "metadata": {},
   "source": [
    "Tabla de Resultados de la extrapolación:"
   ]
  },
  {
   "cell_type": "code",
   "execution_count": 100,
   "metadata": {},
   "outputs": [
    {
     "data": {
      "text/html": [
       "<div>\n",
       "<style scoped>\n",
       "    .dataframe tbody tr th:only-of-type {\n",
       "        vertical-align: middle;\n",
       "    }\n",
       "\n",
       "    .dataframe tbody tr th {\n",
       "        vertical-align: top;\n",
       "    }\n",
       "\n",
       "    .dataframe thead th {\n",
       "        text-align: right;\n",
       "    }\n",
       "</style>\n",
       "<table border=\"1\" class=\"dataframe\">\n",
       "  <thead>\n",
       "    <tr style=\"text-align: right;\">\n",
       "      <th></th>\n",
       "      <th>n°</th>\n",
       "      <th>$I_0$</th>\n",
       "      <th>$I_1$</th>\n",
       "      <th>$I_2$</th>\n",
       "      <th>$I_3$</th>\n",
       "      <th>$I_4$</th>\n",
       "    </tr>\n",
       "  </thead>\n",
       "  <tbody>\n",
       "    <tr>\n",
       "      <th>0</th>\n",
       "      <td>1</td>\n",
       "      <td>0.172800</td>\n",
       "      <td>1.36747</td>\n",
       "      <td>1.64053</td>\n",
       "      <td>1.64053</td>\n",
       "      <td>1.6293</td>\n",
       "    </tr>\n",
       "    <tr>\n",
       "      <th>1</th>\n",
       "      <td>2</td>\n",
       "      <td>1.068800</td>\n",
       "      <td>1.62347</td>\n",
       "      <td>1.64053</td>\n",
       "      <td>1.62935</td>\n",
       "      <td></td>\n",
       "    </tr>\n",
       "    <tr>\n",
       "      <th>2</th>\n",
       "      <td>4</td>\n",
       "      <td>1.484800</td>\n",
       "      <td>1.63947</td>\n",
       "      <td>1.62952</td>\n",
       "      <td></td>\n",
       "      <td></td>\n",
       "    </tr>\n",
       "    <tr>\n",
       "      <th>3</th>\n",
       "      <td>8</td>\n",
       "      <td>1.600800</td>\n",
       "      <td>1.63014</td>\n",
       "      <td></td>\n",
       "      <td></td>\n",
       "      <td></td>\n",
       "    </tr>\n",
       "    <tr>\n",
       "      <th>4</th>\n",
       "      <td>12</td>\n",
       "      <td>1.622808</td>\n",
       "      <td></td>\n",
       "      <td></td>\n",
       "      <td></td>\n",
       "      <td></td>\n",
       "    </tr>\n",
       "  </tbody>\n",
       "</table>\n",
       "</div>"
      ],
      "text/plain": [
       "   n°     $I_0$    $I_1$    $I_2$    $I_3$   $I_4$\n",
       "0   1  0.172800  1.36747  1.64053  1.64053  1.6293\n",
       "1   2  1.068800  1.62347  1.64053  1.62935        \n",
       "2   4  1.484800  1.63947  1.62952                 \n",
       "3   8  1.600800  1.63014                          \n",
       "4  12  1.622808                                   "
      ]
     },
     "execution_count": 100,
     "metadata": {},
     "output_type": "execute_result"
    }
   ],
   "source": [
    "pd.DataFrame(LL) "
   ]
  },
  {
   "cell_type": "markdown",
   "metadata": {},
   "source": [
    "Resultado:\n"
   ]
  },
  {
   "cell_type": "code",
   "execution_count": 101,
   "metadata": {},
   "outputs": [
    {
     "name": "stdout",
     "output_type": "stream",
     "text": [
      "I = 1.6293\n"
     ]
    }
   ],
   "source": [
    "print(\"I = %.4f\"%Il[0])"
   ]
  }
 ],
 "metadata": {
  "kernelspec": {
   "display_name": "Python 3",
   "language": "python",
   "name": "python3"
  },
  "language_info": {
   "codemirror_mode": {
    "name": "ipython",
    "version": 3
   },
   "file_extension": ".py",
   "mimetype": "text/x-python",
   "name": "python",
   "nbconvert_exporter": "python",
   "pygments_lexer": "ipython3",
   "version": "3.8.5"
  }
 },
 "nbformat": 4,
 "nbformat_minor": 4
}
