{
 "cells": [
  {
   "cell_type": "markdown",
   "metadata": {},
   "source": [
    "<h2>Cuadratura de Gauss</h2>"
   ]
  },
  {
   "cell_type": "markdown",
   "metadata": {},
   "source": [
    "<h4>Ejercicio</h4>"
   ]
  },
  {
   "cell_type": "markdown",
   "metadata": {},
   "source": [
    "Integre numericamente la siguiente ecuación:\n",
    "$$f(x)=0.2+25x-200x^2+675x^3-900x^4+400x^5$$\n",
    "\n",
    "desde $a = 0$ hasta $b = 0.8$."
   ]
  },
  {
   "cell_type": "markdown",
   "metadata": {},
   "source": [
    "<h4>Solución:</h4>"
   ]
  },
  {
   "cell_type": "markdown",
   "metadata": {},
   "source": [
    "Ecuación de la Cuadratura de Gauss:\n",
    "\n",
    "$$\\int_a^b f(x)dx=\\frac{(b-a)}{2}\\sum_{i=1}^n w_i F\\left(\\frac{(b-a)z_i+b+a}{2}\\right)$$"
   ]
  },
  {
   "cell_type": "code",
   "execution_count": 14,
   "metadata": {},
   "outputs": [],
   "source": [
    "# Iniciamos variables:\n",
    " = 0.0 # Límite inferior\n",
    "tf = 0.8 # Límite superior\n",
    "\n",
    "f = lambda x: 0.2 + 25 * x - 200 * x ** 2 + 675 * x ** 3 - 900 * x ** 4 + 400 * x ** 5 # Ecuación a integrar"
   ]
  },
  {
   "cell_type": "markdown",
   "metadata": {},
   "source": [
    "Coeficientes y abscisas del método de la cuadratura de Gauss:"
   ]
  },
  {
   "cell_type": "code",
   "execution_count": 15,
   "metadata": {},
   "outputs": [],
   "source": [
    "w = [[1,1],\n",
    "\t[0.55555,0.88888,0.55555],\n",
    "\t[0.3478548451,0.6521451549,0.6521451549,0.3478548451],\n",
    "\t[0.2369268851,0.4786286705,0.5688888888,0.4786286705,0.2369268851],\n",
    "\t[0.1713244924,0.3607615730,0.4679139346,0.4679139346,0.3607615730,0.1713244924],\n",
    "\t]\n",
    "\n",
    "z = [[-0.5773502692,0.5773502692],\n",
    "\t[-0.7745966692,0,0.7745966692],\n",
    "\t[-0.8611363116,-0.3399810436,0.3399810436,0.8611363116],\n",
    "\t[-0.9061798459,-0.5384693101,0,0.5384693101,0.9061798459],\n",
    "\t[-0.9324695142,-0.6612093865,-0.2386191861,0.2386191861,0.6612093865,0.9324695142],\n",
    "\t]"
   ]
  },
  {
   "cell_type": "markdown",
   "metadata": {},
   "source": [
    "Cálculos iniciales:"
   ]
  },
  {
   "cell_type": "code",
   "execution_count": 16,
   "metadata": {},
   "outputs": [],
   "source": [
    "n = 5\t# Número de puntos a emplear: 2,3,4,5,6  Obs:se recomienda 3 puntos mínimo\n",
    "\n",
    "k = (tf - t0)/2\n",
    "w1 = w[n - 2]\n",
    "z1 = z[n - 2]"
   ]
  },
  {
   "cell_type": "markdown",
   "metadata": {},
   "source": [
    "Interpolación:"
   ]
  },
  {
   "cell_type": "code",
   "execution_count": 17,
   "metadata": {},
   "outputs": [],
   "source": [
    "I = 0\n",
    "for i in range(len(w1)):\n",
    "    I = I + w1[i]*f(z1[i] * (tf - t0)/2 + (t0 + tf)/2)\n",
    "\t"
   ]
  },
  {
   "cell_type": "markdown",
   "metadata": {},
   "source": [
    "Resultado:\n"
   ]
  },
  {
   "cell_type": "code",
   "execution_count": 18,
   "metadata": {},
   "outputs": [
    {
     "name": "stdout",
     "output_type": "stream",
     "text": [
      "I = 1.64053\n"
     ]
    }
   ],
   "source": [
    "print(\"I = %.5f\"%(I * k))"
   ]
  }
 ],
 "metadata": {
  "kernelspec": {
   "display_name": "Python 3",
   "language": "python",
   "name": "python3"
  },
  "language_info": {
   "codemirror_mode": {
    "name": "ipython",
    "version": 3
   },
   "file_extension": ".py",
   "mimetype": "text/x-python",
   "name": "python",
   "nbconvert_exporter": "python",
   "pygments_lexer": "ipython3",
   "version": "3.8.5"
  }
 },
 "nbformat": 4,
 "nbformat_minor": 4
}
