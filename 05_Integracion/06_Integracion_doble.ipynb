{
 "cells": [
  {
   "cell_type": "markdown",
   "metadata": {},
   "source": [
    "<h2>Integración Doble con el Método de Cuadratura de Gauss</h2>"
   ]
  },
  {
   "cell_type": "markdown",
   "metadata": {},
   "source": [
    "<h4>Ejercicio</h4>"
   ]
  },
  {
   "cell_type": "markdown",
   "metadata": {},
   "source": [
    "Integre numericamente la siguiente ecuación:\n",
    "$$f(x,y)=e^{x+y}$$\n",
    "\n",
    "con $x$ desde $a = 0$ hasta $b = 4$, $y$ desde $c = 1$ hasta $d = 3$."
   ]
  },
  {
   "cell_type": "markdown",
   "metadata": {},
   "source": [
    "<h4>Solución:</h4>"
   ]
  },
  {
   "cell_type": "markdown",
   "metadata": {},
   "source": [
    "Iniciamos variables:\n",
    "\n"
   ]
  },
  {
   "cell_type": "code",
   "execution_count": 9,
   "metadata": {},
   "outputs": [],
   "source": [
    "import sympy as sy\n",
    "a = 0.0 # Límite inferior para x\n",
    "b = 4.0 # Límite superior para x\n",
    "\n",
    "c = 1.0 # Límite inferior para y\n",
    "d = 3.0 # Límite superior para y\n",
    "x, y = sy.symbols('x y')\n",
    "f_x = sy.sympify('exp(x+y)') # Ecuación a integrar "
   ]
  },
  {
   "cell_type": "markdown",
   "metadata": {},
   "source": [
    "Coeficientes y abscisas del método de la cuadratura de Gauss:"
   ]
  },
  {
   "cell_type": "code",
   "execution_count": 10,
   "metadata": {},
   "outputs": [],
   "source": [
    "w = [[1,1],\n",
    "\t[0.55555,0.88888,0.55555],\n",
    "\t[0.3478548451,0.6521451549,0.6521451549,0.3478548451],\n",
    "\t[0.2369268851,0.4786286705,0.5688888888,0.4786286705,0.2369268851],\n",
    "\t[0.1713244924,0.3607615730,0.4679139346,0.4679139346,0.3607615730,0.1713244924],\n",
    "\t]\n",
    "\n",
    "z = [[-0.5773502692,0.5773502692],\n",
    "\t[-0.7745966692,0,0.7745966692],\n",
    "\t[-0.8611363116,-0.3399810436,0.3399810436,0.8611363116],\n",
    "\t[-0.9061798459,-0.5384693101,0,0.5384693101,0.9061798459],\n",
    "\t[-0.9324695142,-0.6612093865,-0.2386191861,0.2386191861,0.6612093865,0.9324695142],\n",
    "\t]"
   ]
  },
  {
   "cell_type": "markdown",
   "metadata": {},
   "source": [
    "Cálculos iniciales:"
   ]
  },
  {
   "cell_type": "code",
   "execution_count": 11,
   "metadata": {},
   "outputs": [],
   "source": [
    "n = 5\t# Número de puntos a emplear: 2,3,4,5,6  Obs:se recomienda 3 puntos mínimo\n",
    "\n",
    "k = (b - a)/2\n",
    "w1 = w[n - 2]\n",
    "z1 = z[n - 2]"
   ]
  },
  {
   "cell_type": "markdown",
   "metadata": {},
   "source": [
    "Iteraciones:"
   ]
  },
  {
   "cell_type": "code",
   "execution_count": 12,
   "metadata": {},
   "outputs": [],
   "source": [
    "# Respecto a x\n",
    "I = 0\n",
    "for i in range(len(w1)):\t\t\n",
    "\tI = I + w1[i] * f_x.subs(x,z1[i]*(b - a) / 2 + (a + b) / 2)\n",
    "\n",
    "\n",
    "# Respecto a y\n",
    "f_y = I * k  # Ecuación a integrar respecto a y\n",
    "k = (d - c) / 2 \n",
    "\n",
    "I = 0\n",
    "for i in range(len(w1)):\t\t\n",
    "\tI = I + w1[i] * f_y.subs(y, z1[i] * (d - c) / 2 + (c + d) / 2)\t"
   ]
  },
  {
   "cell_type": "markdown",
   "metadata": {},
   "source": [
    "Resultado:\n"
   ]
  },
  {
   "cell_type": "code",
   "execution_count": 15,
   "metadata": {},
   "outputs": [
    {
     "name": "stdout",
     "output_type": "stream",
     "text": [
      "I = 930.85251\n"
     ]
    }
   ],
   "source": [
    "print(\"I = %.5f\"%(I * k))"
   ]
  }
 ],
 "metadata": {
  "kernelspec": {
   "display_name": "Python 3",
   "language": "python",
   "name": "python3"
  },
  "language_info": {
   "codemirror_mode": {
    "name": "ipython",
    "version": 3
   },
   "file_extension": ".py",
   "mimetype": "text/x-python",
   "name": "python",
   "nbconvert_exporter": "python",
   "pygments_lexer": "ipython3",
   "version": "3.8.5"
  }
 },
 "nbformat": 4,
 "nbformat_minor": 4
}
