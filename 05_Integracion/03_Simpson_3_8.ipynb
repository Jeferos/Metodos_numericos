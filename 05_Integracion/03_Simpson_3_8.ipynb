{
 "cells": [
  {
   "cell_type": "markdown",
   "metadata": {},
   "source": [
    "<h2>Método de Simpson 3/8</h2>"
   ]
  },
  {
   "cell_type": "markdown",
   "metadata": {},
   "source": [
    "<h4>Ejercicio</h4>"
   ]
  },
  {
   "cell_type": "markdown",
   "metadata": {},
   "source": [
    "Integre numericamente la siguiente ecuación:\n",
    "$$f(x)=0.2+25x-200x^2+675x^3-900x^4+400x^5$$\n",
    "\n",
    "desde $a = 0$ hasta $b = 0.8$ con $10$ intervalos."
   ]
  },
  {
   "cell_type": "markdown",
   "metadata": {},
   "source": [
    "<h4>Solución:</h4>"
   ]
  },
  {
   "cell_type": "markdown",
   "metadata": {},
   "source": [
    "Ecuación de Simpson 3/8:\n",
    "\n",
    "$$I=k\\frac{f(x_0)+3f(x_1)+3f(x_2)+f(x_3)}{8}$$"
   ]
  },
  {
   "cell_type": "code",
   "execution_count": 1,
   "metadata": {},
   "outputs": [],
   "source": [
    "# Iniciamos variables:\n",
    "a = 0.0 # Límite inferior\n",
    "b = 0.8 # Límite superior\n",
    "n = 10 # Número de subintervalos\n",
    "f = lambda x: 0.2 + 25 * x - 200 * x ** 2 + 675 * x ** 3 - 900 * x ** 4 + 400 * x ** 5 # Ecuación a integrar\n",
    "k = (b - a) / n # Ancho de subintervalos"
   ]
  },
  {
   "cell_type": "markdown",
   "metadata": {},
   "source": [
    "Iteramos:"
   ]
  },
  {
   "cell_type": "code",
   "execution_count": 8,
   "metadata": {},
   "outputs": [],
   "source": [
    "I = 0\n",
    "for i in range(n):\n",
    "    I = I + k * (f(a) + 3 * f(a + k / 3) + 3 * f(a + k / 3) + f(a + k)) / 6 # Ecuación de Simpson 1/3 \t\n",
    "    a += k    "
   ]
  },
  {
   "cell_type": "markdown",
   "metadata": {},
   "source": [
    "Resultado:"
   ]
  },
  {
   "cell_type": "code",
   "execution_count": 9,
   "metadata": {},
   "outputs": [
    {
     "name": "stdout",
     "output_type": "stream",
     "text": [
      "I = 1.6405\n"
     ]
    }
   ],
   "source": [
    "print(\"I = %.4f\"%I)"
   ]
  }
 ],
 "metadata": {
  "kernelspec": {
   "display_name": "Python 3",
   "language": "python",
   "name": "python3"
  },
  "language_info": {
   "codemirror_mode": {
    "name": "ipython",
    "version": 3
   },
   "file_extension": ".py",
   "mimetype": "text/x-python",
   "name": "python",
   "nbconvert_exporter": "python",
   "pygments_lexer": "ipython3",
   "version": "3.8.5"
  }
 },
 "nbformat": 4,
 "nbformat_minor": 4
}
