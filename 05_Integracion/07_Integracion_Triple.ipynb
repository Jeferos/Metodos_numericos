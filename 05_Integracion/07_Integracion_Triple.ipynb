{
 "cells": [
  {
   "cell_type": "markdown",
   "metadata": {},
   "source": [
    "<h2>Integración Triple con el Método de Cuadratura de Gauss</h2>"
   ]
  },
  {
   "cell_type": "markdown",
   "metadata": {},
   "source": [
    "<h4>Ejercicio</h4>"
   ]
  },
  {
   "cell_type": "markdown",
   "metadata": {},
   "source": [
    "Integre numericamente la siguiente ecuación:\n",
    "$$f(x,y,z)=2x+3y+z$$\n",
    "\n",
    "con $x$ desde $a = 0$ hasta $b = 2$, $y$ desde $c = -1$ hasta $d = 1$, $z$ desde $e = 0$ hasta $f = 1$ ."
   ]
  },
  {
   "cell_type": "markdown",
   "metadata": {},
   "source": [
    "<h4>Solución:</h4>"
   ]
  },
  {
   "cell_type": "markdown",
   "metadata": {},
   "source": [
    "Iniciamos variables:\n",
    "\n"
   ]
  },
  {
   "cell_type": "code",
   "execution_count": 27,
   "metadata": {},
   "outputs": [],
   "source": [
    "import sympy as sy\n",
    "a = 0.0 # Límite inferior para x\n",
    "b = 2.0 # Límite superior para x\n",
    "\n",
    "c = -1.0 # Límite inferior para y\n",
    "d = 1.0 # Límite superior para y\n",
    "\n",
    "e = 0.0 # Límite inferior para z\n",
    "f = 1.0 # Límite superior para z\n",
    "\n",
    "x, y, z= sy.symbols('x y z')\n",
    "f_x = sy.sympify('2*x + 3*y + z') # Ecuación a integrar "
   ]
  },
  {
   "cell_type": "markdown",
   "metadata": {},
   "source": [
    "Coeficientes y abscisas del método de la cuadratura de Gauss:"
   ]
  },
  {
   "cell_type": "code",
   "execution_count": 28,
   "metadata": {},
   "outputs": [],
   "source": [
    "w = [[1,1],\n",
    "\t[0.55555,0.88888,0.55555],\n",
    "\t[0.3478548451,0.6521451549,0.6521451549,0.3478548451],\n",
    "\t[0.2369268851,0.4786286705,0.5688888888,0.4786286705,0.2369268851],\n",
    "\t[0.1713244924,0.3607615730,0.4679139346,0.4679139346,0.3607615730,0.1713244924],\n",
    "\t]\n",
    "\n",
    "zm = [[-0.5773502692,0.5773502692],\n",
    "\t[-0.7745966692,0,0.7745966692],\n",
    "\t[-0.8611363116,-0.3399810436,0.3399810436,0.8611363116],\n",
    "\t[-0.9061798459,-0.5384693101,0,0.5384693101,0.9061798459],\n",
    "\t[-0.9324695142,-0.6612093865,-0.2386191861,0.2386191861,0.6612093865,0.9324695142],\n",
    "\t]"
   ]
  },
  {
   "cell_type": "markdown",
   "metadata": {},
   "source": [
    "Cálculos iniciales:"
   ]
  },
  {
   "cell_type": "code",
   "execution_count": 29,
   "metadata": {},
   "outputs": [],
   "source": [
    "n = 5\t# Número de puntos a emplear: 2,3,4,5,6  Obs:se recomienda 3 puntos mínimo\n",
    "\n",
    "k = (b - a)/2\n",
    "w1 = w[n - 2]\n",
    "z1 = zm[n - 2]"
   ]
  },
  {
   "cell_type": "markdown",
   "metadata": {},
   "source": [
    "Iteraciones:"
   ]
  },
  {
   "cell_type": "code",
   "execution_count": 30,
   "metadata": {},
   "outputs": [],
   "source": [
    "# Respecto a x\n",
    "I = 0\n",
    "for i in range(len(w1)):\t\t\n",
    "\tI = I + w1[i] * f_x.subs(x,z1[i] * (b - a) / 2 + (a + b) / 2)\n",
    "\n",
    "\n",
    "# Respecto a y\n",
    "f_y = I * k  # Ecuación a integrar respecto a y\n",
    "k = (d - c) / 2 \n",
    "\n",
    "I = 0\n",
    "for i in range(len(w1)):\t\t\n",
    "\tI = I + w1[i] * f_y.subs(y, z1[i] * (d - c) / 2 + (c + d) / 2)\t\n",
    "    \n",
    "# Respecto a z\n",
    "f_z = I * k  # Ecuación a integrar respecto a z\n",
    "k = (f - e) / 2 \n",
    "\n",
    "I = 0\n",
    "for i in range(len(w1)):\t\t\n",
    "\tI = I + w1[i] * f_z.subs(z, z1[i] * (f - e) / 2 + (e + f) / 2)\t"
   ]
  },
  {
   "cell_type": "markdown",
   "metadata": {},
   "source": [
    "Resultado:\n"
   ]
  },
  {
   "cell_type": "code",
   "execution_count": 31,
   "metadata": {},
   "outputs": [
    {
     "name": "stdout",
     "output_type": "stream",
     "text": [
      "I = 10.00000\n"
     ]
    }
   ],
   "source": [
    "print(\"I = %.5f\"%(I * k))"
   ]
  }
 ],
 "metadata": {
  "kernelspec": {
   "display_name": "Python 3",
   "language": "python",
   "name": "python3"
  },
  "language_info": {
   "codemirror_mode": {
    "name": "ipython",
    "version": 3
   },
   "file_extension": ".py",
   "mimetype": "text/x-python",
   "name": "python",
   "nbconvert_exporter": "python",
   "pygments_lexer": "ipython3",
   "version": "3.8.5"
  }
 },
 "nbformat": 4,
 "nbformat_minor": 4
}
